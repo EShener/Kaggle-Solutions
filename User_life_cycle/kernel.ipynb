{
  "cells": [
    {
      "metadata": {
        "_uuid": "8f2839f25d086af736a60e9eeb907d3b93b6e0e5",
        "_cell_guid": "b1076dfc-b9ad-4769-8c92-a6c4dae69d19",
        "trusted": true
      },
      "cell_type": "code",
      "source": "# This Python 3 environment comes with many helpful analytics libraries installed\n# It is defined by the kaggle/python docker image: https://github.com/kaggle/docker-python\n# For example, here's several helpful packages to load in \n\nimport numpy as np # linear algebra\nimport pandas as pd # data processing, CSV file I/O (e.g. pd.read_csv)\n\n# Input data files are available in the \"../input/\" directory.\n# For example, running this (by clicking run or pressing Shift+Enter) will list the files in the input directory\n\nimport os\nprint(os.listdir(\"../input\"))\n\n# Any results you write to the current directory are saved as output.",
      "execution_count": null,
      "outputs": []
    },
    {
      "metadata": {
        "_cell_guid": "79c7e3d0-c299-4dcb-8224-4455121ee9b0",
        "collapsed": true,
        "_uuid": "d629ff2d2480ee46fbb7e2d37f6b5fab8052498a",
        "trusted": false
      },
      "cell_type": "markdown",
      "source": "# 读入数据"
    },
    {
      "metadata": {
        "trusted": true,
        "_uuid": "5cfb12b7c1770df1f1b506e99249fe9375e7892c"
      },
      "cell_type": "code",
      "source": "df_history = pd.read_csv('../input/historical_transactions.csv')",
      "execution_count": null,
      "outputs": []
    },
    {
      "metadata": {
        "trusted": true,
        "_uuid": "e804d75c2913033b6105e0b3e4991b5370cb3276"
      },
      "cell_type": "code",
      "source": "df_history.head(1)",
      "execution_count": null,
      "outputs": []
    },
    {
      "metadata": {
        "trusted": true,
        "_uuid": "e89a42ad725e7581beebbbb0fa6a3b963e7a9891"
      },
      "cell_type": "code",
      "source": "df_merchant = pd.read_csv('../input/merchants.csv')",
      "execution_count": null,
      "outputs": []
    },
    {
      "metadata": {
        "trusted": true,
        "_uuid": "a6e624084199962b8d62d6e8a84c3d8d91a42ea4"
      },
      "cell_type": "code",
      "source": "df_merchant.head(1)",
      "execution_count": null,
      "outputs": []
    },
    {
      "metadata": {
        "trusted": true,
        "_uuid": "de5d4581cbdb9f12a0f73ee049a7fc6183d3f1a5"
      },
      "cell_type": "code",
      "source": "df_new_merchant = pd.read_csv('../input/new_merchant_transactions.csv')",
      "execution_count": null,
      "outputs": []
    },
    {
      "metadata": {
        "trusted": true,
        "_uuid": "5f1be5296405bd2fe6ca2352cef567e90916d230"
      },
      "cell_type": "code",
      "source": "df_new_merchant.head(1)",
      "execution_count": null,
      "outputs": []
    },
    {
      "metadata": {
        "trusted": true,
        "_uuid": "46fe5dc6e8a3809ae43ced92472371bc9a147fb7"
      },
      "cell_type": "code",
      "source": "df_train = pd.read_csv('../input/train.csv')",
      "execution_count": null,
      "outputs": []
    },
    {
      "metadata": {
        "trusted": true,
        "_uuid": "954d5792592f67a07d7df1cdaa1c5ea13ad29a4b"
      },
      "cell_type": "code",
      "source": "df_train.head(1)",
      "execution_count": null,
      "outputs": []
    },
    {
      "metadata": {
        "trusted": true,
        "_uuid": "ae2c401496fe8aca16d88453b4a3964a159fc9f0"
      },
      "cell_type": "code",
      "source": "df_test = pd.read_csv('../input/test.csv')",
      "execution_count": null,
      "outputs": []
    },
    {
      "metadata": {
        "trusted": true,
        "_uuid": "212e7f873ec38f4cf44c132342085ae81c60d727"
      },
      "cell_type": "code",
      "source": "df_test.head(1)",
      "execution_count": null,
      "outputs": []
    },
    {
      "metadata": {
        "_uuid": "8577bc668b366f96cad5c2cbb1025e2f682853f1"
      },
      "cell_type": "markdown",
      "source": "# 特征工程"
    },
    {
      "metadata": {
        "trusted": true,
        "_uuid": "7254adad86e790388784c2bde08bede261350e9a"
      },
      "cell_type": "markdown",
      "source": "## 加载必须特征"
    },
    {
      "metadata": {
        "trusted": true,
        "_uuid": "aecd7dd102be64a8e3de50c1eaf98da3a314f105"
      },
      "cell_type": "code",
      "source": "",
      "execution_count": null,
      "outputs": []
    },
    {
      "metadata": {
        "trusted": true,
        "_uuid": "a21087d905ccf67b5e96dc55bf8411ad220fd210"
      },
      "cell_type": "code",
      "source": "",
      "execution_count": null,
      "outputs": []
    },
    {
      "metadata": {
        "trusted": true,
        "_uuid": "a91a0ef970252b7d401e19b2cc9fb978a5e6807a"
      },
      "cell_type": "markdown",
      "source": "# EDA"
    },
    {
      "metadata": {
        "trusted": true,
        "_uuid": "8e0c9e946f3a6a73a956ce83223d16b03d5f67dd"
      },
      "cell_type": "code",
      "source": "",
      "execution_count": null,
      "outputs": []
    },
    {
      "metadata": {
        "trusted": true,
        "_uuid": "35168b124eb68d26b642f60c75823c655782b978"
      },
      "cell_type": "code",
      "source": "",
      "execution_count": null,
      "outputs": []
    },
    {
      "metadata": {
        "trusted": true,
        "_uuid": "062b62c1b0785ef0c299b0f8745544b9298b5c31"
      },
      "cell_type": "code",
      "source": "",
      "execution_count": null,
      "outputs": []
    },
    {
      "metadata": {
        "trusted": true,
        "_uuid": "8714bf57b01134b1466bda771ed4656b7bd3a734"
      },
      "cell_type": "code",
      "source": "",
      "execution_count": null,
      "outputs": []
    },
    {
      "metadata": {
        "trusted": true,
        "_uuid": "22b63d5e50380bf583112724d6a5ebeaa031de9e"
      },
      "cell_type": "code",
      "source": "",
      "execution_count": null,
      "outputs": []
    },
    {
      "metadata": {
        "_uuid": "896bdcb018a7b00a9da1a7fbe321feb0d9df741c"
      },
      "cell_type": "markdown",
      "source": "#  算法模型"
    },
    {
      "metadata": {
        "trusted": true,
        "_uuid": "5e9458526c1088d87b8959cbc15118ca78465648"
      },
      "cell_type": "code",
      "source": "",
      "execution_count": null,
      "outputs": []
    },
    {
      "metadata": {
        "trusted": true,
        "_uuid": "d817cbb297671722c107f48f2fa9ad580934dcce"
      },
      "cell_type": "code",
      "source": "",
      "execution_count": null,
      "outputs": []
    },
    {
      "metadata": {
        "trusted": true,
        "_uuid": "e8c1a0c4c85f5c7aa5d4a7c56edee175d86bf0e6"
      },
      "cell_type": "code",
      "source": "",
      "execution_count": null,
      "outputs": []
    },
    {
      "metadata": {
        "trusted": true,
        "_uuid": "5d68901c3138639a1e7f010e4cfdc178d80bcdc6"
      },
      "cell_type": "code",
      "source": "",
      "execution_count": null,
      "outputs": []
    },
    {
      "metadata": {
        "_uuid": "173df181473f94f97239dd1fc5cf4093a122c10c"
      },
      "cell_type": "markdown",
      "source": "# 调参"
    },
    {
      "metadata": {
        "trusted": true,
        "_uuid": "bdf9dadc6505ae7062dd813a1f6a4d9ccca3cb20"
      },
      "cell_type": "code",
      "source": "",
      "execution_count": null,
      "outputs": []
    },
    {
      "metadata": {
        "trusted": true,
        "_uuid": "c62c503e19cedc7c8bbc8798033cd69409742c58"
      },
      "cell_type": "code",
      "source": "",
      "execution_count": null,
      "outputs": []
    },
    {
      "metadata": {
        "_uuid": "f2a265f356529160292f16f1e17a1450828c7aca"
      },
      "cell_type": "markdown",
      "source": "# 结果迭代"
    },
    {
      "metadata": {
        "trusted": true,
        "_uuid": "b77fa71d07a1f50d09405ddfc7125ffde82ef202"
      },
      "cell_type": "code",
      "source": "",
      "execution_count": null,
      "outputs": []
    }
  ],
  "metadata": {
    "kernelspec": {
      "display_name": "Python 3",
      "language": "python",
      "name": "python3"
    },
    "language_info": {
      "name": "python",
      "version": "3.6.6",
      "mimetype": "text/x-python",
      "codemirror_mode": {
        "name": "ipython",
        "version": 3
      },
      "pygments_lexer": "ipython3",
      "nbconvert_exporter": "python",
      "file_extension": ".py"
    }
  },
  "nbformat": 4,
  "nbformat_minor": 1
}