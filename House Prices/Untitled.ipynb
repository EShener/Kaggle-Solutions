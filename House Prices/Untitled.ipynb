{
 "cells": [
  {
   "cell_type": "markdown",
   "metadata": {},
   "source": [
    "# 定义问题"
   ]
  },
  {
   "cell_type": "markdown",
   "metadata": {},
   "source": [
    "It is your job to predict the sales price for each house. For each Id in the test set, you must predict the value of the SalePrice variable. \n",
    "\n",
    "预测房价\n",
    "With 79 explanatory variables describing (almost) every aspect of residential homes in Ames, Iowa, this competition challenges you to predict the final price of each home."
   ]
  },
  {
   "cell_type": "markdown",
   "metadata": {},
   "source": [
    "# 获取数据"
   ]
  },
  {
   "cell_type": "markdown",
   "metadata": {},
   "source": [
    "Kaggle:https://www.kaggle.com/c/house-prices-advanced-regression-techniques/data"
   ]
  },
  {
   "cell_type": "markdown",
   "metadata": {},
   "source": [
    "# 数据预处理"
   ]
  },
  {
   "cell_type": "markdown",
   "metadata": {},
   "source": [
    "## 导入环境库"
   ]
  },
  {
   "cell_type": "code",
   "execution_count": 1,
   "metadata": {
    "collapsed": false,
    "scrolled": false
   },
   "outputs": [
    {
     "name": "stdout",
     "output_type": "stream",
     "text": [
      "Python version: 2.7.13 |Anaconda custom (x86_64)| (default, Dec 20 2016, 23:05:08) \n",
      "[GCC 4.2.1 Compatible Apple LLVM 6.0 (clang-600.0.57)]\n",
      "pandas version: 0.23.3\n",
      "matplotlib version: 2.0.0\n",
      "NumPy version: 1.12.1\n",
      "SciPy version: 1.1.0\n",
      "IPython version: 5.1.0\n",
      "scikit-learn version: 0.19.1\n",
      "-------------------------\n"
     ]
    }
   ],
   "source": [
    "#load packages， 打印，便于可复现\n",
    "import sys #access to system parameters https://docs.python.org/3/library/sys.html\n",
    "print(\"Python version: {}\". format(sys.version))\n",
    "\n",
    "import pandas as pd #collection of functions for data processing and analysis modeled after R dataframes with SQL like features\n",
    "print(\"pandas version: {}\". format(pd.__version__))\n",
    "\n",
    "import matplotlib #collection of functions for scientific and publication-ready visualization\n",
    "print(\"matplotlib version: {}\". format(matplotlib.__version__))\n",
    "\n",
    "import numpy as np #foundational package for scientific computing\n",
    "print(\"NumPy version: {}\". format(np.__version__))\n",
    "\n",
    "import scipy as sp #collection of functions for scientific computing and advance mathematics\n",
    "print(\"SciPy version: {}\". format(sp.__version__)) \n",
    "\n",
    "import IPython\n",
    "from IPython import display #pretty printing of dataframes in Jupyter notebook\n",
    "print(\"IPython version: {}\". format(IPython.__version__)) \n",
    "\n",
    "import sklearn #collection of machine learning algorithms\n",
    "print(\"scikit-learn version: {}\". format(sklearn.__version__))\n",
    "\n",
    "#misc libraries\n",
    "import random\n",
    "import time\n",
    "\n",
    "\n",
    "#ignore warnings\n",
    "import warnings\n",
    "warnings.filterwarnings('ignore')\n",
    "print('-'*25)\n",
    "\n"
   ]
  },
  {
   "cell_type": "markdown",
   "metadata": {},
   "source": [
    "## 导入数据模型与可视化库"
   ]
  },
  {
   "cell_type": "code",
   "execution_count": 2,
   "metadata": {
    "collapsed": true
   },
   "outputs": [],
   "source": [
    "#Common Model Algorithms\n",
    "from sklearn import svm, tree, linear_model, neighbors, naive_bayes, ensemble, discriminant_analysis, gaussian_process\n",
    "from xgboost import XGBClassifier\n",
    "\n",
    "#Common Model Helpers\n",
    "from sklearn.preprocessing import OneHotEncoder, LabelEncoder\n",
    "from sklearn import feature_selection\n",
    "from sklearn import model_selection\n",
    "from sklearn import metrics\n",
    "\n",
    "#Visualization\n",
    "import matplotlib as mpl\n",
    "import matplotlib.pyplot as plt\n",
    "import matplotlib.pylab as pylab\n",
    "import seaborn as sns\n",
    "from pandas.tools.plotting import scatter_matrix\n",
    "\n",
    "#Configure Visualization Defaults\n",
    "#%matplotlib inline = show plots in Jupyter Notebook browser\n",
    "%matplotlib inline\n",
    "mpl.style.use('ggplot')\n",
    "sns.set_style('white')\n",
    "pylab.rcParams['figure.figsize'] = 12,8"
   ]
  },
  {
   "cell_type": "markdown",
   "metadata": {},
   "source": [
    "## 载入总览数据"
   ]
  },
  {
   "cell_type": "code",
   "execution_count": 77,
   "metadata": {
    "collapsed": false,
    "scrolled": true
   },
   "outputs": [
    {
     "data": {
      "text/html": [
       "<div>\n",
       "<style scoped>\n",
       "    .dataframe tbody tr th:only-of-type {\n",
       "        vertical-align: middle;\n",
       "    }\n",
       "\n",
       "    .dataframe tbody tr th {\n",
       "        vertical-align: top;\n",
       "    }\n",
       "\n",
       "    .dataframe thead th {\n",
       "        text-align: right;\n",
       "    }\n",
       "</style>\n",
       "<table border=\"1\" class=\"dataframe\">\n",
       "  <thead>\n",
       "    <tr style=\"text-align: right;\">\n",
       "      <th></th>\n",
       "      <th>Id</th>\n",
       "      <th>MSSubClass</th>\n",
       "      <th>LotFrontage</th>\n",
       "      <th>LotArea</th>\n",
       "      <th>OverallQual</th>\n",
       "      <th>OverallCond</th>\n",
       "      <th>YearBuilt</th>\n",
       "      <th>YearRemodAdd</th>\n",
       "      <th>MasVnrArea</th>\n",
       "      <th>BsmtFinSF1</th>\n",
       "      <th>...</th>\n",
       "      <th>WoodDeckSF</th>\n",
       "      <th>OpenPorchSF</th>\n",
       "      <th>EnclosedPorch</th>\n",
       "      <th>3SsnPorch</th>\n",
       "      <th>ScreenPorch</th>\n",
       "      <th>PoolArea</th>\n",
       "      <th>MiscVal</th>\n",
       "      <th>MoSold</th>\n",
       "      <th>YrSold</th>\n",
       "      <th>SalePrice</th>\n",
       "    </tr>\n",
       "  </thead>\n",
       "  <tbody>\n",
       "    <tr>\n",
       "      <th>count</th>\n",
       "      <td>1460.000000</td>\n",
       "      <td>1460.000000</td>\n",
       "      <td>1201.000000</td>\n",
       "      <td>1460.000000</td>\n",
       "      <td>1460.000000</td>\n",
       "      <td>1460.000000</td>\n",
       "      <td>1460.000000</td>\n",
       "      <td>1460.000000</td>\n",
       "      <td>1452.000000</td>\n",
       "      <td>1460.000000</td>\n",
       "      <td>...</td>\n",
       "      <td>1460.000000</td>\n",
       "      <td>1460.000000</td>\n",
       "      <td>1460.000000</td>\n",
       "      <td>1460.000000</td>\n",
       "      <td>1460.000000</td>\n",
       "      <td>1460.000000</td>\n",
       "      <td>1460.000000</td>\n",
       "      <td>1460.000000</td>\n",
       "      <td>1460.000000</td>\n",
       "      <td>1460.000000</td>\n",
       "    </tr>\n",
       "    <tr>\n",
       "      <th>mean</th>\n",
       "      <td>730.500000</td>\n",
       "      <td>56.897260</td>\n",
       "      <td>70.049958</td>\n",
       "      <td>10516.828082</td>\n",
       "      <td>6.099315</td>\n",
       "      <td>5.575342</td>\n",
       "      <td>1971.267808</td>\n",
       "      <td>1984.865753</td>\n",
       "      <td>103.685262</td>\n",
       "      <td>443.639726</td>\n",
       "      <td>...</td>\n",
       "      <td>94.244521</td>\n",
       "      <td>46.660274</td>\n",
       "      <td>21.954110</td>\n",
       "      <td>3.409589</td>\n",
       "      <td>15.060959</td>\n",
       "      <td>2.758904</td>\n",
       "      <td>43.489041</td>\n",
       "      <td>6.321918</td>\n",
       "      <td>2007.815753</td>\n",
       "      <td>180921.195890</td>\n",
       "    </tr>\n",
       "    <tr>\n",
       "      <th>std</th>\n",
       "      <td>421.610009</td>\n",
       "      <td>42.300571</td>\n",
       "      <td>24.284752</td>\n",
       "      <td>9981.264932</td>\n",
       "      <td>1.382997</td>\n",
       "      <td>1.112799</td>\n",
       "      <td>30.202904</td>\n",
       "      <td>20.645407</td>\n",
       "      <td>181.066207</td>\n",
       "      <td>456.098091</td>\n",
       "      <td>...</td>\n",
       "      <td>125.338794</td>\n",
       "      <td>66.256028</td>\n",
       "      <td>61.119149</td>\n",
       "      <td>29.317331</td>\n",
       "      <td>55.757415</td>\n",
       "      <td>40.177307</td>\n",
       "      <td>496.123024</td>\n",
       "      <td>2.703626</td>\n",
       "      <td>1.328095</td>\n",
       "      <td>79442.502883</td>\n",
       "    </tr>\n",
       "    <tr>\n",
       "      <th>min</th>\n",
       "      <td>1.000000</td>\n",
       "      <td>20.000000</td>\n",
       "      <td>21.000000</td>\n",
       "      <td>1300.000000</td>\n",
       "      <td>1.000000</td>\n",
       "      <td>1.000000</td>\n",
       "      <td>1872.000000</td>\n",
       "      <td>1950.000000</td>\n",
       "      <td>0.000000</td>\n",
       "      <td>0.000000</td>\n",
       "      <td>...</td>\n",
       "      <td>0.000000</td>\n",
       "      <td>0.000000</td>\n",
       "      <td>0.000000</td>\n",
       "      <td>0.000000</td>\n",
       "      <td>0.000000</td>\n",
       "      <td>0.000000</td>\n",
       "      <td>0.000000</td>\n",
       "      <td>1.000000</td>\n",
       "      <td>2006.000000</td>\n",
       "      <td>34900.000000</td>\n",
       "    </tr>\n",
       "    <tr>\n",
       "      <th>25%</th>\n",
       "      <td>365.750000</td>\n",
       "      <td>20.000000</td>\n",
       "      <td>59.000000</td>\n",
       "      <td>7553.500000</td>\n",
       "      <td>5.000000</td>\n",
       "      <td>5.000000</td>\n",
       "      <td>1954.000000</td>\n",
       "      <td>1967.000000</td>\n",
       "      <td>0.000000</td>\n",
       "      <td>0.000000</td>\n",
       "      <td>...</td>\n",
       "      <td>0.000000</td>\n",
       "      <td>0.000000</td>\n",
       "      <td>0.000000</td>\n",
       "      <td>0.000000</td>\n",
       "      <td>0.000000</td>\n",
       "      <td>0.000000</td>\n",
       "      <td>0.000000</td>\n",
       "      <td>5.000000</td>\n",
       "      <td>2007.000000</td>\n",
       "      <td>129975.000000</td>\n",
       "    </tr>\n",
       "    <tr>\n",
       "      <th>50%</th>\n",
       "      <td>730.500000</td>\n",
       "      <td>50.000000</td>\n",
       "      <td>69.000000</td>\n",
       "      <td>9478.500000</td>\n",
       "      <td>6.000000</td>\n",
       "      <td>5.000000</td>\n",
       "      <td>1973.000000</td>\n",
       "      <td>1994.000000</td>\n",
       "      <td>0.000000</td>\n",
       "      <td>383.500000</td>\n",
       "      <td>...</td>\n",
       "      <td>0.000000</td>\n",
       "      <td>25.000000</td>\n",
       "      <td>0.000000</td>\n",
       "      <td>0.000000</td>\n",
       "      <td>0.000000</td>\n",
       "      <td>0.000000</td>\n",
       "      <td>0.000000</td>\n",
       "      <td>6.000000</td>\n",
       "      <td>2008.000000</td>\n",
       "      <td>163000.000000</td>\n",
       "    </tr>\n",
       "    <tr>\n",
       "      <th>75%</th>\n",
       "      <td>1095.250000</td>\n",
       "      <td>70.000000</td>\n",
       "      <td>80.000000</td>\n",
       "      <td>11601.500000</td>\n",
       "      <td>7.000000</td>\n",
       "      <td>6.000000</td>\n",
       "      <td>2000.000000</td>\n",
       "      <td>2004.000000</td>\n",
       "      <td>166.000000</td>\n",
       "      <td>712.250000</td>\n",
       "      <td>...</td>\n",
       "      <td>168.000000</td>\n",
       "      <td>68.000000</td>\n",
       "      <td>0.000000</td>\n",
       "      <td>0.000000</td>\n",
       "      <td>0.000000</td>\n",
       "      <td>0.000000</td>\n",
       "      <td>0.000000</td>\n",
       "      <td>8.000000</td>\n",
       "      <td>2009.000000</td>\n",
       "      <td>214000.000000</td>\n",
       "    </tr>\n",
       "    <tr>\n",
       "      <th>max</th>\n",
       "      <td>1460.000000</td>\n",
       "      <td>190.000000</td>\n",
       "      <td>313.000000</td>\n",
       "      <td>215245.000000</td>\n",
       "      <td>10.000000</td>\n",
       "      <td>9.000000</td>\n",
       "      <td>2010.000000</td>\n",
       "      <td>2010.000000</td>\n",
       "      <td>1600.000000</td>\n",
       "      <td>5644.000000</td>\n",
       "      <td>...</td>\n",
       "      <td>857.000000</td>\n",
       "      <td>547.000000</td>\n",
       "      <td>552.000000</td>\n",
       "      <td>508.000000</td>\n",
       "      <td>480.000000</td>\n",
       "      <td>738.000000</td>\n",
       "      <td>15500.000000</td>\n",
       "      <td>12.000000</td>\n",
       "      <td>2010.000000</td>\n",
       "      <td>755000.000000</td>\n",
       "    </tr>\n",
       "  </tbody>\n",
       "</table>\n",
       "<p>8 rows × 38 columns</p>\n",
       "</div>"
      ],
      "text/plain": [
       "                Id   MSSubClass  LotFrontage        LotArea  OverallQual  \\\n",
       "count  1460.000000  1460.000000  1201.000000    1460.000000  1460.000000   \n",
       "mean    730.500000    56.897260    70.049958   10516.828082     6.099315   \n",
       "std     421.610009    42.300571    24.284752    9981.264932     1.382997   \n",
       "min       1.000000    20.000000    21.000000    1300.000000     1.000000   \n",
       "25%     365.750000    20.000000    59.000000    7553.500000     5.000000   \n",
       "50%     730.500000    50.000000    69.000000    9478.500000     6.000000   \n",
       "75%    1095.250000    70.000000    80.000000   11601.500000     7.000000   \n",
       "max    1460.000000   190.000000   313.000000  215245.000000    10.000000   \n",
       "\n",
       "       OverallCond    YearBuilt  YearRemodAdd   MasVnrArea   BsmtFinSF1  \\\n",
       "count  1460.000000  1460.000000   1460.000000  1452.000000  1460.000000   \n",
       "mean      5.575342  1971.267808   1984.865753   103.685262   443.639726   \n",
       "std       1.112799    30.202904     20.645407   181.066207   456.098091   \n",
       "min       1.000000  1872.000000   1950.000000     0.000000     0.000000   \n",
       "25%       5.000000  1954.000000   1967.000000     0.000000     0.000000   \n",
       "50%       5.000000  1973.000000   1994.000000     0.000000   383.500000   \n",
       "75%       6.000000  2000.000000   2004.000000   166.000000   712.250000   \n",
       "max       9.000000  2010.000000   2010.000000  1600.000000  5644.000000   \n",
       "\n",
       "           ...         WoodDeckSF  OpenPorchSF  EnclosedPorch    3SsnPorch  \\\n",
       "count      ...        1460.000000  1460.000000    1460.000000  1460.000000   \n",
       "mean       ...          94.244521    46.660274      21.954110     3.409589   \n",
       "std        ...         125.338794    66.256028      61.119149    29.317331   \n",
       "min        ...           0.000000     0.000000       0.000000     0.000000   \n",
       "25%        ...           0.000000     0.000000       0.000000     0.000000   \n",
       "50%        ...           0.000000    25.000000       0.000000     0.000000   \n",
       "75%        ...         168.000000    68.000000       0.000000     0.000000   \n",
       "max        ...         857.000000   547.000000     552.000000   508.000000   \n",
       "\n",
       "       ScreenPorch     PoolArea       MiscVal       MoSold       YrSold  \\\n",
       "count  1460.000000  1460.000000   1460.000000  1460.000000  1460.000000   \n",
       "mean     15.060959     2.758904     43.489041     6.321918  2007.815753   \n",
       "std      55.757415    40.177307    496.123024     2.703626     1.328095   \n",
       "min       0.000000     0.000000      0.000000     1.000000  2006.000000   \n",
       "25%       0.000000     0.000000      0.000000     5.000000  2007.000000   \n",
       "50%       0.000000     0.000000      0.000000     6.000000  2008.000000   \n",
       "75%       0.000000     0.000000      0.000000     8.000000  2009.000000   \n",
       "max     480.000000   738.000000  15500.000000    12.000000  2010.000000   \n",
       "\n",
       "           SalePrice  \n",
       "count    1460.000000  \n",
       "mean   180921.195890  \n",
       "std     79442.502883  \n",
       "min     34900.000000  \n",
       "25%    129975.000000  \n",
       "50%    163000.000000  \n",
       "75%    214000.000000  \n",
       "max    755000.000000  \n",
       "\n",
       "[8 rows x 38 columns]"
      ]
     },
     "execution_count": 77,
     "metadata": {},
     "output_type": "execute_result"
    }
   ],
   "source": [
    "train_df = pd.read_csv('train.csv')\n",
    "test_df = pd.read_csv('test.csv')\n",
    "\n",
    "'''\n",
    "预测SalePrice的值\n",
    "'''\n",
    "\n",
    "# train_df.columns \n",
    "# train_df.shape\n",
    "train_df.describe()\n",
    "# train_df.info()\n",
    "# print '%' * 40\n",
    "# test_df.info()\n",
    "# train_df.head(10)\n",
    "# train_df.info()\n",
    "# print train_df.describe(include = 'all')\n",
    "# print '%' * 40\n",
    "# test_df.info()"
   ]
  },
  {
   "cell_type": "markdown",
   "metadata": {},
   "source": [
    "## 4C分析"
   ]
  },
  {
   "cell_type": "markdown",
   "metadata": {},
   "source": [
    "数据的：\n",
    "\n",
    "正确性：Reviewing the data, there does not appear to be any aberrant or non-acceptable data inputs.异常值\n",
    "\n",
    "完整性：NULL / NAN。删除/补全\n",
    "\n",
    "创造性：Feature engineering is when we use existing features to create new features to determine if they provide new signals to predict our outcome. For this dataset, we will create a title feature to determine if it played a role in survival.\n",
    "\n",
    "转变：类别数据 -> 独热编码"
   ]
  },
  {
   "cell_type": "markdown",
   "metadata": {},
   "source": [
    "### 完整性 (缺失值)"
   ]
  },
  {
   "cell_type": "markdown",
   "metadata": {},
   "source": [
    "https://discuss.analyticsvidhya.com/t/what-should-be-the-allowed-percentage-of-missing-values/2456\n",
    "\n",
    "I：允许的missing values的数目，先定25%"
   ]
  },
  {
   "cell_type": "code",
   "execution_count": 4,
   "metadata": {
    "code_folding": [
     0
    ],
    "collapsed": false
   },
   "outputs": [],
   "source": [
    "# # Missing Data的百分比\n",
    "# total = train_df.isnull().sum().sort_values(ascending=False)\n",
    "# percent = (train_df.isnull().sum()/train_df.isnull().count()).sort_values(ascending=False)\n",
    "# missing_data = pd.concat([total, percent], axis=1, keys=['Total', 'Percent'])\n",
    "# # print missing_data.head(20)\n",
    "\n",
    "# total2 = test_df.isnull().sum().sort_values(ascending=False)\n",
    "# percent2 = (test_df.isnull().sum()/test_df.isnull().count()).sort_values(ascending=False)\n",
    "# missing_data2 = pd.concat([total2, percent2], axis=1, keys=['Total', 'Percent'])\n",
    "# # print missing_data2.head(20)"
   ]
  },
  {
   "cell_type": "code",
   "execution_count": 5,
   "metadata": {
    "collapsed": false
   },
   "outputs": [
    {
     "name": "stdout",
     "output_type": "stream",
     "text": [
      "%%%%%%%%%%%%%%%%%%%%%%%%%%%%%%%%%%%%%%%%\n",
      "Train columns with null values:\n",
      "Index([u'Alley', u'FireplaceQu', u'PoolQC', u'Fence', u'MiscFeature'], dtype='object')\n",
      "%%%%%%%%%%%%%%%%%%%%%%%%%%%%%%%%%%%%%%%%\n",
      "Test columns with null values:\n",
      "Index([u'Alley', u'FireplaceQu', u'PoolQC', u'Fence', u'MiscFeature'], dtype='object')\n"
     ]
    }
   ],
   "source": [
    "train_df.describe(include = 'all')\n",
    "print '%' * 40\n",
    "\n",
    "# print train_df.loc[:,'MasVnrType']\n",
    "\n",
    "# train_df['MasVnrType'] = train_df['MasVnrType'].replace(['None'],None )\n",
    "# train_df.loc[:,'MasVnrType'] =  train_df['MasVnrType'].apply(lambda x: None if x == 'None' else x)\n",
    "# print type(train_df.loc[1,'MasVnrType'])\n",
    "\n",
    "limit_missing_values = 0.25\n",
    "train_limit_missing_values = len(train_df) * limit_missing_values \n",
    "print \"Train columns with null values:\\n\", train_df.columns[train_df.isnull().sum().values > train_limit_missing_values]  # 依列为标准，column\n",
    "print '%'*40\n",
    "\n",
    "test_limit_missing_values = len(test_df) * limit_missing_values\n",
    "print \"Test columns with null values:\\n\", test_df.columns[test_df.isnull().sum().values > test_limit_missing_values]\n",
    "\n"
   ]
  },
  {
   "cell_type": "markdown",
   "metadata": {},
   "source": [
    "❌ 丢弃过多空数据的列\n",
    "\n",
    "部分类别数据中的NA非未计数/计数误差，而是无（地下室，游泳池🏊等，填充字符串“None”）"
   ]
  },
  {
   "cell_type": "code",
   "execution_count": 6,
   "metadata": {
    "code_folding": [
     0
    ],
    "collapsed": false,
    "scrolled": true
   },
   "outputs": [],
   "source": [
    "# drop_columns = ['Alley', u'FireplaceQu', u'PoolQC', u'Fence', u'MiscFeature']\n",
    "# train_df = train_df.drop(drop_columns, axis=1)\n",
    "# test_df = test_df.drop(drop_columns, axis=1)\n",
    "\n",
    "# # train_df = train_df.drop(missing_data[missing_data['Total'] > 1].index, axis=1)\n",
    "# # train_df = train_df.drop(train_df.loc[train_df['Electrical'].isnull()].index)\n",
    "# train_df.isnull().sum().max()\n",
    "\n",
    "# # test_df = test_df.drop(missing_data[missing_data['Total'] > 1].index, axis=1)\n",
    "# test_df.isnull().sum().max()\n"
   ]
  },
  {
   "cell_type": "code",
   "execution_count": 7,
   "metadata": {
    "code_folding": [],
    "collapsed": false,
    "scrolled": true
   },
   "outputs": [],
   "source": [
    "# train_df.columns"
   ]
  },
  {
   "cell_type": "markdown",
   "metadata": {},
   "source": [
    "II:特征意义"
   ]
  },
  {
   "cell_type": "markdown",
   "metadata": {},
   "source": [
    "特征意义：\n",
    "\n",
    "0、ID 无意义，去掉\n",
    "\n",
    "1、MSSubClass 住所风格\n",
    "\n",
    "2、MSZoing 地带\n",
    "\n",
    "3、LotFrontage 住宅到街道的步行距离\n",
    "\n",
    "4、LotArea 地块面积\n",
    "\n",
    "5、。。"
   ]
  },
  {
   "cell_type": "markdown",
   "metadata": {},
   "source": [
    "III: 填充空数据\n",
    "\n",
    "数值：中位数\n",
    "\n",
    "类别：众数"
   ]
  },
  {
   "cell_type": "code",
   "execution_count": 8,
   "metadata": {
    "collapsed": false
   },
   "outputs": [
    {
     "name": "stdout",
     "output_type": "stream",
     "text": [
      "['LotFrontage', 'Alley', 'MasVnrType', 'MasVnrArea', 'BsmtQual', 'BsmtCond', 'BsmtExposure', 'BsmtFinType1', 'BsmtFinType2', 'Electrical', 'FireplaceQu', 'GarageType', 'GarageYrBlt', 'GarageFinish', 'GarageQual', 'GarageCond', 'PoolQC', 'Fence', 'MiscFeature']\n",
      "%%%%%%%%%%%%%%%%%%%%%%%%%%%%%%%%%%%%%%%%\n",
      "['MSZoning', 'LotFrontage', 'Alley', 'Utilities', 'Exterior1st', 'Exterior2nd', 'MasVnrType', 'MasVnrArea', 'BsmtQual', 'BsmtCond', 'BsmtExposure', 'BsmtFinType1', 'BsmtFinSF1', 'BsmtFinType2', 'BsmtFinSF2', 'BsmtUnfSF', 'TotalBsmtSF', 'BsmtFullBath', 'BsmtHalfBath', 'KitchenQual', 'Functional', 'FireplaceQu', 'GarageType', 'GarageYrBlt', 'GarageFinish', 'GarageCars', 'GarageArea', 'GarageQual', 'GarageCond', 'PoolQC', 'Fence', 'MiscFeature', 'SaleType']\n"
     ]
    }
   ],
   "source": [
    "missing_columns = list(train_df.columns[train_df.isnull().sum() != 0])\n",
    "print (missing_columns)\n",
    "# train_df[missing_columns].describe(include = 'all')\n",
    "print '%' * 40\n",
    "test_missing_columns = list(test_df.columns[test_df.isnull().sum() != 0])\n",
    "print test_missing_columns"
   ]
  },
  {
   "cell_type": "code",
   "execution_count": 9,
   "metadata": {
    "code_folding": [],
    "collapsed": false
   },
   "outputs": [
    {
     "name": "stdout",
     "output_type": "stream",
     "text": [
      "['Alley', 'MasVnrType', 'BsmtQual', 'BsmtCond', 'BsmtExposure', 'BsmtFinType1', 'BsmtFinType2', 'Electrical', 'FireplaceQu', 'GarageType', 'GarageFinish', 'GarageQual', 'GarageCond', 'PoolQC', 'Fence', 'MiscFeature'] \n",
      "\n",
      "Index([u'MSZoning', u'Alley', u'Utilities', u'Exterior1st', u'Exterior2nd',\n",
      "       u'MasVnrType', u'BsmtQual', u'BsmtCond', u'BsmtExposure',\n",
      "       u'BsmtFinType1', u'BsmtFinType2', u'KitchenQual', u'Functional',\n",
      "       u'FireplaceQu', u'GarageType', u'GarageFinish', u'GarageQual',\n",
      "       u'GarageCond', u'PoolQC', u'Fence', u'MiscFeature', u'SaleType'],\n",
      "      dtype='object') \n",
      "\n"
     ]
    }
   ],
   "source": [
    "# combine = [train_df, test_df]\n",
    "train_missing_columns_nums = ['LotFrontage', 'MasVnrArea','GarageYrBlt']\n",
    "train_categories = [x for x in missing_columns if x not in train_missing_columns_nums]\n",
    "\n",
    "# train_missing_columns_categories = ['MasVnrType', 'BsmtQual','BsmtCond', \n",
    "#                               'BsmtExposure','BsmtFinType1','BsmtFinType2', \n",
    "#                               'Electrical', 'GarageType', 'GarageFinish',\n",
    "#                               'GarageQual','GarageCond']\n",
    "\n",
    "condition = test_df[test_missing_columns].describe(include='all').loc['mean'].isnull()\n",
    "\n",
    "test_missing_columns_categories = test_df[test_missing_columns].describe(include='all').loc['mean'].loc[condition].index\n",
    "test_missing_columns_nums = [x for x in test_missing_columns if x not in test_missing_columns_categories]\n",
    "\n",
    "# for data in combine:\n",
    "    \n",
    "#     # 通过中位数填充 median()\n",
    "#     for column in missing_columns_nums:\n",
    "#         data[column].fillna(data[column].median(), inplace= True)\n",
    "\n",
    "print train_categories, '\\n'\n",
    "print test_missing_columns_categories, '\\n'\n"
   ]
  },
  {
   "cell_type": "markdown",
   "metadata": {},
   "source": [
    "### 类别特征缺失值划分"
   ]
  },
  {
   "cell_type": "code",
   "execution_count": 10,
   "metadata": {
    "collapsed": true
   },
   "outputs": [],
   "source": [
    "# 取众数的特征\n",
    "train_categories_Mode = ['Electrical']\n",
    "test_categories_Mode = ['MSZoning', 'Utilities', 'Exterior1st', 'Exterior2nd', 'KitchenQual', 'Functional', 'SaleType']\n",
    "\n",
    "train_categories_none = [i for i in train_categories if i not in train_categories_Mode]\n",
    "test_categories_none = [i for i in test_missing_columns_categories if i not in test_categories_Mode]\n"
   ]
  },
  {
   "cell_type": "code",
   "execution_count": 11,
   "metadata": {
    "collapsed": false
   },
   "outputs": [],
   "source": [
    "# 取0的数值特征\n",
    "\n",
    "for col in ('GarageYrBlt', 'GarageArea', 'GarageCars'):\n",
    "    train_df[col] = train_df[col].fillna(0)\n",
    "    test_df[col] = test_df[col].fillna(0)\n",
    "    \n",
    "for col in ('BsmtFinSF1', 'BsmtFinSF2', 'BsmtUnfSF','TotalBsmtSF', 'BsmtFullBath', 'BsmtHalfBath'):\n",
    "    train_df[col] = train_df[col].fillna(0)\n",
    "    test_df[col] = test_df[col].fillna(0)"
   ]
  },
  {
   "cell_type": "code",
   "execution_count": 12,
   "metadata": {
    "collapsed": false
   },
   "outputs": [],
   "source": [
    "# 通过中位数填充\n",
    "for column in train_missing_columns_nums:\n",
    "    train_df[column].fillna(train_df[column].median(), inplace=True)\n",
    "\n",
    "for column in test_missing_columns_nums:\n",
    "    test_df[column].fillna(test_df[column].median(), inplace=True)\n",
    "    \n",
    "    \n",
    "# ❌通过最大类填充，众数 \n",
    "# ✅通过字符串“None”填充 | 区分 众数\n",
    "for category in train_categories_none:\n",
    "    train_df[category].fillna(\"None\", inplace=True)\n",
    "    \n",
    "for category in test_categories_none:\n",
    "    test_df[category].fillna(\"None\", inplace=True)\n",
    "    \n",
    "for category in train_categories_Mode:\n",
    "    train_df[category].fillna(train_df[category].mode()[0], inplace = True)\n",
    "\n",
    "for category in test_categories_Mode:\n",
    "    test_df[category].fillna(test_df[category].mode()[0], inplace = True)"
   ]
  },
  {
   "cell_type": "code",
   "execution_count": 13,
   "metadata": {
    "collapsed": false
   },
   "outputs": [
    {
     "name": "stdout",
     "output_type": "stream",
     "text": [
      "0\n",
      "0\n"
     ]
    }
   ],
   "source": [
    "print train_df.isnull().sum().max()\n",
    "print test_df.isnull().sum().max()\n",
    "# print test_df.loc[test_df.isnull()"
   ]
  },
  {
   "cell_type": "markdown",
   "metadata": {},
   "source": [
    "# 探索性数据分析 EDA"
   ]
  },
  {
   "cell_type": "markdown",
   "metadata": {},
   "source": [
    "感谢： https://www.kaggle.com/pmarcelino/comprehensive-data-exploration-with-python 提出的对数据进行探索的方法"
   ]
  },
  {
   "cell_type": "markdown",
   "metadata": {},
   "source": [
    "### 目标"
   ]
  },
  {
   "cell_type": "markdown",
   "metadata": {
    "collapsed": true
   },
   "source": [
    "1、In order to have some discipline in our analysis, we can create an Excel spreadsheet with the following columns:\n",
    "\n",
    "* <b>Variable</b> - Variable name.\n",
    "* <b>Type</b> -  There are two possible values for this field: 'numerical' or 'categorical'. \n",
    "* <b>Segment</b> - Identification of the variables' segment. We can define three possible segments: building, space or location. When we say 'building', we mean a variable that relates to the physical characteristics of the building (e.g. 'OverallQual'). When we say 'space', we mean a variable that reports space properties of the house (e.g. 'TotalBsmtSF'). Finally, when we say a 'location', we mean a variable that gives information about the place where the house is located (e.g. 'Neighborhood').\n",
    "* <b>Expectation</b> - Our expectation about the variable influence in 'SalePrice'. We can use a categorical scale with 'High', 'Medium' and 'Low' as possible values.\n",
    "    \n",
    "    重要，一一个一个阅读特征描述。是否影响我们购买房屋 -> 如果是，影响重要性？ -> 信息是否早已在其他变量中包含\n",
    "* <b>Conclusion</b> - Our conclusions about the importance of the variable, after we give a quick look at the data. We can keep with the same categorical scale as in 'Expectation'.\n",
    "* <b>Comments</b> - Any general comments that occured to us.\n"
   ]
  },
  {
   "cell_type": "markdown",
   "metadata": {},
   "source": [
    "2、we can filter the spreadsheet and look carefully to the variables with 'High' 'Expectation'. Then, we can rush into some scatter plots between those variables and 'SalePrice', filling in the 'Conclusion' column which is just the correction of our expectations."
   ]
  },
  {
   "cell_type": "markdown",
   "metadata": {
    "collapsed": false,
    "scrolled": true
   },
   "source": [
    "### 目标数据的【身材】 SalePrice （单变量分布）"
   ]
  },
  {
   "cell_type": "markdown",
   "metadata": {},
   "source": [
    "*Everything started in our Kaggle party, when we were looking for a dance partner. After a while searching in the dance floor, we saw a girl, near the bar, using dance shoes. That's a sign that she's there to dance. We spend much time doing predictive modelling and participating in analytics competitions, so talking with girls is not one of our super powers. Even so, we gave it a try:*\n",
    "\n",
    "*'Hi, I'm Kaggly! And you? 'SalePrice'? What a beautiful name! You know 'SalePrice', could you give me some data about you? I just developed a model to calculate the probability of a successful relationship between two people. I'd like to apply it to us!'*"
   ]
  },
  {
   "cell_type": "code",
   "execution_count": 14,
   "metadata": {
    "collapsed": false,
    "scrolled": true
   },
   "outputs": [
    {
     "data": {
      "text/plain": [
       "count      1460.000000\n",
       "mean     180921.195890\n",
       "std       79442.502883\n",
       "min       34900.000000\n",
       "25%      129975.000000\n",
       "50%      163000.000000\n",
       "75%      214000.000000\n",
       "max      755000.000000\n",
       "Name: SalePrice, dtype: float64"
      ]
     },
     "execution_count": 14,
     "metadata": {},
     "output_type": "execute_result"
    }
   ],
   "source": [
    "train_df['SalePrice'].describe()"
   ]
  },
  {
   "cell_type": "code",
   "execution_count": 15,
   "metadata": {
    "collapsed": false,
    "scrolled": false
   },
   "outputs": [
    {
     "data": {
      "text/plain": [
       "<matplotlib.axes._subplots.AxesSubplot at 0x1a1527bc50>"
      ]
     },
     "execution_count": 15,
     "metadata": {},
     "output_type": "execute_result"
    },
    {
     "data": {
      "image/png": "[encoded data removed]",
      "text/plain": [
       "<matplotlib.figure.Figure at 0x1a15261550>"
      ]
     },
     "metadata": {},
     "output_type": "display_data"
    }
   ],
   "source": [
    "sns.distplot(train_df['SalePrice'], color='green')"
   ]
  },
  {
   "cell_type": "markdown",
   "metadata": {},
   "source": [
    "* <b> 正偏态分布 </b> 数据主要集中在10w ~ 25w之间"
   ]
  },
  {
   "cell_type": "code",
   "execution_count": 16,
   "metadata": {
    "collapsed": false
   },
   "outputs": [
    {
     "name": "stdout",
     "output_type": "stream",
     "text": [
      "偏度为 1.882876 \n",
      "峰度为 6.536282\n"
     ]
    }
   ],
   "source": [
    "print \"偏度为 %f \" % train_df['SalePrice'].skew()\n",
    "print \"峰度为 %f\"  % train_df['SalePrice'].kurt()"
   ]
  },
  {
   "cell_type": "markdown",
   "metadata": {},
   "source": [
    "### 目标数据的Buddies and interests  （两个变量之间的关系）"
   ]
  },
  {
   "cell_type": "markdown",
   "metadata": {},
   "source": [
    "As soon as 'SalePrice' walked away, we went to Facebook. Yes, now this is getting serious. Notice that this is not stalking. It's just an intense research of an individual, if you know what I mean.\n",
    "\n",
    "According to her profile, we have some common friends. Besides Chuck Norris, we both know 'GrLivArea' and 'TotalBsmtSF'. Moreover, we also have common interests such as 'OverallQual' and 'YearBuilt'. This looks promising!\n",
    "\n",
    "To take the most out of our research, we will start by looking carefully at the profiles of our common friends and later we will focus on our common interests."
   ]
  },
  {
   "cell_type": "markdown",
   "metadata": {},
   "source": [
    "#### 同数值变量之间的关系 (散点图）"
   ]
  },
  {
   "cell_type": "code",
   "execution_count": 17,
   "metadata": {
    "collapsed": false
   },
   "outputs": [
    {
     "data": {
      "text/plain": [
       "<matplotlib.axes._subplots.AxesSubplot at 0x1a152613d0>"
      ]
     },
     "execution_count": 17,
     "metadata": {},
     "output_type": "execute_result"
    },
    {
     "data": {
      "image/png": "[encoded data removed]",
      "text/plain": [
       "<matplotlib.figure.Figure at 0x1a2176da50>"
      ]
     },
     "metadata": {},
     "output_type": "display_data"
    }
   ],
   "source": [
    "var = 'GrLivArea' # 房屋居住面积\n",
    "\n",
    "# concat - Series默认行合并； axis = 1，列合并\n",
    "data = pd.concat([train_df['SalePrice'], train_df[var]], axis=1) \n",
    "# print dataFrame\n",
    "data.plot.scatter(x=var, y='SalePrice', ylim = (0, 800000)) # y轴限制"
   ]
  },
  {
   "cell_type": "markdown",
   "metadata": {},
   "source": [
    "房屋价格同居住面积（平方英尺）线性相关"
   ]
  },
  {
   "cell_type": "code",
   "execution_count": 18,
   "metadata": {
    "collapsed": false,
    "scrolled": false
   },
   "outputs": [
    {
     "data": {
      "text/plain": [
       "<matplotlib.axes._subplots.AxesSubplot at 0x1a21a2a4d0>"
      ]
     },
     "execution_count": 18,
     "metadata": {},
     "output_type": "execute_result"
    },
    {
     "data": {
      "image/png": "[encoded data removed]",
      "text/plain": [
       "<matplotlib.figure.Figure at 0x1a21a99150>"
      ]
     },
     "metadata": {},
     "output_type": "display_data"
    }
   ],
   "source": [
    "var = 'TotalBsmtSF'  # 房屋地下室的面积\n",
    "data = pd.concat([train_df['SalePrice'], train_df[var]], axis=1)\n",
    "data.plot.scatter(x = var, y = 'SalePrice', ylim = (0, 800000))"
   ]
  },
  {
   "cell_type": "markdown",
   "metadata": {},
   "source": [
    "房屋价格同地下室的面积成强线性（指数？）相关\n",
    "\n",
    "存在一些无地下室的房屋，房屋价格分布在200000以内"
   ]
  },
  {
   "cell_type": "markdown",
   "metadata": {},
   "source": [
    "#### 同类别变量之间的关系 （箱型图）"
   ]
  },
  {
   "cell_type": "code",
   "execution_count": 19,
   "metadata": {
    "collapsed": false,
    "scrolled": true
   },
   "outputs": [
    {
     "data": {
      "image/png": "[encoded data removed]",
      "text/plain": [
       "<matplotlib.figure.Figure at 0x1a21c98b10>"
      ]
     },
     "metadata": {},
     "output_type": "display_data"
    }
   ],
   "source": [
    "var = 'OverallQual'  # 房屋整体材料和光洁度的评估\n",
    "data = pd.concat([train_df['SalePrice'], train_df[var]], axis=1)\n",
    "f, ax = plt.subplots(figsize=(8, 6))\n",
    "fig = sns.boxplot(x=var, y=\"SalePrice\", data=data)  # 横坐标类别，纵坐标目标变量\n",
    "fig.axis(ymin=0, ymax=800000);"
   ]
  },
  {
   "cell_type": "markdown",
   "metadata": {},
   "source": [
    "房屋价格同房屋整体材料和光洁度的评估强相关，整体评估分数越高，房屋价格越高"
   ]
  },
  {
   "cell_type": "code",
   "execution_count": 20,
   "metadata": {
    "collapsed": false,
    "scrolled": true
   },
   "outputs": [
    {
     "data": {
      "image/png": "[encoded data removed]",
      "text/plain": [
       "<matplotlib.figure.Figure at 0x1a21fe7b10>"
      ]
     },
     "metadata": {},
     "output_type": "display_data"
    }
   ],
   "source": [
    "var = 'YearBuilt'  # 房屋建造年份\n",
    "data = pd.concat([train_df['SalePrice'], train_df[var]], axis=1)\n",
    "f, ax = plt.subplots(figsize=(16, 8))  # 改变大小\n",
    "fig = sns.boxplot(x=var, y=\"SalePrice\", data=data)  # 横坐标类别，纵坐标目标变量\n",
    "fig.axis(ymin=0, ymax=800000);\n",
    "plt.xticks(rotation=90);               # x如果都水平放置，会粘到一起。x倾斜90度，减少占的位置"
   ]
  },
  {
   "cell_type": "markdown",
   "metadata": {},
   "source": [
    "虽然斜率小，但是新房相对于老房来说房屋价格相对较高"
   ]
  },
  {
   "cell_type": "markdown",
   "metadata": {},
   "source": [
    "#### 总结"
   ]
  },
  {
   "cell_type": "markdown",
   "metadata": {},
   "source": [
    "1、房屋居住面积和房屋地下室的面积同房屋价格呈正相关\n",
    "\n",
    "2、房屋整体材料质量和建造年份同房屋价格相关。其中房屋整体材料质量同房屋价格相关性更强\n",
    "\n",
    "以上：特征选择，主观性\n",
    "\n",
    "The trick here seems to be the choice of the right features (feature selection) and not the definition of complex relationships between them (feature engineering).\n",
    "\n",
    "That said, let's separate the wheat from the chaff.\n",
    "\n",
    "以下：特征工程，客观性"
   ]
  },
  {
   "cell_type": "markdown",
   "metadata": {},
   "source": [
    "### 客观分析"
   ]
  },
  {
   "cell_type": "markdown",
   "metadata": {},
   "source": [
    "####  把一些数值特征转化为类别特征"
   ]
  },
  {
   "cell_type": "code",
   "execution_count": 21,
   "metadata": {
    "collapsed": false
   },
   "outputs": [],
   "source": [
    "#MSSubClass=The building class\n",
    "\n",
    "cols = ['MSSubClass', 'OverallCond', 'YrSold', 'MoSold', 'BedroomAbvGr']\n",
    "\n",
    "for col in cols:\n",
    "    train_df[col] = train_df[col].apply(str)\n",
    "    test_df[col] = test_df[col].apply(str)"
   ]
  },
  {
   "cell_type": "markdown",
   "metadata": {},
   "source": [
    "* <b>相关性矩阵</b>\n",
    "* <b>房屋价格相关性矩阵</b>\n",
    "* <b>最相关变量散点图</b>"
   ]
  },
  {
   "cell_type": "markdown",
   "metadata": {},
   "source": [
    "#### 整体相关性矩阵"
   ]
  },
  {
   "cell_type": "code",
   "execution_count": 22,
   "metadata": {
    "collapsed": false,
    "scrolled": false
   },
   "outputs": [
    {
     "data": {
      "image/png": "[encoded data removed]",
      "text/plain": [
       "<matplotlib.figure.Figure at 0x1a21ffd790>"
      ]
     },
     "metadata": {},
     "output_type": "display_data"
    }
   ],
   "source": [
    "corrmat = train_df.corr()\n",
    "f, ax = plt.subplots(figsize=(16, 8))\n",
    "sns.heatmap(corrmat, vmax= .8, square=True);   # vmax 颜色区别，最浅的颜色在0.8"
   ]
  },
  {
   "cell_type": "markdown",
   "metadata": {},
   "source": [
    "更加宏观\n",
    "\n",
    "1、“TotalBsmtSF” 同 “1stFlrSF”强相关，表达同样的信息\n",
    "\n",
    "2、“GarageCars”  同 “GarageArea”强相关，表达同样的信息\n",
    "\n",
    "3、验证“SalePrice” 同主观选择的特征相关，仍有部分特征需加入\"SalePrice\"预测"
   ]
  },
  {
   "cell_type": "markdown",
   "metadata": {},
   "source": [
    "#### 目标变量相关性矩阵 (SalePrice，放大热力图）"
   ]
  },
  {
   "cell_type": "code",
   "execution_count": 23,
   "metadata": {
    "collapsed": false
   },
   "outputs": [],
   "source": [
    "# help(corrmat.nlargest)"
   ]
  },
  {
   "cell_type": "code",
   "execution_count": 24,
   "metadata": {
    "collapsed": false,
    "scrolled": true
   },
   "outputs": [],
   "source": [
    "# # cols = corrmat.nlargest(k, 'SalePrice').index\n",
    "# # print cols\n",
    "# len (train_df[cols].values)  # 数组，1460 * 10 | 转置 10 * 1460"
   ]
  },
  {
   "cell_type": "code",
   "execution_count": 25,
   "metadata": {
    "collapsed": false
   },
   "outputs": [
    {
     "name": "stdout",
     "output_type": "stream",
     "text": [
      "0.605852184692\n",
      "0.319333802832\n",
      "0.613580551559\n"
     ]
    },
    {
     "data": {
      "text/plain": [
       "0.7822600527979845"
      ]
     },
     "execution_count": 25,
     "metadata": {},
     "output_type": "execute_result"
    }
   ],
   "source": [
    "old_features = ['1stFlrSF', '2ndFlrSF', 'TotalBsmtSF']\n",
    "train_df['TotalSF'] = 0\n",
    "test_df['TotalSF'] = 0\n",
    "for i in old_features:\n",
    "    print train_df['SalePrice'].corr(train_df[i])\n",
    "    train_df['TotalSF'] += train_df[i]\n",
    "    test_df['TotalSF'] += test_df[i]\n",
    "train_df['SalePrice'].corr(train_df['TotalSF'])"
   ]
  },
  {
   "cell_type": "code",
   "execution_count": 26,
   "metadata": {
    "code_folding": [],
    "collapsed": false
   },
   "outputs": [],
   "source": [
    "train_df.drop(old_features, axis = 1, inplace=True)\n",
    "test_df.drop(old_features, axis=1, inplace=True)"
   ]
  },
  {
   "cell_type": "code",
   "execution_count": 27,
   "metadata": {
    "collapsed": true
   },
   "outputs": [],
   "source": [
    "corrmat = train_df.corr()"
   ]
  },
  {
   "cell_type": "code",
   "execution_count": 28,
   "metadata": {
    "collapsed": false,
    "scrolled": false
   },
   "outputs": [
    {
     "data": {
      "image/png": "[encoded data removed]",
      "text/plain": [
       "<matplotlib.figure.Figure at 0x1a235a3890>"
      ]
     },
     "metadata": {},
     "output_type": "display_data"
    }
   ],
   "source": [
    "#saleprice correlation matrix\n",
    "k = 10   #number of variables for heatmap，热力图变量数量 \n",
    "\n",
    "# nlargest - 根据SalePrice列排序，返回前10个跟SalePrice相关性最高的行\n",
    "cols = corrmat.nlargest(k, 'SalePrice')['SalePrice'].index \n",
    "\n",
    "# cm = corrmat.loc[cols,cols] 同以下cm赋值相同\n",
    "# 训练集中取出目标列的样本，转置，计算10个特征之间的相关性\n",
    "cm = np.corrcoef(train_df[cols].values.T)\n",
    "sns.set(font_scale=1.25)\n",
    "hm = sns.heatmap(cm, cbar=True, annot=True, square=True, fmt='.2f', annot_kws={'size': 10}, yticklabels=cols.values, xticklabels=cols.values)\n",
    "plt.show()"
   ]
  },
  {
   "cell_type": "code",
   "execution_count": 29,
   "metadata": {
    "collapsed": false
   },
   "outputs": [],
   "source": [
    "cols = ['SalePrice', 'OverallQual', 'TotalSF', 'GrLivArea', 'GarageCars', 'FullBath', 'YearBuilt']"
   ]
  },
  {
   "cell_type": "code",
   "execution_count": 30,
   "metadata": {
    "code_folding": [
     0
    ],
    "collapsed": false
   },
   "outputs": [],
   "source": [
    "# # # print train_df['FullBath'].value_counts().plot.bar()\n",
    "# var = 'FullBath'  # 浴室的品质\n",
    "# data = pd.concat([train_df['SalePrice'], train_df[var]], axis=1)\n",
    "# f, ax = plt.subplots(figsize=(8, 6))\n",
    "# fig = sns.boxplot(x=var, y=\"SalePrice\", data=data)  # 横坐标类别，纵坐标目标变量\n",
    "# fig.axis(ymin=0, ymax=800000);"
   ]
  },
  {
   "cell_type": "code",
   "execution_count": 31,
   "metadata": {
    "collapsed": false
   },
   "outputs": [],
   "source": [
    "drop_columns = [i for i in corrmat.columns if i not in cols]"
   ]
  },
  {
   "cell_type": "code",
   "execution_count": 32,
   "metadata": {
    "collapsed": false
   },
   "outputs": [
    {
     "name": "stdout",
     "output_type": "stream",
     "text": [
      "['Id', 'LotFrontage', 'LotArea', 'YearRemodAdd', 'MasVnrArea', 'BsmtFinSF1', 'BsmtFinSF2', 'BsmtUnfSF', 'LowQualFinSF', 'BsmtFullBath', 'BsmtHalfBath', 'HalfBath', 'KitchenAbvGr', 'TotRmsAbvGrd', 'Fireplaces', 'GarageYrBlt', 'GarageArea', 'WoodDeckSF', 'OpenPorchSF', 'EnclosedPorch', '3SsnPorch', 'ScreenPorch', 'PoolArea', 'MiscVal']\n"
     ]
    }
   ],
   "source": [
    "print drop_columns"
   ]
  },
  {
   "cell_type": "markdown",
   "metadata": {},
   "source": [
    "\n",
    "\n",
    "1、确认主观特征选择变量'OverallQual'，'GrLivArea' ，'TotalBsmtSF'同房屋价格强相关\n",
    "\n",
    "2、因为“GarageCars” 同 “GarageArea”强相关，故选择同房屋价格相关性更高的“GarageCars”\n",
    "\n",
    "3、同上，选择“TotalBasmtSF”\n",
    "\n",
    "4、“TotRmsAbvGrd” 同“GrLivArea”强相关，选择“GrLivArea”\n",
    "\n",
    "5、\"YearBuilt\"【待】时间序列分析\n",
    "\n",
    "6、 \"FullBath\"浴室的品质，从箱型图中可以看出浴室的品质同房屋的价格呈正相关\n",
    "\n",
    "    同时存在一些无浴室的房屋"
   ]
  },
  {
   "cell_type": "markdown",
   "metadata": {},
   "source": [
    "#### 最相关变量散点图"
   ]
  },
  {
   "cell_type": "code",
   "execution_count": 33,
   "metadata": {
    "code_folding": [],
    "collapsed": false
   },
   "outputs": [],
   "source": [
    "# cols"
   ]
  },
  {
   "cell_type": "code",
   "execution_count": 34,
   "metadata": {
    "code_folding": [
     0
    ],
    "collapsed": false
   },
   "outputs": [],
   "source": [
    "# #scatterplot\n",
    "# sns.set()\n",
    "# cols = ['SalePrice', 'OverallQual', 'GrLivArea', 'GarageCars', 'TotalBsmtSF', 'FullBath', 'YearBuilt']\n",
    "# sns.pairplot(train_df[cols], size = 2.5)\n",
    "# plt.show();"
   ]
  },
  {
   "cell_type": "markdown",
   "metadata": {},
   "source": [
    "### 正确性"
   ]
  },
  {
   "cell_type": "markdown",
   "metadata": {},
   "source": [
    "去除异常值"
   ]
  },
  {
   "cell_type": "markdown",
   "metadata": {},
   "source": [
    "1、TotalBsmtSF 为0 = 房屋中没有地下室，数据正常\n",
    "\n",
    "2、故仅针对GrLivArea 做异常值去除"
   ]
  },
  {
   "cell_type": "code",
   "execution_count": 35,
   "metadata": {
    "code_folding": [
     0
    ],
    "collapsed": false
   },
   "outputs": [],
   "source": [
    "# olss = []\n",
    "# numerical_features = ['GrLivArea']\n",
    "# for feature in numerical_features:\n",
    "    \n",
    "#     # 计算25%分位点\n",
    "#     Q1 = np.percentile(train_df[feature], 25)\n",
    "    \n",
    "#     # 计算75%分位点\n",
    "#     Q3 = np.percentile(train_df[feature], 75)\n",
    "#     print Q3\n",
    "    \n",
    "#     # 异常阶（1.5倍四分位距）IQR\n",
    "#     step = 1.5 * (Q3 - Q1)\n",
    "    \n",
    "#     print \"Feature\" + feature + \"Outlines\"\n",
    "#     print train_df[ (train_df[feature] <= Q1 - step) | (train_df[feature] >= Q3 + step)][numerical_features]\n",
    "#     ols = features_train[ (train_df[feature] <= Q1 - step) | (train_df[feature] >= Q3 + step)].index.tolist()\n",
    "#     olss.append(ols)\n",
    "    \n",
    "# olss_new = [ii for i in olss for ii in i]\n",
    "# # print olss_new\n",
    "\n",
    "# # 列表方法 .count(i) 统计列表中某个元素出现的次数\n",
    "# more_than_one = list(set([i for i in olss_new if olss_new.count(i) > 1]))\n",
    "# more_than_two = list(set([i for i in olss_new if olss_new.count(i) > 2]))\n",
    "# print len(more_than_one), len(more_than_two)\n",
    "\n",
    "# ## 移除异常点\n",
    "# # features_train_new = features_train.drop(features_train.index[olss_new]).reset_index(drop = True)\n",
    "# # labels_train_new = labels_train.drop(features_train.index[olss_new]).reset_index(drop = True)"
   ]
  },
  {
   "cell_type": "code",
   "execution_count": 36,
   "metadata": {
    "collapsed": false,
    "scrolled": false
   },
   "outputs": [
    {
     "data": {
      "image/png": "[encoded data removed]",
      "text/plain": [
       "<matplotlib.figure.Figure at 0x1a23473490>"
      ]
     },
     "metadata": {},
     "output_type": "display_data"
    }
   ],
   "source": [
    "var = 'GrLivArea'\n",
    "data = pd.concat([train_df['SalePrice'], train_df[var]], axis=1)\n",
    "data.plot.scatter(x=var, y='SalePrice', ylim=(0,800000));"
   ]
  },
  {
   "cell_type": "code",
   "execution_count": 37,
   "metadata": {
    "collapsed": true
   },
   "outputs": [],
   "source": [
    "# 从散点图中确定去除GrLivArea > 4000 且SalePrice < 200000的点\n",
    "train_df = train_df.drop(train_df[(train_df['GrLivArea'] > 4000) & (train_df['SalePrice'] < 200000)].index)"
   ]
  },
  {
   "cell_type": "markdown",
   "metadata": {},
   "source": [
    "### 创造性"
   ]
  },
  {
   "cell_type": "markdown",
   "metadata": {},
   "source": [
    "删除相关性较弱的特征"
   ]
  },
  {
   "cell_type": "code",
   "execution_count": 38,
   "metadata": {
    "collapsed": false
   },
   "outputs": [],
   "source": [
    "train_df = train_df.drop(drop_columns, axis=1)\n",
    "test_df = test_df.drop(drop_columns, axis=1)"
   ]
  },
  {
   "cell_type": "code",
   "execution_count": 39,
   "metadata": {
    "collapsed": false,
    "scrolled": false
   },
   "outputs": [
    {
     "name": "stdout",
     "output_type": "stream",
     "text": [
      "Index([u'MSSubClass', u'MSZoning', u'Street', u'Alley', u'LotShape',\n",
      "       u'LandContour', u'Utilities', u'LotConfig', u'LandSlope',\n",
      "       u'Neighborhood', u'Condition1', u'Condition2', u'BldgType',\n",
      "       u'HouseStyle', u'OverallQual', u'OverallCond', u'YearBuilt',\n",
      "       u'RoofStyle', u'RoofMatl', u'Exterior1st', u'Exterior2nd',\n",
      "       u'MasVnrType', u'ExterQual', u'ExterCond', u'Foundation', u'BsmtQual',\n",
      "       u'BsmtCond', u'BsmtExposure', u'BsmtFinType1', u'BsmtFinType2',\n",
      "       u'Heating', u'HeatingQC', u'CentralAir', u'Electrical', u'GrLivArea',\n",
      "       u'FullBath', u'BedroomAbvGr', u'KitchenQual', u'Functional',\n",
      "       u'FireplaceQu', u'GarageType', u'GarageFinish', u'GarageCars',\n",
      "       u'GarageQual', u'GarageCond', u'PavedDrive', u'PoolQC', u'Fence',\n",
      "       u'MiscFeature', u'MoSold', u'YrSold', u'SaleType', u'SaleCondition',\n",
      "       u'SalePrice', u'TotalSF'],\n",
      "      dtype='object')\n",
      "55\n",
      "Index([u'MSSubClass', u'MSZoning', u'Street', u'Alley', u'LotShape',\n",
      "       u'LandContour', u'Utilities', u'LotConfig', u'LandSlope',\n",
      "       u'Neighborhood', u'Condition1', u'Condition2', u'BldgType',\n",
      "       u'HouseStyle', u'OverallQual', u'OverallCond', u'YearBuilt',\n",
      "       u'RoofStyle', u'RoofMatl', u'Exterior1st', u'Exterior2nd',\n",
      "       u'MasVnrType', u'ExterQual', u'ExterCond', u'Foundation', u'BsmtQual',\n",
      "       u'BsmtCond', u'BsmtExposure', u'BsmtFinType1', u'BsmtFinType2',\n",
      "       u'Heating', u'HeatingQC', u'CentralAir', u'Electrical', u'GrLivArea',\n",
      "       u'FullBath', u'BedroomAbvGr', u'KitchenQual', u'Functional',\n",
      "       u'FireplaceQu', u'GarageType', u'GarageFinish', u'GarageCars',\n",
      "       u'GarageQual', u'GarageCond', u'PavedDrive', u'PoolQC', u'Fence',\n",
      "       u'MiscFeature', u'MoSold', u'YrSold', u'SaleType', u'SaleCondition',\n",
      "       u'TotalSF'],\n",
      "      dtype='object')\n"
     ]
    }
   ],
   "source": [
    "print train_df.columns\n",
    "print len(train_df.columns)\n",
    "print test_df.columns"
   ]
  },
  {
   "cell_type": "markdown",
   "metadata": {},
   "source": [
    "### 倾斜数据处理"
   ]
  },
  {
   "cell_type": "markdown",
   "metadata": {},
   "source": [
    "#### 预测值倾斜，对数处理"
   ]
  },
  {
   "cell_type": "markdown",
   "metadata": {},
   "source": [
    "* <b> 偏度 </b>  正态分布的偏度为0。若数据分布是对称的，偏度 = 0。\n",
    "\n",
    "     若偏度 > 0，分布为右偏，即分布有一条长尾在右；\n",
    "     \n",
    "     若偏度 < 0，分布为左偏，即分布有一条长尾在左。偏度的绝对值越大，说明分布的偏移程度越严重。\n",
    "\n",
    "\n",
    "* <b> 峰度 </b>  正态分布的峰度为0。\n",
    "\n",
    "    当峰度 > 0，它相比于正态分布要更陡峭或尾部更厚。\n",
    "    \n",
    "    峰度系数 < 0, 它相比于正态分布更平缓或尾部更薄。"
   ]
  },
  {
   "cell_type": "markdown",
   "metadata": {},
   "source": [
    "Normality - When we talk about normality what we mean is that the data should look like a normal distribution. This is important because several statistic tests rely on this (e.g. t-statistics). In this exercise we'll just check univariate normality for 'SalePrice' (which is a limited approach). Remember that univariate normality doesn't ensure multivariate normality (which is what we would like to have), but it helps. Another detail to take into account is that in big samples (>200 observations) normality is not such an issue.\n",
    "\n",
    "However, if we solve normality, we avoid a lot of other problems (e.g. heteroscedacity) so that's the main reason why we are doing this analysis.\n",
    "\n",
    "正态分布"
   ]
  },
  {
   "cell_type": "code",
   "execution_count": 40,
   "metadata": {
    "collapsed": false,
    "scrolled": true
   },
   "outputs": [
    {
     "data": {
      "text/plain": [
       "<matplotlib.axes._subplots.AxesSubplot at 0x1a21f02950>"
      ]
     },
     "execution_count": 40,
     "metadata": {},
     "output_type": "execute_result"
    },
    {
     "data": {
      "image/png": "[encoded data removed]",
      "text/plain": [
       "<matplotlib.figure.Figure at 0x1a15b5ee50>"
      ]
     },
     "metadata": {},
     "output_type": "display_data"
    }
   ],
   "source": [
    "train_df['SalePrice'] = np.log1p(train_df['SalePrice'])\n",
    "sns.distplot(train_df['SalePrice'], color='blue')\n"
   ]
  },
  {
   "cell_type": "code",
   "execution_count": 41,
   "metadata": {
    "collapsed": false
   },
   "outputs": [
    {
     "name": "stdout",
     "output_type": "stream",
     "text": [
      "0.121579760503\n"
     ]
    },
    {
     "data": {
      "text/plain": [
       "0.80475079174189723"
      ]
     },
     "execution_count": 41,
     "metadata": {},
     "output_type": "execute_result"
    }
   ],
   "source": [
    "print train_df['SalePrice'].skew()\n",
    "train_df['SalePrice'].kurt()"
   ]
  },
  {
   "cell_type": "markdown",
   "metadata": {},
   "source": [
    "#### 倾斜特征处理"
   ]
  },
  {
   "cell_type": "markdown",
   "metadata": {},
   "source": [
    "倾斜特征"
   ]
  },
  {
   "cell_type": "code",
   "execution_count": 42,
   "metadata": {
    "collapsed": false
   },
   "outputs": [
    {
     "name": "stdout",
     "output_type": "stream",
     "text": [
      "\n",
      "Skew in numerical features: \n",
      "\n",
      "                 Skew\n",
      "GrLivArea    1.009951\n",
      "TotalSF      0.803494\n",
      "OverallQual  0.200579\n",
      "SalePrice    0.121455\n",
      "FullBath     0.031239\n",
      "GarageCars  -0.342025\n",
      "YearBuilt   -0.611665\n",
      "\n",
      "Skew in numerical features: \n",
      "\n"
     ]
    },
    {
     "data": {
      "text/html": [
       "<div>\n",
       "<style scoped>\n",
       "    .dataframe tbody tr th:only-of-type {\n",
       "        vertical-align: middle;\n",
       "    }\n",
       "\n",
       "    .dataframe tbody tr th {\n",
       "        vertical-align: top;\n",
       "    }\n",
       "\n",
       "    .dataframe thead th {\n",
       "        text-align: right;\n",
       "    }\n",
       "</style>\n",
       "<table border=\"1\" class=\"dataframe\">\n",
       "  <thead>\n",
       "    <tr style=\"text-align: right;\">\n",
       "      <th></th>\n",
       "      <th>Skew</th>\n",
       "    </tr>\n",
       "  </thead>\n",
       "  <tbody>\n",
       "    <tr>\n",
       "      <th>TotalSF</th>\n",
       "      <td>1.206772</td>\n",
       "    </tr>\n",
       "    <tr>\n",
       "      <th>GrLivArea</th>\n",
       "      <td>1.129240</td>\n",
       "    </tr>\n",
       "    <tr>\n",
       "      <th>FullBath</th>\n",
       "      <td>0.295534</td>\n",
       "    </tr>\n",
       "    <tr>\n",
       "      <th>OverallQual</th>\n",
       "      <td>0.181010</td>\n",
       "    </tr>\n",
       "    <tr>\n",
       "      <th>GarageCars</th>\n",
       "      <td>-0.109880</td>\n",
       "    </tr>\n",
       "    <tr>\n",
       "      <th>YearBuilt</th>\n",
       "      <td>-0.587052</td>\n",
       "    </tr>\n",
       "  </tbody>\n",
       "</table>\n",
       "</div>"
      ],
      "text/plain": [
       "                 Skew\n",
       "TotalSF      1.206772\n",
       "GrLivArea    1.129240\n",
       "FullBath     0.295534\n",
       "OverallQual  0.181010\n",
       "GarageCars  -0.109880\n",
       "YearBuilt   -0.587052"
      ]
     },
     "execution_count": 42,
     "metadata": {},
     "output_type": "execute_result"
    }
   ],
   "source": [
    "from scipy.stats import skew\n",
    "numeric_features = train_df.dtypes[train_df.dtypes != \"object\"].index\n",
    "\n",
    "\n",
    "skewed_features = train_df[numeric_features].apply(lambda x: skew(x.dropna())).sort_values(ascending=False)\n",
    "print \"\\nSkew in numerical features: \\n\"\n",
    "skewness1 = pd.DataFrame({'Skew' :skewed_features})\n",
    "print skewness1.head(10)\n",
    "\n",
    "\n",
    "numeric_features = test_df.dtypes[test_df.dtypes != \"object\"].index\n",
    "\n",
    "\n",
    "skewed_features = test_df[numeric_features].apply(lambda x: skew(x.dropna())).sort_values(ascending=False)\n",
    "print \"\\nSkew in numerical features: \\n\"\n",
    "skewness2 = pd.DataFrame({'Skew' :skewed_features})\n",
    "skewness2.head(10)"
   ]
  },
  {
   "cell_type": "code",
   "execution_count": 43,
   "metadata": {
    "collapsed": false
   },
   "outputs": [],
   "source": [
    "skewness = set(list(skewness1[abs(skewness1.values) > 0.75].index) + list(skewness2[abs(skewness2.values) > 0.75].\n",
    "                                                                   index))"
   ]
  },
  {
   "cell_type": "code",
   "execution_count": 44,
   "metadata": {
    "collapsed": false
   },
   "outputs": [],
   "source": [
    "from scipy.special import boxcox1p\n",
    "skewed_features = list(skewness)\n",
    "lam = 0.15\n",
    "for feature in skewed_features:\n",
    "    #all_data[feat] += 1\n",
    "    train_df[feature] = boxcox1p(train_df[feature], lam)\n",
    "    test_df[feature] = boxcox1p(test_df[feature], lam)\n",
    "    \n",
    "#all_data[skewed_features] = np.log1p(all_data[skewed_features])"
   ]
  },
  {
   "cell_type": "markdown",
   "metadata": {},
   "source": [
    "### 转化性（类别数据）"
   ]
  },
  {
   "cell_type": "code",
   "execution_count": 45,
   "metadata": {
    "collapsed": true
   },
   "outputs": [],
   "source": [
    "features_train = train_df.drop(['SalePrice'], axis=1)\n",
    "labels_train = train_df['SalePrice']\n",
    "features_test = test_df"
   ]
  },
  {
   "cell_type": "markdown",
   "metadata": {},
   "source": [
    "#### 直接独特编码，特征太多。独热+PCA效果不好"
   ]
  },
  {
   "cell_type": "code",
   "execution_count": 46,
   "metadata": {
    "code_folding": [
     0
    ],
    "collapsed": false
   },
   "outputs": [],
   "source": [
    "# features_train = pd.get_dummies(features_train)\n",
    "# features_test = pd.get_dummies(test_df)\n",
    "\n",
    "# missing_cols = set(features_train.columns) - set(features_test.columns)\n",
    "# for column in missing_cols:\n",
    "#     features_test[column] = 0\n",
    "    \n",
    "# # 保证测试集columns的顺序同训练集columns相同，特别重要！！！！！！\n",
    "# features_test = features_test[features_train.columns]"
   ]
  },
  {
   "cell_type": "code",
   "execution_count": 47,
   "metadata": {
    "code_folding": [],
    "collapsed": false
   },
   "outputs": [],
   "source": [
    "# print len(features_train.columns), len(features_test.columns)\n",
    "# print features_train"
   ]
  },
  {
   "cell_type": "code",
   "execution_count": 48,
   "metadata": {
    "code_folding": [
     0
    ],
    "collapsed": false
   },
   "outputs": [],
   "source": [
    "# # 数据标准化，避免量纲的影响（树模型不需要：树模型概率），注意测试训练集一起做\n",
    "# from sklearn.preprocessing import StandardScaler\n",
    "# from sklearn.decomposition import PCA\n",
    "# scaler = StandardScaler()\n",
    "# features_train = scaler.fit_transform(features_train)\n",
    "# features_test = scaler.fit_transform(features_test)\n"
   ]
  },
  {
   "cell_type": "code",
   "execution_count": 49,
   "metadata": {
    "code_folding": [
     0
    ],
    "collapsed": false
   },
   "outputs": [],
   "source": [
    "# pca = PCA(n_components=30)\n",
    "# features_train = pca.fit_transform(features_train)\n",
    "# features_test = pca.fit_transform(features_test)\n",
    "\n",
    "# # 根据array新建一个DataFrame (二维数组， 列名)\n",
    "# features_train = pd.DataFrame(features_train, columns = ['Dimension' + str(i) for i in range(1,31)])\n",
    "# features_test = pd.DataFrame(features_test, columns = ['Dimension' + str(i) for i in range(1,31)])\n"
   ]
  },
  {
   "cell_type": "code",
   "execution_count": 50,
   "metadata": {
    "code_folding": [],
    "collapsed": false,
    "scrolled": true
   },
   "outputs": [],
   "source": [
    "# print features_train.head(10)"
   ]
  },
  {
   "cell_type": "markdown",
   "metadata": {},
   "source": [
    "#### Label Encoding 一些可以包含信息的类别特征\n",
    "\n",
    "**in their ordering set** "
   ]
  },
  {
   "cell_type": "code",
   "execution_count": 51,
   "metadata": {
    "collapsed": false
   },
   "outputs": [
    {
     "name": "stdout",
     "output_type": "stream",
     "text": [
      "Shape all_data: (1458, 54)\n",
      "Shape all_data: (1459, 54)\n"
     ]
    }
   ],
   "source": [
    "from sklearn.preprocessing import LabelEncoder\n",
    "# categories = [i for i in train_df.columns if i not in cols]\n",
    "# process columns, apply LabelEncoder to categorical features\n",
    "\n",
    "categories = ['FireplaceQu', 'BsmtQual', 'BsmtCond', 'GarageQual', 'GarageCond', \n",
    "        'ExterQual', 'ExterCond','HeatingQC', 'PoolQC', 'KitchenQual', 'BsmtFinType1', \n",
    "        'BsmtFinType2', 'Functional', 'Fence', 'BsmtExposure', 'GarageFinish', 'LandSlope',\n",
    "        'LotShape', 'PavedDrive', 'Street', 'Alley', 'CentralAir', 'MSSubClass', 'OverallCond', \n",
    "        'YrSold', 'MoSold', 'BedroomAbvGr']\n",
    "\n",
    "for c in categories:\n",
    "    lbl = LabelEncoder() \n",
    "    features_train[c] = lbl.fit_transform(list(features_train[c].values))\n",
    "    features_test[c] = lbl.fit_transform(list(features_test[c].values))\n",
    "\n",
    "\n",
    "# shape        \n",
    "print 'Shape all_data: {}'.format(features_train.shape)\n",
    "print 'Shape all_data: {}'.format(features_test.shape)\n"
   ]
  },
  {
   "cell_type": "code",
   "execution_count": 52,
   "metadata": {
    "collapsed": false,
    "scrolled": false
   },
   "outputs": [
    {
     "name": "stdout",
     "output_type": "stream",
     "text": [
      "['MSZoning', 'LandContour', 'Utilities', 'LotConfig', 'Neighborhood', 'Condition1', 'Condition2', 'BldgType', 'HouseStyle', 'RoofStyle', 'RoofMatl', 'Exterior1st', 'Exterior2nd', 'MasVnrType', 'Foundation', 'Heating', 'Electrical', 'GarageType', 'MiscFeature', 'SaleType', 'SaleCondition']\n"
     ]
    }
   ],
   "source": [
    "print [i for i in features_train.columns if (i not in categories) and (i not in cols) ]"
   ]
  },
  {
   "cell_type": "markdown",
   "metadata": {},
   "source": [
    "#### 处理Label Encoding转换后无高低顺序的特征 （同目标无相关性的特征）"
   ]
  },
  {
   "cell_type": "code",
   "execution_count": 53,
   "metadata": {
    "collapsed": true
   },
   "outputs": [],
   "source": [
    "# remove_columns = ['Exterior2nd']"
   ]
  },
  {
   "cell_type": "code",
   "execution_count": 54,
   "metadata": {
    "collapsed": true
   },
   "outputs": [],
   "source": [
    "# features_train = features_train.drop(remove_columns, axis=1)\n",
    "# features_test = features_test.drop(remove_columns, axis=1)"
   ]
  },
  {
   "cell_type": "code",
   "execution_count": 55,
   "metadata": {
    "collapsed": false
   },
   "outputs": [],
   "source": [
    "# var = 'SaleCondition'  # \n",
    "# data = pd.concat([labels_train, train_df[var]], axis=1)\n",
    "# f, ax = plt.subplots(figsize=(8, 6))\n",
    "# fig = sns.boxplot(x=var, y=\"SalePrice\", data=data)  # 横坐标类别，纵坐标目标变量\n",
    "# fig.axis(ymin=0, ymax=800000);"
   ]
  },
  {
   "cell_type": "markdown",
   "metadata": {},
   "source": [
    "#### 独热编码其他与顺序无关的特征"
   ]
  },
  {
   "cell_type": "code",
   "execution_count": 56,
   "metadata": {
    "collapsed": true
   },
   "outputs": [],
   "source": [
    "features_train = pd.get_dummies(features_train)\n",
    "features_test = pd.get_dummies(test_df)\n",
    "\n",
    "missing_cols = set(features_train.columns) - set(features_test.columns)\n",
    "for column in missing_cols:\n",
    "    features_test[column] = 0\n",
    "    \n",
    "# 保证测试集columns的顺序同训练集columns相同，特别重要！！！！！！\n",
    "features_test = features_test[features_train.columns]"
   ]
  },
  {
   "cell_type": "code",
   "execution_count": 57,
   "metadata": {
    "collapsed": false
   },
   "outputs": [
    {
     "name": "stdout",
     "output_type": "stream",
     "text": [
      "196\n"
     ]
    }
   ],
   "source": [
    "print len(features_train.columns)"
   ]
  },
  {
   "cell_type": "markdown",
   "metadata": {},
   "source": [
    "PCA降维\n"
   ]
  },
  {
   "cell_type": "markdown",
   "metadata": {},
   "source": [
    "### 分割训练和测试数据"
   ]
  },
  {
   "cell_type": "code",
   "execution_count": 58,
   "metadata": {
    "collapsed": false
   },
   "outputs": [
    {
     "name": "stdout",
     "output_type": "stream",
     "text": [
      "1166 292\n"
     ]
    }
   ],
   "source": [
    "from sklearn.model_selection import train_test_split\n",
    "\n",
    "# 分割features_train 和 labels_train, 测试集大小 = 20%，状态：随机，可复现\n",
    "# 顺序：测试特征，训练特征，测试目标，训练目标\n",
    "\n",
    "X_train, X_test, y_train, y_test = train_test_split(features_train, labels_train, test_size = 0.2, random_state = 42)\n",
    "\n",
    "# 输出数量观察\n",
    "\n",
    "print len(X_train), len(X_test)"
   ]
  },
  {
   "cell_type": "markdown",
   "metadata": {},
   "source": [
    "# 模型"
   ]
  },
  {
   "cell_type": "markdown",
   "metadata": {},
   "source": [
    "## 分析问题，确定模型"
   ]
  },
  {
   "cell_type": "markdown",
   "metadata": {},
   "source": [
    "问题为回归问题，可用模型：线性回归，决策树（C&RT决策树），随机森林，GBDT"
   ]
  },
  {
   "cell_type": "markdown",
   "metadata": {},
   "source": [
    "## 首先用简单的模型进行试验，观察评分"
   ]
  },
  {
   "cell_type": "markdown",
   "metadata": {},
   "source": [
    "回归模型评分指标包括：\n",
    "\n",
    "1、SSE误差平方和\n",
    "\n",
    "2、R-square（决定系数）\n",
    "\n",
    "3、矫正决定系数"
   ]
  },
  {
   "cell_type": "code",
   "execution_count": 59,
   "metadata": {
    "collapsed": false,
    "scrolled": true
   },
   "outputs": [
    {
     "name": "stdout",
     "output_type": "stream",
     "text": [
      "{'RandomForestRegressor': 0.15333531548337406, 'LinearRegression': 0.13495581158132186, 'XGBRegressor': 0.12181807442982734, 'DecisionTreeRegressor': 0.23054321884145609}\n"
     ]
    }
   ],
   "source": [
    "# 导入算法模型和评分标准 \n",
    "from sklearn.tree import DecisionTreeRegressor\n",
    "from sklearn.linear_model import LinearRegression\n",
    "from sklearn.ensemble import RandomForestRegressor\n",
    "from sklearn.metrics import fbeta_score, make_scorer, r2_score ,mean_squared_error\n",
    "from xgboost import XGBRegressor\n",
    "\n",
    "def rmse(y, y_pred):\n",
    "    return np.sqrt(mean_squared_error(y, y_pred))\n",
    "\n",
    "# 初始化,确定随机状态，可复现\n",
    "reg1 = DecisionTreeRegressor(random_state = 42)\n",
    "reg2 = LinearRegression()\n",
    "reg3 = RandomForestRegressor(random_state = 42)\n",
    "reg4 = XGBRegressor()\n",
    "\n",
    "\n",
    "# 建立字典，收集学习器的效果\n",
    "# 学习，收集预测得分\n",
    "results = {}\n",
    "for reg in [reg1, reg2, reg3, reg4]:\n",
    "    # 回归器的名称\n",
    "    reg_name = reg.__class__.__name__\n",
    "    reg.fit(X_train, y_train)\n",
    "    pred_test = reg.predict(X_test)\n",
    "    results[reg_name] = rmse(y_test, pred_test)\n",
    "    \n",
    "print results"
   ]
  },
  {
   "cell_type": "markdown",
   "metadata": {},
   "source": [
    "## 网格搜索调参"
   ]
  },
  {
   "cell_type": "markdown",
   "metadata": {},
   "source": [
    "### 随机森林"
   ]
  },
  {
   "cell_type": "code",
   "execution_count": 60,
   "metadata": {
    "collapsed": false
   },
   "outputs": [],
   "source": [
    "# # 模型：RandomForest\n",
    "# # 导入Grid\n",
    "# from sklearn.model_selection import GridSearchCV\n",
    "\n",
    "# # 初始化回归模型\n",
    "# reg = RandomForestRegressor(random_state=42)\n",
    "\n",
    "# # 确定参数列表\n",
    "# parameters = {'min_samples_split':range(2,6), 'max_depth':range(10, 101, 10)}\n",
    "\n",
    "# # 确定评分标准\n",
    "# scorer = make_scorer(r2_score)\n",
    "\n",
    "# # 回归模型使用网格搜索\n",
    "# grid_reg = GridSearchCV(reg, parameters, scoring = scorer)\n",
    "\n",
    "# # 训练\n",
    "# grid_reg.fit(X_train, y_train)\n",
    "\n",
    "# # 获得最佳拟合回归器\n",
    "# best_reg = grid_reg.best_estimator_"
   ]
  },
  {
   "cell_type": "markdown",
   "metadata": {},
   "source": [
    "### 线性回归"
   ]
  },
  {
   "cell_type": "code",
   "execution_count": 61,
   "metadata": {
    "collapsed": false
   },
   "outputs": [],
   "source": [
    "# # 模型：线性回归\n",
    "# from sklearn.model_selection import GridSearchCV\n",
    "\n",
    "# # 初始化回归模型\n",
    "# reg = LinearRegression()\n",
    "\n",
    "# # 确定参数列表\n",
    "# parameters = {'fit_intercept':[True,False], 'normalize':[True,False], 'copy_X':[True, False]}\n",
    "\n",
    "# # 确定评分标准\n",
    "# scorer = make_scorer(r2_score)\n",
    "\n",
    "# # 回归模型使用网格搜索\n",
    "# grid_reg = GridSearchCV(reg, parameters, scoring = scorer)\n",
    "\n",
    "# # 训练\n",
    "# grid_reg.fit(X_train, y_train)\n",
    "\n",
    "# # 获得最佳拟合回归器\n",
    "# best_reg = grid_reg.best_estimator_"
   ]
  },
  {
   "cell_type": "markdown",
   "metadata": {},
   "source": [
    "### Xgboost"
   ]
  },
  {
   "cell_type": "markdown",
   "metadata": {},
   "source": []
  },
  {
   "cell_type": "code",
   "execution_count": 62,
   "metadata": {
    "collapsed": false
   },
   "outputs": [],
   "source": [
    "# 模型：Xgboost\n",
    "from sklearn.model_selection import GridSearchCV\n",
    "\n",
    "# 初始化模型\n",
    "reg = XGBRegressor(colsample_bytree=0.4603, gamma=0.0468, \n",
    "                             learning_rate=0.05, max_depth=3, \n",
    "                             min_child_weight=1.7817, n_estimators=2200,\n",
    "                             reg_alpha=0.4640, reg_lambda=0.8571,\n",
    "                             subsample=0.5213, silent=1,\n",
    "                             nthread = -1)\n",
    "\n",
    "# 设定参数\n",
    "# parameters = {\n",
    "    \n",
    "# }\n",
    "\n",
    "# # 评分标准\n",
    "# scorer = make_scorer(r2_score)\n",
    "\n",
    "# # 网格搜索\n",
    "# grid_reg = GridSearchCV(reg, parameters, scoring=scorer)\n",
    "\n",
    "# 训练\n",
    "reg.fit(X_train, y_train)\n",
    "\n",
    "# 获取最佳拟合器\n",
    "best_reg = reg"
   ]
  },
  {
   "cell_type": "markdown",
   "metadata": {},
   "source": [
    "## 交叉验证"
   ]
  },
  {
   "cell_type": "markdown",
   "metadata": {},
   "source": [
    "### 测试集上的分数"
   ]
  },
  {
   "cell_type": "code",
   "execution_count": 63,
   "metadata": {
    "collapsed": false,
    "scrolled": true
   },
   "outputs": [
    {
     "name": "stdout",
     "output_type": "stream",
     "text": [
      "0.118329078343\n"
     ]
    }
   ],
   "source": [
    "pred_y_test = best_reg.predict(X_test)\n",
    "print rmse(pred_y_test, y_test)\n",
    "\n",
    "# pred_y_train = best_reg.predict(X_train)\n",
    "# print rmse(pred_y_train, y_train)"
   ]
  },
  {
   "cell_type": "markdown",
   "metadata": {},
   "source": [
    "### 学习曲线"
   ]
  },
  {
   "cell_type": "markdown",
   "metadata": {},
   "source": [
    "使用Sklearn中学习曲线函数：http://scikit-learn.org/stable/auto_examples/model_selection/plot_learning_curve.html"
   ]
  },
  {
   "cell_type": "code",
   "execution_count": 64,
   "metadata": {
    "code_folding": [
     0
    ],
    "collapsed": false
   },
   "outputs": [],
   "source": [
    "# print(__doc__)\n",
    "\n",
    "# import numpy as np\n",
    "# import matplotlib.pyplot as plt\n",
    "# from sklearn.naive_bayes import GaussianNB\n",
    "# from sklearn.svm import SVC\n",
    "# from sklearn.datasets import load_digits\n",
    "# from sklearn.model_selection import learning_curve\n",
    "# from sklearn.model_selection import ShuffleSplit\n",
    "\n",
    "\n",
    "# def plot_learning_curve(estimator, title, X, y, ylim=None, cv=None,\n",
    "#                         n_jobs=1, train_sizes=np.linspace(.1, 1.0, 5)):\n",
    "#     \"\"\"\n",
    "#     Generate a simple plot of the test and training learning curve.\n",
    "\n",
    "#     Parameters\n",
    "#     ----------\n",
    "#     estimator : object type that implements the \"fit\" and \"predict\" methods\n",
    "#         An object of that type which is cloned for each validation.\n",
    "\n",
    "#     title : string\n",
    "#         Title for the chart.\n",
    "\n",
    "#     X : array-like, shape (n_samples, n_features)\n",
    "#         Training vector, where n_samples is the number of samples and\n",
    "#         n_features is the number of features.\n",
    "\n",
    "#     y : array-like, shape (n_samples) or (n_samples, n_features), optional\n",
    "#         Target relative to X for classification or regression;\n",
    "#         None for unsupervised learning.\n",
    "\n",
    "#     ylim : tuple, shape (ymin, ymax), optional\n",
    "#         Defines minimum and maximum yvalues plotted.\n",
    "\n",
    "#     cv : int, cross-validation generator or an iterable, optional\n",
    "#         Determines the cross-validation splitting strategy.\n",
    "#         Possible inputs for cv are:\n",
    "#           - None, to use the default 3-fold cross-validation,\n",
    "#           - integer, to specify the number of folds.\n",
    "#           - An object to be used as a cross-validation generator.\n",
    "#           - An iterable yielding train/test splits.\n",
    "\n",
    "#         For integer/None inputs, if ``y`` is binary or multiclass,\n",
    "#         :class:`StratifiedKFold` used. If the estimator is not a classifier\n",
    "#         or if ``y`` is neither binary nor multiclass, :class:`KFold` is used.\n",
    "\n",
    "#         Refer :ref:`User Guide <cross_validation>` for the various\n",
    "#         cross-validators that can be used here.\n",
    "\n",
    "#     n_jobs : integer, optional\n",
    "#         Number of jobs to run in parallel (default 1).\n",
    "#     \"\"\"\n",
    "#     plt.figure()\n",
    "#     plt.title(title)\n",
    "#     if ylim is not None:\n",
    "#         plt.ylim(*ylim)\n",
    "#     plt.xlabel(\"Training examples\")\n",
    "#     plt.ylabel(\"Score\")\n",
    "#     train_sizes, train_scores, test_scores = learning_curve(\n",
    "#         estimator, X, y, cv=cv, n_jobs=n_jobs, train_sizes=train_sizes)\n",
    "#     train_scores_mean = np.mean(train_scores, axis=1)\n",
    "#     train_scores_std = np.std(train_scores, axis=1)\n",
    "#     test_scores_mean = np.mean(test_scores, axis=1)\n",
    "#     test_scores_std = np.std(test_scores, axis=1)\n",
    "#     plt.grid()\n",
    "\n",
    "#     plt.fill_between(train_sizes, train_scores_mean - train_scores_std,\n",
    "#                      train_scores_mean + train_scores_std, alpha=0.1,\n",
    "#                      color=\"r\")\n",
    "#     plt.fill_between(train_sizes, test_scores_mean - test_scores_std,\n",
    "#                      test_scores_mean + test_scores_std, alpha=0.1, color=\"g\")\n",
    "#     plt.plot(train_sizes, train_scores_mean, 'o-', color=\"r\",\n",
    "#              label=\"Training score\")\n",
    "#     plt.plot(train_sizes, test_scores_mean, 'o-', color=\"g\",\n",
    "#              label=\"Cross-validation score\")\n",
    "\n",
    "#     plt.legend(loc=\"best\")\n",
    "#     return plt"
   ]
  },
  {
   "cell_type": "code",
   "execution_count": 65,
   "metadata": {
    "code_folding": [
     0
    ],
    "collapsed": false
   },
   "outputs": [],
   "source": [
    "# title = \"Learning Curves (Xgboost)\"\n",
    "# # Cross validation with 100 iterations to get smoother mean test and train\n",
    "# # score curves, each time with 20% data randomly selected as a validation set.\n",
    "# cv = ShuffleSplit(n_splits=100, test_size=0.2, random_state=0)\n",
    "\n",
    "# estimator = XGBRegressor()\n",
    "# plot_learning_curve(estimator, title, features_train, labels_train, ylim=(0.7, 1.01), cv=cv, n_jobs=4)\n",
    "\n",
    "# plt.show()"
   ]
  },
  {
   "cell_type": "markdown",
   "metadata": {},
   "source": [
    "# 预测目标数据"
   ]
  },
  {
   "cell_type": "code",
   "execution_count": 66,
   "metadata": {
    "collapsed": false
   },
   "outputs": [
    {
     "data": {
      "text/plain": [
       "array([ 115549.734375,  153082.796875,  180765.5     , ...,  148156.5625  ,\n",
       "        120176.015625,  224487.96875 ], dtype=float32)"
      ]
     },
     "execution_count": 66,
     "metadata": {},
     "output_type": "execute_result"
    }
   ],
   "source": [
    "pred = np.expm1(best_reg.predict(features_test))\n",
    "pred"
   ]
  },
  {
   "cell_type": "markdown",
   "metadata": {},
   "source": [
    "# 输出结果"
   ]
  },
  {
   "cell_type": "code",
   "execution_count": 67,
   "metadata": {
    "collapsed": false
   },
   "outputs": [
    {
     "data": {
      "text/html": [
       "<div>\n",
       "<style scoped>\n",
       "    .dataframe tbody tr th:only-of-type {\n",
       "        vertical-align: middle;\n",
       "    }\n",
       "\n",
       "    .dataframe tbody tr th {\n",
       "        vertical-align: top;\n",
       "    }\n",
       "\n",
       "    .dataframe thead th {\n",
       "        text-align: right;\n",
       "    }\n",
       "</style>\n",
       "<table border=\"1\" class=\"dataframe\">\n",
       "  <thead>\n",
       "    <tr style=\"text-align: right;\">\n",
       "      <th></th>\n",
       "      <th>SalePrice</th>\n",
       "    </tr>\n",
       "    <tr>\n",
       "      <th>Id</th>\n",
       "      <th></th>\n",
       "    </tr>\n",
       "  </thead>\n",
       "  <tbody>\n",
       "    <tr>\n",
       "      <th>1461</th>\n",
       "      <td>115549.734375</td>\n",
       "    </tr>\n",
       "    <tr>\n",
       "      <th>1462</th>\n",
       "      <td>153082.796875</td>\n",
       "    </tr>\n",
       "    <tr>\n",
       "      <th>1463</th>\n",
       "      <td>180765.500000</td>\n",
       "    </tr>\n",
       "    <tr>\n",
       "      <th>1464</th>\n",
       "      <td>193087.359375</td>\n",
       "    </tr>\n",
       "    <tr>\n",
       "      <th>1465</th>\n",
       "      <td>198980.062500</td>\n",
       "    </tr>\n",
       "    <tr>\n",
       "      <th>1466</th>\n",
       "      <td>172979.484375</td>\n",
       "    </tr>\n",
       "    <tr>\n",
       "      <th>1467</th>\n",
       "      <td>176049.718750</td>\n",
       "    </tr>\n",
       "    <tr>\n",
       "      <th>1468</th>\n",
       "      <td>170636.625000</td>\n",
       "    </tr>\n",
       "    <tr>\n",
       "      <th>1469</th>\n",
       "      <td>186425.578125</td>\n",
       "    </tr>\n",
       "    <tr>\n",
       "      <th>1470</th>\n",
       "      <td>123071.226562</td>\n",
       "    </tr>\n",
       "    <tr>\n",
       "      <th>1471</th>\n",
       "      <td>198852.765625</td>\n",
       "    </tr>\n",
       "    <tr>\n",
       "      <th>1472</th>\n",
       "      <td>94207.179688</td>\n",
       "    </tr>\n",
       "    <tr>\n",
       "      <th>1473</th>\n",
       "      <td>95739.492188</td>\n",
       "    </tr>\n",
       "    <tr>\n",
       "      <th>1474</th>\n",
       "      <td>158725.578125</td>\n",
       "    </tr>\n",
       "    <tr>\n",
       "      <th>1475</th>\n",
       "      <td>121956.007812</td>\n",
       "    </tr>\n",
       "    <tr>\n",
       "      <th>1476</th>\n",
       "      <td>414488.531250</td>\n",
       "    </tr>\n",
       "    <tr>\n",
       "      <th>1477</th>\n",
       "      <td>253285.843750</td>\n",
       "    </tr>\n",
       "    <tr>\n",
       "      <th>1478</th>\n",
       "      <td>292008.687500</td>\n",
       "    </tr>\n",
       "    <tr>\n",
       "      <th>1479</th>\n",
       "      <td>304230.312500</td>\n",
       "    </tr>\n",
       "    <tr>\n",
       "      <th>1480</th>\n",
       "      <td>468510.000000</td>\n",
       "    </tr>\n",
       "    <tr>\n",
       "      <th>1481</th>\n",
       "      <td>341599.406250</td>\n",
       "    </tr>\n",
       "    <tr>\n",
       "      <th>1482</th>\n",
       "      <td>220260.406250</td>\n",
       "    </tr>\n",
       "    <tr>\n",
       "      <th>1483</th>\n",
       "      <td>168338.359375</td>\n",
       "    </tr>\n",
       "    <tr>\n",
       "      <th>1484</th>\n",
       "      <td>181836.796875</td>\n",
       "    </tr>\n",
       "    <tr>\n",
       "      <th>1485</th>\n",
       "      <td>173305.109375</td>\n",
       "    </tr>\n",
       "    <tr>\n",
       "      <th>1486</th>\n",
       "      <td>197887.562500</td>\n",
       "    </tr>\n",
       "    <tr>\n",
       "      <th>1487</th>\n",
       "      <td>339810.687500</td>\n",
       "    </tr>\n",
       "    <tr>\n",
       "      <th>1488</th>\n",
       "      <td>231314.015625</td>\n",
       "    </tr>\n",
       "    <tr>\n",
       "      <th>1489</th>\n",
       "      <td>189192.593750</td>\n",
       "    </tr>\n",
       "    <tr>\n",
       "      <th>1490</th>\n",
       "      <td>209364.687500</td>\n",
       "    </tr>\n",
       "    <tr>\n",
       "      <th>...</th>\n",
       "      <td>...</td>\n",
       "    </tr>\n",
       "    <tr>\n",
       "      <th>2890</th>\n",
       "      <td>84194.648438</td>\n",
       "    </tr>\n",
       "    <tr>\n",
       "      <th>2891</th>\n",
       "      <td>138086.765625</td>\n",
       "    </tr>\n",
       "    <tr>\n",
       "      <th>2892</th>\n",
       "      <td>52780.378906</td>\n",
       "    </tr>\n",
       "    <tr>\n",
       "      <th>2893</th>\n",
       "      <td>89508.117188</td>\n",
       "    </tr>\n",
       "    <tr>\n",
       "      <th>2894</th>\n",
       "      <td>58206.992188</td>\n",
       "    </tr>\n",
       "    <tr>\n",
       "      <th>2895</th>\n",
       "      <td>333922.750000</td>\n",
       "    </tr>\n",
       "    <tr>\n",
       "      <th>2896</th>\n",
       "      <td>292489.750000</td>\n",
       "    </tr>\n",
       "    <tr>\n",
       "      <th>2897</th>\n",
       "      <td>219181.687500</td>\n",
       "    </tr>\n",
       "    <tr>\n",
       "      <th>2898</th>\n",
       "      <td>159401.843750</td>\n",
       "    </tr>\n",
       "    <tr>\n",
       "      <th>2899</th>\n",
       "      <td>232361.812500</td>\n",
       "    </tr>\n",
       "    <tr>\n",
       "      <th>2900</th>\n",
       "      <td>170381.656250</td>\n",
       "    </tr>\n",
       "    <tr>\n",
       "      <th>2901</th>\n",
       "      <td>216284.421875</td>\n",
       "    </tr>\n",
       "    <tr>\n",
       "      <th>2902</th>\n",
       "      <td>182576.531250</td>\n",
       "    </tr>\n",
       "    <tr>\n",
       "      <th>2903</th>\n",
       "      <td>329007.031250</td>\n",
       "    </tr>\n",
       "    <tr>\n",
       "      <th>2904</th>\n",
       "      <td>345366.437500</td>\n",
       "    </tr>\n",
       "    <tr>\n",
       "      <th>2905</th>\n",
       "      <td>81885.492188</td>\n",
       "    </tr>\n",
       "    <tr>\n",
       "      <th>2906</th>\n",
       "      <td>189105.281250</td>\n",
       "    </tr>\n",
       "    <tr>\n",
       "      <th>2907</th>\n",
       "      <td>105508.062500</td>\n",
       "    </tr>\n",
       "    <tr>\n",
       "      <th>2908</th>\n",
       "      <td>131007.828125</td>\n",
       "    </tr>\n",
       "    <tr>\n",
       "      <th>2909</th>\n",
       "      <td>167732.281250</td>\n",
       "    </tr>\n",
       "    <tr>\n",
       "      <th>2910</th>\n",
       "      <td>84008.085938</td>\n",
       "    </tr>\n",
       "    <tr>\n",
       "      <th>2911</th>\n",
       "      <td>91097.343750</td>\n",
       "    </tr>\n",
       "    <tr>\n",
       "      <th>2912</th>\n",
       "      <td>143203.953125</td>\n",
       "    </tr>\n",
       "    <tr>\n",
       "      <th>2913</th>\n",
       "      <td>86359.718750</td>\n",
       "    </tr>\n",
       "    <tr>\n",
       "      <th>2914</th>\n",
       "      <td>82740.359375</td>\n",
       "    </tr>\n",
       "    <tr>\n",
       "      <th>2915</th>\n",
       "      <td>92611.828125</td>\n",
       "    </tr>\n",
       "    <tr>\n",
       "      <th>2916</th>\n",
       "      <td>88136.968750</td>\n",
       "    </tr>\n",
       "    <tr>\n",
       "      <th>2917</th>\n",
       "      <td>148156.562500</td>\n",
       "    </tr>\n",
       "    <tr>\n",
       "      <th>2918</th>\n",
       "      <td>120176.015625</td>\n",
       "    </tr>\n",
       "    <tr>\n",
       "      <th>2919</th>\n",
       "      <td>224487.968750</td>\n",
       "    </tr>\n",
       "  </tbody>\n",
       "</table>\n",
       "<p>1459 rows × 1 columns</p>\n",
       "</div>"
      ],
      "text/plain": [
       "          SalePrice\n",
       "Id                 \n",
       "1461  115549.734375\n",
       "1462  153082.796875\n",
       "1463  180765.500000\n",
       "1464  193087.359375\n",
       "1465  198980.062500\n",
       "1466  172979.484375\n",
       "1467  176049.718750\n",
       "1468  170636.625000\n",
       "1469  186425.578125\n",
       "1470  123071.226562\n",
       "1471  198852.765625\n",
       "1472   94207.179688\n",
       "1473   95739.492188\n",
       "1474  158725.578125\n",
       "1475  121956.007812\n",
       "1476  414488.531250\n",
       "1477  253285.843750\n",
       "1478  292008.687500\n",
       "1479  304230.312500\n",
       "1480  468510.000000\n",
       "1481  341599.406250\n",
       "1482  220260.406250\n",
       "1483  168338.359375\n",
       "1484  181836.796875\n",
       "1485  173305.109375\n",
       "1486  197887.562500\n",
       "1487  339810.687500\n",
       "1488  231314.015625\n",
       "1489  189192.593750\n",
       "1490  209364.687500\n",
       "...             ...\n",
       "2890   84194.648438\n",
       "2891  138086.765625\n",
       "2892   52780.378906\n",
       "2893   89508.117188\n",
       "2894   58206.992188\n",
       "2895  333922.750000\n",
       "2896  292489.750000\n",
       "2897  219181.687500\n",
       "2898  159401.843750\n",
       "2899  232361.812500\n",
       "2900  170381.656250\n",
       "2901  216284.421875\n",
       "2902  182576.531250\n",
       "2903  329007.031250\n",
       "2904  345366.437500\n",
       "2905   81885.492188\n",
       "2906  189105.281250\n",
       "2907  105508.062500\n",
       "2908  131007.828125\n",
       "2909  167732.281250\n",
       "2910   84008.085938\n",
       "2911   91097.343750\n",
       "2912  143203.953125\n",
       "2913   86359.718750\n",
       "2914   82740.359375\n",
       "2915   92611.828125\n",
       "2916   88136.968750\n",
       "2917  148156.562500\n",
       "2918  120176.015625\n",
       "2919  224487.968750\n",
       "\n",
       "[1459 rows x 1 columns]"
      ]
     },
     "execution_count": 67,
     "metadata": {},
     "output_type": "execute_result"
    }
   ],
   "source": [
    "# 增加索引，列名，构建DataFrame，符合输出数据格式\n",
    "\n",
    "test_df = pd.read_csv('test.csv')\n",
    "predict_df = pd.DataFrame({'Id': test_df['Id'], 'SalePrice': pred})\n",
    "\n",
    "# DataFrame设定index\n",
    "predict_df = predict_df.set_index('Id')\n",
    "\n",
    "# 重命名DataFrame的列，列名 = 字典{原：替换后}\n",
    "# predict_df.rename(columns = {predict_df.columns[0]: 'Id'}, inplace=True)\n",
    "\n",
    "predict_df"
   ]
  },
  {
   "cell_type": "code",
   "execution_count": 68,
   "metadata": {
    "collapsed": false
   },
   "outputs": [],
   "source": [
    "predict_df.to_csv('Submission.csv')"
   ]
  },
  {
   "cell_type": "markdown",
   "metadata": {},
   "source": [
    "# 待优化策略"
   ]
  },
  {
   "cell_type": "markdown",
   "metadata": {
    "collapsed": true
   },
   "source": [
    "ROUND 1：\n",
    "\n",
    "I：PCA得分： 0.21683  RF\n",
    "\n",
    "II：去掉PCA得分：0.18129，3227位  RF\n",
    "\n",
    "III：Xgboost + 所有特征270: 0.14339 ⬆️（可解释性差，容易过拟合）\n",
    "\n",
    "III：相关性强数值特征 ：0.14870 ⬇️\n",
    "\n",
    "IV：相关性强数值特征 + Label Coder + 对数处理目标变量：0.14628 ⬇️\n",
    "\n",
    "V: 一些数值特征转换为类别特征：Msubclass等：0.13902 ⬆️\n",
    "\n",
    "VI：转化性中：一些类别特征Label coder有序，有意义：\n",
    "\n",
    "BsmtQual: Evaluates the height of the basement\n",
    "\n",
    "       Ex\tExcellent (100+ inches)\t\n",
    "       Gd\tGood (90-99 inches)\n",
    "       TA\tTypical (80-89 inches)\n",
    "       Fa\tFair (70-79 inches)\n",
    "       Po\tPoor (<70 inches\n",
    "       NA\tNo Basement\n",
    "       \n",
    "       一些类别特征有序无隐含信息，直接独热编码\n",
    "       \n",
    "      0.13814 ⬆️\n",
    "       \n",
    "VII: 处理倾斜特征 0.13811 ⬆️\n",
    " \n",
    "ROUND2：\n",
    "\n",
    "I：类别特征 - 完整性，部分类别特征确实缺失数据  0.13806 ⬆️\n",
    "\n",
    "II：XGboost 调参 0.12979 ✅\n",
    "\n",
    "\n",
    "\n",
    "待优化点有：\n",
    "\n",
    "1、评分标准更改为Kaggle标准 ✅\n",
    "\n",
    "2、特征分析，创造新特征 ✅\n",
    "\n",
    "特征较多：74，如何选取以及探索恰当的特征？\n",
    "\n",
    "【客观分析】\n",
    "\n",
    "3、探索性分析，确定关键特征 ✅\n",
    "\n",
    "【探索性数据分析】\n",
    "\n",
    "4、Xgboost学习，调参  ✅\n",
    "\n",
    "5、集成方法 stacking\n",
    "\n",
    "6、模型有些过拟合，试图减少特征的数量 ✅\n",
    "\n",
    "7、对类别特征进行取舍，选取相关性强的类别特征\n",
    "\n",
    "\n",
    "待解决问题有：\n",
    "\n",
    "1、为什么使用PCA降维后效果不好？\n",
    "\n",
    "2、怎么判断模型存在过拟合？✅\n",
    "\n",
    "学习曲线，Learning curve\n",
    "\n",
    "3、线性回归为什么有负值 ✅\n",
    "\n",
    "在做类别数据 -> 数值转化时，训练集同测试集列名存在区别。只新增了测试集缺失的列，未调整列的顺序。\n",
    "注意：test = test[train.columns]\n",
    "\n",
    "4、XGboost调参技巧 ❌\n",
    "\n"
   ]
  },
  {
   "cell_type": "code",
   "execution_count": 69,
   "metadata": {
    "collapsed": false
   },
   "outputs": [],
   "source": [
    "df = pd.DataFrame(np.random.randint(1,10, size=(3,4)), columns = ['A', 'B', 'C', 'D'])"
   ]
  },
  {
   "cell_type": "code",
   "execution_count": 70,
   "metadata": {
    "collapsed": false
   },
   "outputs": [],
   "source": [
    "df2 = pd.DataFrame(np.random.randint(1,10, size=(2,3)), columns = ['A', 'C', 'D'])"
   ]
  },
  {
   "cell_type": "code",
   "execution_count": 71,
   "metadata": {
    "collapsed": false,
    "scrolled": true
   },
   "outputs": [
    {
     "data": {
      "text/html": [
       "<div>\n",
       "<style scoped>\n",
       "    .dataframe tbody tr th:only-of-type {\n",
       "        vertical-align: middle;\n",
       "    }\n",
       "\n",
       "    .dataframe tbody tr th {\n",
       "        vertical-align: top;\n",
       "    }\n",
       "\n",
       "    .dataframe thead th {\n",
       "        text-align: right;\n",
       "    }\n",
       "</style>\n",
       "<table border=\"1\" class=\"dataframe\">\n",
       "  <thead>\n",
       "    <tr style=\"text-align: right;\">\n",
       "      <th></th>\n",
       "      <th>A</th>\n",
       "      <th>C</th>\n",
       "      <th>D</th>\n",
       "    </tr>\n",
       "  </thead>\n",
       "  <tbody>\n",
       "    <tr>\n",
       "      <th>0</th>\n",
       "      <td>3</td>\n",
       "      <td>6</td>\n",
       "      <td>7</td>\n",
       "    </tr>\n",
       "    <tr>\n",
       "      <th>1</th>\n",
       "      <td>2</td>\n",
       "      <td>1</td>\n",
       "      <td>7</td>\n",
       "    </tr>\n",
       "  </tbody>\n",
       "</table>\n",
       "</div>"
      ],
      "text/plain": [
       "   A  C  D\n",
       "0  3  6  7\n",
       "1  2  1  7"
      ]
     },
     "execution_count": 71,
     "metadata": {},
     "output_type": "execute_result"
    }
   ],
   "source": [
    "df2"
   ]
  },
  {
   "cell_type": "code",
   "execution_count": 72,
   "metadata": {
    "collapsed": false
   },
   "outputs": [
    {
     "data": {
      "text/html": [
       "<div>\n",
       "<style scoped>\n",
       "    .dataframe tbody tr th:only-of-type {\n",
       "        vertical-align: middle;\n",
       "    }\n",
       "\n",
       "    .dataframe tbody tr th {\n",
       "        vertical-align: top;\n",
       "    }\n",
       "\n",
       "    .dataframe thead th {\n",
       "        text-align: right;\n",
       "    }\n",
       "</style>\n",
       "<table border=\"1\" class=\"dataframe\">\n",
       "  <thead>\n",
       "    <tr style=\"text-align: right;\">\n",
       "      <th></th>\n",
       "      <th>A</th>\n",
       "      <th>B</th>\n",
       "      <th>C</th>\n",
       "      <th>D</th>\n",
       "    </tr>\n",
       "  </thead>\n",
       "  <tbody>\n",
       "    <tr>\n",
       "      <th>0</th>\n",
       "      <td>5</td>\n",
       "      <td>1</td>\n",
       "      <td>7</td>\n",
       "      <td>6</td>\n",
       "    </tr>\n",
       "    <tr>\n",
       "      <th>1</th>\n",
       "      <td>5</td>\n",
       "      <td>9</td>\n",
       "      <td>7</td>\n",
       "      <td>1</td>\n",
       "    </tr>\n",
       "    <tr>\n",
       "      <th>2</th>\n",
       "      <td>7</td>\n",
       "      <td>1</td>\n",
       "      <td>2</td>\n",
       "      <td>1</td>\n",
       "    </tr>\n",
       "  </tbody>\n",
       "</table>\n",
       "</div>"
      ],
      "text/plain": [
       "   A  B  C  D\n",
       "0  5  1  7  6\n",
       "1  5  9  7  1\n",
       "2  7  1  2  1"
      ]
     },
     "execution_count": 72,
     "metadata": {},
     "output_type": "execute_result"
    }
   ],
   "source": [
    "df"
   ]
  },
  {
   "cell_type": "code",
   "execution_count": 73,
   "metadata": {
    "collapsed": true
   },
   "outputs": [],
   "source": [
    "missing_cols = set(df.columns) - set(df2.columns)\n",
    "for column in missing_cols:\n",
    "    df2[column] = 0"
   ]
  },
  {
   "cell_type": "code",
   "execution_count": 74,
   "metadata": {
    "collapsed": false
   },
   "outputs": [
    {
     "data": {
      "text/html": [
       "<div>\n",
       "<style scoped>\n",
       "    .dataframe tbody tr th:only-of-type {\n",
       "        vertical-align: middle;\n",
       "    }\n",
       "\n",
       "    .dataframe tbody tr th {\n",
       "        vertical-align: top;\n",
       "    }\n",
       "\n",
       "    .dataframe thead th {\n",
       "        text-align: right;\n",
       "    }\n",
       "</style>\n",
       "<table border=\"1\" class=\"dataframe\">\n",
       "  <thead>\n",
       "    <tr style=\"text-align: right;\">\n",
       "      <th></th>\n",
       "      <th>A</th>\n",
       "      <th>C</th>\n",
       "      <th>D</th>\n",
       "      <th>B</th>\n",
       "    </tr>\n",
       "  </thead>\n",
       "  <tbody>\n",
       "    <tr>\n",
       "      <th>0</th>\n",
       "      <td>3</td>\n",
       "      <td>6</td>\n",
       "      <td>7</td>\n",
       "      <td>0</td>\n",
       "    </tr>\n",
       "    <tr>\n",
       "      <th>1</th>\n",
       "      <td>2</td>\n",
       "      <td>1</td>\n",
       "      <td>7</td>\n",
       "      <td>0</td>\n",
       "    </tr>\n",
       "  </tbody>\n",
       "</table>\n",
       "</div>"
      ],
      "text/plain": [
       "   A  C  D  B\n",
       "0  3  6  7  0\n",
       "1  2  1  7  0"
      ]
     },
     "execution_count": 74,
     "metadata": {},
     "output_type": "execute_result"
    }
   ],
   "source": [
    "df2"
   ]
  },
  {
   "cell_type": "code",
   "execution_count": 75,
   "metadata": {
    "collapsed": true
   },
   "outputs": [],
   "source": [
    "df2 = df2[df.columns]"
   ]
  },
  {
   "cell_type": "code",
   "execution_count": 76,
   "metadata": {
    "collapsed": false
   },
   "outputs": [
    {
     "data": {
      "text/html": [
       "<div>\n",
       "<style scoped>\n",
       "    .dataframe tbody tr th:only-of-type {\n",
       "        vertical-align: middle;\n",
       "    }\n",
       "\n",
       "    .dataframe tbody tr th {\n",
       "        vertical-align: top;\n",
       "    }\n",
       "\n",
       "    .dataframe thead th {\n",
       "        text-align: right;\n",
       "    }\n",
       "</style>\n",
       "<table border=\"1\" class=\"dataframe\">\n",
       "  <thead>\n",
       "    <tr style=\"text-align: right;\">\n",
       "      <th></th>\n",
       "      <th>A</th>\n",
       "      <th>B</th>\n",
       "      <th>C</th>\n",
       "      <th>D</th>\n",
       "    </tr>\n",
       "  </thead>\n",
       "  <tbody>\n",
       "    <tr>\n",
       "      <th>0</th>\n",
       "      <td>3</td>\n",
       "      <td>0</td>\n",
       "      <td>6</td>\n",
       "      <td>7</td>\n",
       "    </tr>\n",
       "    <tr>\n",
       "      <th>1</th>\n",
       "      <td>2</td>\n",
       "      <td>0</td>\n",
       "      <td>1</td>\n",
       "      <td>7</td>\n",
       "    </tr>\n",
       "  </tbody>\n",
       "</table>\n",
       "</div>"
      ],
      "text/plain": [
       "   A  B  C  D\n",
       "0  3  0  6  7\n",
       "1  2  0  1  7"
      ]
     },
     "execution_count": 76,
     "metadata": {},
     "output_type": "execute_result"
    }
   ],
   "source": [
    "df2"
   ]
  },
  {
   "cell_type": "code",
   "execution_count": null,
   "metadata": {
    "collapsed": true
   },
   "outputs": [],
   "source": []
  }
 ],
 "metadata": {
  "anaconda-cloud": {},
  "kernelspec": {
   "display_name": "Python [default]",
   "language": "python",
   "name": "python2"
  },
  "language_info": {
   "codemirror_mode": {
    "name": "ipython",
    "version": 2
   },
   "file_extension": ".py",
   "mimetype": "text/x-python",
   "name": "python",
   "nbconvert_exporter": "python",
   "pygments_lexer": "ipython2",
   "version": "2.7.13"
  },
  "toc": {
   "base_numbering": 1,
   "nav_menu": {},
   "number_sections": true,
   "sideBar": true,
   "skip_h1_title": false,
   "title_cell": "Table of Contents",
   "title_sidebar": "Contents",
   "toc_cell": false,
   "toc_position": {
    "height": "calc(100% - 180px)",
    "left": "10px",
    "top": "150px",
    "width": "231px"
   },
   "toc_section_display": true,
   "toc_window_display": true
  }
 },
 "nbformat": 4,
 "nbformat_minor": 1
}
