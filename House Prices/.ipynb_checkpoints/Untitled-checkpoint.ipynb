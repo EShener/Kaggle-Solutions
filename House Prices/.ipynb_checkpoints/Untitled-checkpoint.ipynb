{
 "cells": [
  {
   "cell_type": "markdown",
   "metadata": {},
   "source": [
    "# 定义问题"
   ]
  },
  {
   "cell_type": "markdown",
   "metadata": {},
   "source": [
    "It is your job to predict the sales price for each house. For each Id in the test set, you must predict the value of the SalePrice variable. \n",
    "\n",
    "预测房价\n",
    "With 79 explanatory variables describing (almost) every aspect of residential homes in Ames, Iowa, this competition challenges you to predict the final price of each home."
   ]
  },
  {
   "cell_type": "markdown",
   "metadata": {},
   "source": [
    "# 获取数据"
   ]
  },
  {
   "cell_type": "markdown",
   "metadata": {},
   "source": [
    "Kaggle:https://www.kaggle.com/c/house-prices-advanced-regression-techniques/data"
   ]
  },
  {
   "cell_type": "markdown",
   "metadata": {},
   "source": [
    "# 数据预处理"
   ]
  },
  {
   "cell_type": "markdown",
   "metadata": {},
   "source": [
    "## 导入环境库"
   ]
  },
  {
   "cell_type": "code",
   "execution_count": 1,
   "metadata": {
    "collapsed": false,
    "scrolled": false
   },
   "outputs": [
    {
     "name": "stdout",
     "output_type": "stream",
     "text": [
      "Python version: 2.7.13 |Anaconda custom (x86_64)| (default, Dec 20 2016, 23:05:08) \n",
      "[GCC 4.2.1 Compatible Apple LLVM 6.0 (clang-600.0.57)]\n",
      "pandas version: 0.23.3\n",
      "matplotlib version: 2.0.0\n",
      "NumPy version: 1.12.1\n",
      "SciPy version: 1.1.0\n",
      "IPython version: 5.1.0\n",
      "scikit-learn version: 0.19.1\n",
      "-------------------------\n"
     ]
    }
   ],
   "source": [
    "#load packages， 打印，便于可复现\n",
    "import sys #access to system parameters https://docs.python.org/3/library/sys.html\n",
    "print(\"Python version: {}\". format(sys.version))\n",
    "\n",
    "import pandas as pd #collection of functions for data processing and analysis modeled after R dataframes with SQL like features\n",
    "print(\"pandas version: {}\". format(pd.__version__))\n",
    "\n",
    "import matplotlib #collection of functions for scientific and publication-ready visualization\n",
    "print(\"matplotlib version: {}\". format(matplotlib.__version__))\n",
    "\n",
    "import numpy as np #foundational package for scientific computing\n",
    "print(\"NumPy version: {}\". format(np.__version__))\n",
    "\n",
    "import scipy as sp #collection of functions for scientific computing and advance mathematics\n",
    "print(\"SciPy version: {}\". format(sp.__version__)) \n",
    "\n",
    "import IPython\n",
    "from IPython import display #pretty printing of dataframes in Jupyter notebook\n",
    "print(\"IPython version: {}\". format(IPython.__version__)) \n",
    "\n",
    "import sklearn #collection of machine learning algorithms\n",
    "print(\"scikit-learn version: {}\". format(sklearn.__version__))\n",
    "\n",
    "#misc libraries\n",
    "import random\n",
    "import time\n",
    "\n",
    "\n",
    "#ignore warnings\n",
    "import warnings\n",
    "warnings.filterwarnings('ignore')\n",
    "print('-'*25)\n",
    "\n"
   ]
  },
  {
   "cell_type": "markdown",
   "metadata": {},
   "source": [
    "## 导入数据模型与可视化库"
   ]
  },
  {
   "cell_type": "code",
   "execution_count": 2,
   "metadata": {
    "collapsed": true
   },
   "outputs": [],
   "source": [
    "#Common Model Algorithms\n",
    "from sklearn import svm, tree, linear_model, neighbors, naive_bayes, ensemble, discriminant_analysis, gaussian_process\n",
    "from xgboost import XGBClassifier\n",
    "\n",
    "#Common Model Helpers\n",
    "from sklearn.preprocessing import OneHotEncoder, LabelEncoder\n",
    "from sklearn import feature_selection\n",
    "from sklearn import model_selection\n",
    "from sklearn import metrics\n",
    "\n",
    "#Visualization\n",
    "import matplotlib as mpl\n",
    "import matplotlib.pyplot as plt\n",
    "import matplotlib.pylab as pylab\n",
    "import seaborn as sns\n",
    "from pandas.tools.plotting import scatter_matrix\n",
    "\n",
    "#Configure Visualization Defaults\n",
    "#%matplotlib inline = show plots in Jupyter Notebook browser\n",
    "%matplotlib inline\n",
    "mpl.style.use('ggplot')\n",
    "sns.set_style('white')\n",
    "pylab.rcParams['figure.figsize'] = 12,8"
   ]
  },
  {
   "cell_type": "markdown",
   "metadata": {},
   "source": [
    "## 载入总览数据"
   ]
  },
  {
   "cell_type": "code",
   "execution_count": 3,
   "metadata": {
    "collapsed": false,
    "scrolled": true
   },
   "outputs": [
    {
     "data": {
      "text/plain": [
       "Index([u'Id', u'MSSubClass', u'MSZoning', u'LotFrontage', u'LotArea',\n",
       "       u'Street', u'Alley', u'LotShape', u'LandContour', u'Utilities',\n",
       "       u'LotConfig', u'LandSlope', u'Neighborhood', u'Condition1',\n",
       "       u'Condition2', u'BldgType', u'HouseStyle', u'OverallQual',\n",
       "       u'OverallCond', u'YearBuilt', u'YearRemodAdd', u'RoofStyle',\n",
       "       u'RoofMatl', u'Exterior1st', u'Exterior2nd', u'MasVnrType',\n",
       "       u'MasVnrArea', u'ExterQual', u'ExterCond', u'Foundation', u'BsmtQual',\n",
       "       u'BsmtCond', u'BsmtExposure', u'BsmtFinType1', u'BsmtFinSF1',\n",
       "       u'BsmtFinType2', u'BsmtFinSF2', u'BsmtUnfSF', u'TotalBsmtSF',\n",
       "       u'Heating', u'HeatingQC', u'CentralAir', u'Electrical', u'1stFlrSF',\n",
       "       u'2ndFlrSF', u'LowQualFinSF', u'GrLivArea', u'BsmtFullBath',\n",
       "       u'BsmtHalfBath', u'FullBath', u'HalfBath', u'BedroomAbvGr',\n",
       "       u'KitchenAbvGr', u'KitchenQual', u'TotRmsAbvGrd', u'Functional',\n",
       "       u'Fireplaces', u'FireplaceQu', u'GarageType', u'GarageYrBlt',\n",
       "       u'GarageFinish', u'GarageCars', u'GarageArea', u'GarageQual',\n",
       "       u'GarageCond', u'PavedDrive', u'WoodDeckSF', u'OpenPorchSF',\n",
       "       u'EnclosedPorch', u'3SsnPorch', u'ScreenPorch', u'PoolArea', u'PoolQC',\n",
       "       u'Fence', u'MiscFeature', u'MiscVal', u'MoSold', u'YrSold', u'SaleType',\n",
       "       u'SaleCondition', u'SalePrice'],\n",
       "      dtype='object')"
      ]
     },
     "execution_count": 3,
     "metadata": {},
     "output_type": "execute_result"
    }
   ],
   "source": [
    "train_df = pd.read_csv('train.csv')\n",
    "test_df = pd.read_csv('test.csv')\n",
    "\n",
    "'''\n",
    "预测SalePrice的值\n",
    "'''\n",
    "\n",
    "train_df.columns \n",
    "# train_df.shape\n",
    "# train_df.describe()\n",
    "# train_df.info()\n",
    "# print '%' * 40\n",
    "# test_df.info()\n",
    "# train_df.head(10)\n",
    "# train_df.info()\n",
    "# print train_df.describe(include = 'all')\n",
    "# print '%' * 40\n",
    "# test_df.info()"
   ]
  },
  {
   "cell_type": "markdown",
   "metadata": {},
   "source": [
    "## 4C分析"
   ]
  },
  {
   "cell_type": "markdown",
   "metadata": {},
   "source": [
    "数据的：\n",
    "\n",
    "正确性：Reviewing the data, there does not appear to be any aberrant or non-acceptable data inputs.异常值\n",
    "\n",
    "完整性：NULL / NAN。删除/补全\n",
    "\n",
    "创造性：Feature engineering is when we use existing features to create new features to determine if they provide new signals to predict our outcome. For this dataset, we will create a title feature to determine if it played a role in survival.\n",
    "\n",
    "转变：类别数据 -> 独热编码"
   ]
  },
  {
   "cell_type": "markdown",
   "metadata": {},
   "source": [
    "### 完整性 (缺失值)"
   ]
  },
  {
   "cell_type": "markdown",
   "metadata": {},
   "source": [
    "https://discuss.analyticsvidhya.com/t/what-should-be-the-allowed-percentage-of-missing-values/2456\n",
    "\n",
    "I：允许的missing values的数目，先定25%"
   ]
  },
  {
   "cell_type": "code",
   "execution_count": 4,
   "metadata": {
    "code_folding": [
     0
    ],
    "collapsed": false
   },
   "outputs": [],
   "source": [
    "# # Missing Data的百分比\n",
    "# total = train_df.isnull().sum().sort_values(ascending=False)\n",
    "# percent = (train_df.isnull().sum()/train_df.isnull().count()).sort_values(ascending=False)\n",
    "# missing_data = pd.concat([total, percent], axis=1, keys=['Total', 'Percent'])\n",
    "# # print missing_data.head(20)\n",
    "\n",
    "# total2 = test_df.isnull().sum().sort_values(ascending=False)\n",
    "# percent2 = (test_df.isnull().sum()/test_df.isnull().count()).sort_values(ascending=False)\n",
    "# missing_data2 = pd.concat([total2, percent2], axis=1, keys=['Total', 'Percent'])\n",
    "# # print missing_data2.head(20)"
   ]
  },
  {
   "cell_type": "code",
   "execution_count": 5,
   "metadata": {
    "collapsed": false
   },
   "outputs": [
    {
     "name": "stdout",
     "output_type": "stream",
     "text": [
      "%%%%%%%%%%%%%%%%%%%%%%%%%%%%%%%%%%%%%%%%\n",
      "Train columns with null values:\n",
      "Index([u'Alley', u'FireplaceQu', u'PoolQC', u'Fence', u'MiscFeature'], dtype='object')\n",
      "%%%%%%%%%%%%%%%%%%%%%%%%%%%%%%%%%%%%%%%%\n",
      "Test columns with null values:\n",
      "Index([u'Alley', u'FireplaceQu', u'PoolQC', u'Fence', u'MiscFeature'], dtype='object')\n"
     ]
    }
   ],
   "source": [
    "train_df.describe(include = 'all')\n",
    "print '%' * 40\n",
    "\n",
    "# print train_df.loc[:,'MasVnrType']\n",
    "\n",
    "# train_df['MasVnrType'] = train_df['MasVnrType'].replace(['None'],None )\n",
    "# train_df.loc[:,'MasVnrType'] =  train_df['MasVnrType'].apply(lambda x: None if x == 'None' else x)\n",
    "# print type(train_df.loc[1,'MasVnrType'])\n",
    "\n",
    "limit_missing_values = 0.25\n",
    "train_limit_missing_values = len(train_df) * limit_missing_values \n",
    "print \"Train columns with null values:\\n\", train_df.columns[train_df.isnull().sum().values > train_limit_missing_values]  # 依列为标准，column\n",
    "print '%'*40\n",
    "\n",
    "test_limit_missing_values = len(test_df) * limit_missing_values\n",
    "print \"Test columns with null values:\\n\", test_df.columns[test_df.isnull().sum().values > test_limit_missing_values]\n",
    "\n"
   ]
  },
  {
   "cell_type": "markdown",
   "metadata": {},
   "source": [
    "丢弃过多空数据的列"
   ]
  },
  {
   "cell_type": "code",
   "execution_count": 6,
   "metadata": {
    "collapsed": false,
    "scrolled": true
   },
   "outputs": [
    {
     "data": {
      "text/plain": [
       "227"
      ]
     },
     "execution_count": 6,
     "metadata": {},
     "output_type": "execute_result"
    }
   ],
   "source": [
    "drop_columns = ['Alley', u'FireplaceQu', u'PoolQC', u'Fence', u'MiscFeature']\n",
    "train_df = train_df.drop(drop_columns, axis=1)\n",
    "test_df = test_df.drop(drop_columns, axis=1)\n",
    "\n",
    "# train_df = train_df.drop(missing_data[missing_data['Total'] > 1].index, axis=1)\n",
    "# train_df = train_df.drop(train_df.loc[train_df['Electrical'].isnull()].index)\n",
    "train_df.isnull().sum().max()\n",
    "\n",
    "# test_df = test_df.drop(missing_data[missing_data['Total'] > 1].index, axis=1)\n",
    "test_df.isnull().sum().max()\n"
   ]
  },
  {
   "cell_type": "code",
   "execution_count": 7,
   "metadata": {
    "collapsed": false,
    "scrolled": true
   },
   "outputs": [
    {
     "data": {
      "text/plain": [
       "Index([u'Id', u'MSSubClass', u'MSZoning', u'LotFrontage', u'LotArea',\n",
       "       u'Street', u'LotShape', u'LandContour', u'Utilities', u'LotConfig',\n",
       "       u'LandSlope', u'Neighborhood', u'Condition1', u'Condition2',\n",
       "       u'BldgType', u'HouseStyle', u'OverallQual', u'OverallCond',\n",
       "       u'YearBuilt', u'YearRemodAdd', u'RoofStyle', u'RoofMatl',\n",
       "       u'Exterior1st', u'Exterior2nd', u'MasVnrType', u'MasVnrArea',\n",
       "       u'ExterQual', u'ExterCond', u'Foundation', u'BsmtQual', u'BsmtCond',\n",
       "       u'BsmtExposure', u'BsmtFinType1', u'BsmtFinSF1', u'BsmtFinType2',\n",
       "       u'BsmtFinSF2', u'BsmtUnfSF', u'TotalBsmtSF', u'Heating', u'HeatingQC',\n",
       "       u'CentralAir', u'Electrical', u'1stFlrSF', u'2ndFlrSF', u'LowQualFinSF',\n",
       "       u'GrLivArea', u'BsmtFullBath', u'BsmtHalfBath', u'FullBath',\n",
       "       u'HalfBath', u'BedroomAbvGr', u'KitchenAbvGr', u'KitchenQual',\n",
       "       u'TotRmsAbvGrd', u'Functional', u'Fireplaces', u'GarageType',\n",
       "       u'GarageYrBlt', u'GarageFinish', u'GarageCars', u'GarageArea',\n",
       "       u'GarageQual', u'GarageCond', u'PavedDrive', u'WoodDeckSF',\n",
       "       u'OpenPorchSF', u'EnclosedPorch', u'3SsnPorch', u'ScreenPorch',\n",
       "       u'PoolArea', u'MiscVal', u'MoSold', u'YrSold', u'SaleType',\n",
       "       u'SaleCondition', u'SalePrice'],\n",
       "      dtype='object')"
      ]
     },
     "execution_count": 7,
     "metadata": {},
     "output_type": "execute_result"
    }
   ],
   "source": [
    "train_df.columns"
   ]
  },
  {
   "cell_type": "markdown",
   "metadata": {},
   "source": [
    "II:特征意义"
   ]
  },
  {
   "cell_type": "markdown",
   "metadata": {},
   "source": [
    "特征意义：\n",
    "\n",
    "0、ID 无意义，去掉\n",
    "\n",
    "1、MSSubClass 住所风格\n",
    "\n",
    "2、MSZoing 地带\n",
    "\n",
    "3、LotFrontage 住宅到街道的步行距离\n",
    "\n",
    "4、LotArea 地块面积\n",
    "\n",
    "5、。。"
   ]
  },
  {
   "cell_type": "markdown",
   "metadata": {},
   "source": [
    "III: 填充空数据\n",
    "\n",
    "数值：中位数\n",
    "\n",
    "类别：众数"
   ]
  },
  {
   "cell_type": "code",
   "execution_count": 8,
   "metadata": {
    "collapsed": false
   },
   "outputs": [
    {
     "name": "stdout",
     "output_type": "stream",
     "text": [
      "['LotFrontage', 'MasVnrType', 'MasVnrArea', 'BsmtQual', 'BsmtCond', 'BsmtExposure', 'BsmtFinType1', 'BsmtFinType2', 'Electrical', 'GarageType', 'GarageYrBlt', 'GarageFinish', 'GarageQual', 'GarageCond']\n",
      "%%%%%%%%%%%%%%%%%%%%%%%%%%%%%%%%%%%%%%%%\n",
      "['MSZoning', 'LotFrontage', 'Utilities', 'Exterior1st', 'Exterior2nd', 'MasVnrType', 'MasVnrArea', 'BsmtQual', 'BsmtCond', 'BsmtExposure', 'BsmtFinType1', 'BsmtFinSF1', 'BsmtFinType2', 'BsmtFinSF2', 'BsmtUnfSF', 'TotalBsmtSF', 'BsmtFullBath', 'BsmtHalfBath', 'KitchenQual', 'Functional', 'GarageType', 'GarageYrBlt', 'GarageFinish', 'GarageCars', 'GarageArea', 'GarageQual', 'GarageCond', 'SaleType']\n"
     ]
    }
   ],
   "source": [
    "missing_columns = list(train_df.columns[train_df.isnull().sum() != 0])\n",
    "print (missing_columns)\n",
    "# train_df[missing_columns].describe(include = 'all')\n",
    "print '%' * 40\n",
    "test_missing_columns = list(test_df.columns[test_df.isnull().sum() != 0])\n",
    "print test_missing_columns"
   ]
  },
  {
   "cell_type": "code",
   "execution_count": 9,
   "metadata": {
    "code_folding": [],
    "collapsed": false
   },
   "outputs": [],
   "source": [
    "# combine = [train_df, test_df]\n",
    "train_missing_columns_nums = ['LotFrontage', 'MasVnrArea','GarageYrBlt']\n",
    "train_missing_columns_categories = ['MasVnrType', 'BsmtQual','BsmtCond', \n",
    "                              'BsmtExposure','BsmtFinType1','BsmtFinType2', \n",
    "                              'Electrical', 'GarageType', 'GarageFinish',\n",
    "                              'GarageQual','GarageCond']\n",
    "\n",
    "condition = test_df[test_missing_columns].describe(include='all').loc['mean'].isnull()\n",
    "\n",
    "test_missing_columns_categories = test_df[test_missing_columns].describe(include='all').loc['mean'].loc[condition].index\n",
    "test_missing_columns_nums = [x for x in test_missing_columns if x not in test_missing_columns_categories]\n",
    "\n",
    "# for data in combine:\n",
    "    \n",
    "#     # 通过中位数填充 median()\n",
    "#     for column in missing_columns_nums:\n",
    "#         data[column].fillna(data[column].median(), inplace= True)\n",
    "\n",
    "# 通过中位数填充\n",
    "for column in train_missing_columns_nums:\n",
    "    train_df[column].fillna(train_df[column].median(), inplace=True)\n",
    "\n",
    "for column in test_missing_columns_nums:\n",
    "    test_df[column].fillna(test_df[column].median(), inplace=True)\n",
    "    \n",
    "    \n",
    "# 通过最大类填充，众数\n",
    "for category in train_missing_columns_categories:\n",
    "#         print data[category].value_counts().index[0]\n",
    "#     print category, train_df[category].mode()[0]\n",
    "    train_df[category].fillna(train_df[category].mode()[0], inplace=True)\n",
    "    \n",
    "for category in test_missing_columns_categories:\n",
    "    test_df[category].fillna(test_df[category].mode()[0], inplace=True)"
   ]
  },
  {
   "cell_type": "code",
   "execution_count": 10,
   "metadata": {
    "collapsed": false
   },
   "outputs": [
    {
     "name": "stdout",
     "output_type": "stream",
     "text": [
      "0\n",
      "0\n"
     ]
    }
   ],
   "source": [
    "print train_df.isnull().sum().max()\n",
    "print test_df.isnull().sum().max()\n",
    "# print test_df.loc[test_df.isnull()"
   ]
  },
  {
   "cell_type": "markdown",
   "metadata": {},
   "source": [
    "### 创造性"
   ]
  },
  {
   "cell_type": "markdown",
   "metadata": {},
   "source": [
    "移除ID"
   ]
  },
  {
   "cell_type": "code",
   "execution_count": 11,
   "metadata": {
    "collapsed": false
   },
   "outputs": [],
   "source": [
    "train_df = train_df.drop(['Id'], axis=1)\n",
    "test_df = test_df.drop(['Id'], axis=1)"
   ]
  },
  {
   "cell_type": "code",
   "execution_count": 14,
   "metadata": {
    "collapsed": false,
    "scrolled": true
   },
   "outputs": [
    {
     "name": "stdout",
     "output_type": "stream",
     "text": [
      "Index([u'MSSubClass', u'MSZoning', u'LotFrontage', u'LotArea', u'Street',\n",
      "       u'LotShape', u'LandContour', u'Utilities', u'LotConfig', u'LandSlope',\n",
      "       u'Neighborhood', u'Condition1', u'Condition2', u'BldgType',\n",
      "       u'HouseStyle', u'OverallQual', u'OverallCond', u'YearBuilt',\n",
      "       u'YearRemodAdd', u'RoofStyle', u'RoofMatl', u'Exterior1st',\n",
      "       u'Exterior2nd', u'MasVnrType', u'MasVnrArea', u'ExterQual',\n",
      "       u'ExterCond', u'Foundation', u'BsmtQual', u'BsmtCond', u'BsmtExposure',\n",
      "       u'BsmtFinType1', u'BsmtFinSF1', u'BsmtFinType2', u'BsmtFinSF2',\n",
      "       u'BsmtUnfSF', u'TotalBsmtSF', u'Heating', u'HeatingQC', u'CentralAir',\n",
      "       u'Electrical', u'1stFlrSF', u'2ndFlrSF', u'LowQualFinSF', u'GrLivArea',\n",
      "       u'BsmtFullBath', u'BsmtHalfBath', u'FullBath', u'HalfBath',\n",
      "       u'BedroomAbvGr', u'KitchenAbvGr', u'KitchenQual', u'TotRmsAbvGrd',\n",
      "       u'Functional', u'Fireplaces', u'GarageType', u'GarageYrBlt',\n",
      "       u'GarageFinish', u'GarageCars', u'GarageArea', u'GarageQual',\n",
      "       u'GarageCond', u'PavedDrive', u'WoodDeckSF', u'OpenPorchSF',\n",
      "       u'EnclosedPorch', u'3SsnPorch', u'ScreenPorch', u'PoolArea', u'MiscVal',\n",
      "       u'MoSold', u'YrSold', u'SaleType', u'SaleCondition', u'SalePrice'],\n",
      "      dtype='object')\n"
     ]
    }
   ],
   "source": [
    "print train_df.columns"
   ]
  },
  {
   "cell_type": "code",
   "execution_count": 19,
   "metadata": {
    "collapsed": false
   },
   "outputs": [
    {
     "data": {
      "text/plain": [
       "<matplotlib.axes._subplots.AxesSubplot at 0x1a1f498e10>"
      ]
     },
     "execution_count": 19,
     "metadata": {},
     "output_type": "execute_result"
    },
    {
     "data": {
      "image/png": "[encoded data removed]",
      "text/plain": [
       "<matplotlib.figure.Figure at 0x1a1e53dc90>"
      ]
     },
     "metadata": {},
     "output_type": "display_data"
    }
   ],
   "source": [
    "train_df['SalePrice'].describe()\n",
    "sns.distplot(train_df['SalePrice'])"
   ]
  },
  {
   "cell_type": "markdown",
   "metadata": {},
   "source": [
    "### 转化性（类别数据）"
   ]
  },
  {
   "cell_type": "code",
   "execution_count": 12,
   "metadata": {
    "collapsed": false
   },
   "outputs": [],
   "source": [
    "features_train = train_df.drop(['SalePrice'], axis=1)\n",
    "labels_train = train_df['SalePrice']\n",
    "features_train = pd.get_dummies(features_train)\n",
    "features_test = pd.get_dummies(test_df)\n",
    "\n",
    "missing_cols = set(features_train.columns) - set(features_test.columns)\n",
    "for column in missing_cols:\n",
    "    features_test[column] = 0\n",
    "    \n",
    "# 保证测试集columns的顺序同训练集columns相同，特别重要！！！！！！\n",
    "features_test = features_test[features_train.columns]"
   ]
  },
  {
   "cell_type": "code",
   "execution_count": 13,
   "metadata": {
    "collapsed": false
   },
   "outputs": [
    {
     "name": "stdout",
     "output_type": "stream",
     "text": [
      "270 270\n"
     ]
    }
   ],
   "source": [
    "print len(features_train.columns), len(features_test.columns)"
   ]
  },
  {
   "cell_type": "markdown",
   "metadata": {},
   "source": [
    "PCA降维\n"
   ]
  },
  {
   "cell_type": "code",
   "execution_count": 14,
   "metadata": {
    "collapsed": false
   },
   "outputs": [],
   "source": [
    "# # 数据标准化，避免量纲的影响，注意测试训练集一起做\n",
    "# from sklearn.preprocessing import StandardScaler\n",
    "# from sklearn.decomposition import PCA\n",
    "# scaler = StandardScaler()\n",
    "# features_train = scaler.fit_transform(features_train)\n",
    "# features_test = scaler.fit_transform(features_test)\n"
   ]
  },
  {
   "cell_type": "code",
   "execution_count": 15,
   "metadata": {
    "collapsed": false
   },
   "outputs": [],
   "source": [
    "# pca = PCA(n_components=10)\n",
    "# features_train = pca.fit_transform(features_train)\n",
    "# features_test = pca.fit_transform(features_test)\n",
    "\n",
    "# # 根据array新建一个DataFrame (二维数组， 列名)\n",
    "# features_train = pd.DataFrame(features_train, columns = ['Dimension' + str(i) for i in range(1,11)])\n",
    "# features_test = pd.DataFrame(features_test, columns = ['Dimension' + str(i) for i in range(1,11)])\n"
   ]
  },
  {
   "cell_type": "code",
   "execution_count": 16,
   "metadata": {
    "collapsed": false,
    "scrolled": true
   },
   "outputs": [],
   "source": [
    "# print features_train.head(10)"
   ]
  },
  {
   "cell_type": "markdown",
   "metadata": {},
   "source": [
    "### 分割训练和测试数据"
   ]
  },
  {
   "cell_type": "code",
   "execution_count": 17,
   "metadata": {
    "collapsed": false
   },
   "outputs": [
    {
     "name": "stdout",
     "output_type": "stream",
     "text": [
      "1168 292\n"
     ]
    }
   ],
   "source": [
    "from sklearn.model_selection import train_test_split\n",
    "\n",
    "# 分割features_train 和 labels_train, 测试集大小 = 20%，状态：随机，可复现\n",
    "# 顺序：测试特征，训练特征，测试目标，训练目标\n",
    "\n",
    "X_train, X_test, y_train, y_test = train_test_split(features_train, labels_train, test_size = 0.2, random_state = 42)\n",
    "\n",
    "# 输出数量观察\n",
    "\n",
    "print len(X_train), len(X_test)"
   ]
  },
  {
   "cell_type": "markdown",
   "metadata": {},
   "source": [
    "# 探索性数据分析 EDA"
   ]
  },
  {
   "cell_type": "markdown",
   "metadata": {},
   "source": []
  },
  {
   "cell_type": "code",
   "execution_count": 18,
   "metadata": {
    "collapsed": false,
    "scrolled": true
   },
   "outputs": [
    {
     "data": {
      "text/html": [
       "<div>\n",
       "<style scoped>\n",
       "    .dataframe tbody tr th:only-of-type {\n",
       "        vertical-align: middle;\n",
       "    }\n",
       "\n",
       "    .dataframe tbody tr th {\n",
       "        vertical-align: top;\n",
       "    }\n",
       "\n",
       "    .dataframe thead th {\n",
       "        text-align: right;\n",
       "    }\n",
       "</style>\n",
       "<table border=\"1\" class=\"dataframe\">\n",
       "  <thead>\n",
       "    <tr style=\"text-align: right;\">\n",
       "      <th></th>\n",
       "      <th>MSSubClass</th>\n",
       "      <th>LotFrontage</th>\n",
       "      <th>LotArea</th>\n",
       "      <th>OverallQual</th>\n",
       "      <th>OverallCond</th>\n",
       "      <th>YearBuilt</th>\n",
       "      <th>YearRemodAdd</th>\n",
       "      <th>MasVnrArea</th>\n",
       "      <th>BsmtFinSF1</th>\n",
       "      <th>BsmtFinSF2</th>\n",
       "      <th>...</th>\n",
       "      <th>SaleType_ConLw</th>\n",
       "      <th>SaleType_New</th>\n",
       "      <th>SaleType_Oth</th>\n",
       "      <th>SaleType_WD</th>\n",
       "      <th>SaleCondition_Abnorml</th>\n",
       "      <th>SaleCondition_AdjLand</th>\n",
       "      <th>SaleCondition_Alloca</th>\n",
       "      <th>SaleCondition_Family</th>\n",
       "      <th>SaleCondition_Normal</th>\n",
       "      <th>SaleCondition_Partial</th>\n",
       "    </tr>\n",
       "  </thead>\n",
       "  <tbody>\n",
       "    <tr>\n",
       "      <th>254</th>\n",
       "      <td>20</td>\n",
       "      <td>70.0</td>\n",
       "      <td>8400</td>\n",
       "      <td>5</td>\n",
       "      <td>6</td>\n",
       "      <td>1957</td>\n",
       "      <td>1957</td>\n",
       "      <td>0.0</td>\n",
       "      <td>922</td>\n",
       "      <td>0</td>\n",
       "      <td>...</td>\n",
       "      <td>0</td>\n",
       "      <td>0</td>\n",
       "      <td>0</td>\n",
       "      <td>1</td>\n",
       "      <td>0</td>\n",
       "      <td>0</td>\n",
       "      <td>0</td>\n",
       "      <td>0</td>\n",
       "      <td>1</td>\n",
       "      <td>0</td>\n",
       "    </tr>\n",
       "  </tbody>\n",
       "</table>\n",
       "<p>1 rows × 270 columns</p>\n",
       "</div>"
      ],
      "text/plain": [
       "     MSSubClass  LotFrontage  LotArea  OverallQual  OverallCond  YearBuilt  \\\n",
       "254          20         70.0     8400            5            6       1957   \n",
       "\n",
       "     YearRemodAdd  MasVnrArea  BsmtFinSF1  BsmtFinSF2          ...            \\\n",
       "254          1957         0.0         922           0          ...             \n",
       "\n",
       "     SaleType_ConLw  SaleType_New  SaleType_Oth  SaleType_WD  \\\n",
       "254               0             0             0            1   \n",
       "\n",
       "     SaleCondition_Abnorml  SaleCondition_AdjLand  SaleCondition_Alloca  \\\n",
       "254                      0                      0                     0   \n",
       "\n",
       "     SaleCondition_Family  SaleCondition_Normal  SaleCondition_Partial  \n",
       "254                     0                     1                      0  \n",
       "\n",
       "[1 rows x 270 columns]"
      ]
     },
     "execution_count": 18,
     "metadata": {},
     "output_type": "execute_result"
    }
   ],
   "source": [
    "X_train.head(1)"
   ]
  },
  {
   "cell_type": "markdown",
   "metadata": {},
   "source": [
    "# 模型"
   ]
  },
  {
   "cell_type": "markdown",
   "metadata": {},
   "source": [
    "## 分析问题，确定模型"
   ]
  },
  {
   "cell_type": "markdown",
   "metadata": {},
   "source": [
    "问题为回归问题，可用模型：线性回归，决策树（C&RT决策树），随机森林，GBDT"
   ]
  },
  {
   "cell_type": "markdown",
   "metadata": {},
   "source": [
    "## 首先用简单的模型进行试验，观察评分"
   ]
  },
  {
   "cell_type": "markdown",
   "metadata": {},
   "source": [
    "回归模型评分指标包括：\n",
    "\n",
    "1、SSE误差平方和\n",
    "\n",
    "2、R-square（决定系数）\n",
    "\n",
    "3、矫正决定系数"
   ]
  },
  {
   "cell_type": "code",
   "execution_count": 19,
   "metadata": {
    "collapsed": false,
    "scrolled": true
   },
   "outputs": [
    {
     "name": "stdout",
     "output_type": "stream",
     "text": [
      "{'RandomForestRegressor': 0.86928566224852166, 'LinearRegression': 0.88609146718355769, 'XGBRegressor': 0.88112479353734507, 'DecisionTreeRegressor': 0.76010442399851175}\n"
     ]
    }
   ],
   "source": [
    "# 导入算法模型和评分标准 \n",
    "from sklearn.tree import DecisionTreeRegressor\n",
    "from sklearn.linear_model import LinearRegression\n",
    "from sklearn.ensemble import RandomForestRegressor\n",
    "from sklearn.metrics import fbeta_score, make_scorer, r2_score\n",
    "from xgboost import XGBRegressor\n",
    "\n",
    "# 初始化,确定随机状态，可复现\n",
    "reg1 = DecisionTreeRegressor(random_state = 42)\n",
    "reg2 = LinearRegression()\n",
    "reg3 = RandomForestRegressor(random_state = 42)\n",
    "reg4 = XGBRegressor()\n",
    "\n",
    "\n",
    "# 建立字典，收集学习器的效果\n",
    "# 学习，收集预测得分\n",
    "results = {}\n",
    "for reg in [reg1, reg2, reg3, reg4]:\n",
    "    # 回归器的名称\n",
    "    reg_name = reg.__class__.__name__\n",
    "    reg.fit(X_train, y_train)\n",
    "    pred_test = reg.predict(X_test)\n",
    "    results[reg_name] = r2_score(y_test, pred_test)\n",
    "    \n",
    "print results"
   ]
  },
  {
   "cell_type": "markdown",
   "metadata": {},
   "source": [
    "## 网格搜索调参"
   ]
  },
  {
   "cell_type": "markdown",
   "metadata": {},
   "source": [
    "### 随机森林"
   ]
  },
  {
   "cell_type": "code",
   "execution_count": 20,
   "metadata": {
    "collapsed": false
   },
   "outputs": [],
   "source": [
    "# # 模型：RandomForest\n",
    "# # 导入Grid\n",
    "# from sklearn.model_selection import GridSearchCV\n",
    "\n",
    "# # 初始化回归模型\n",
    "# reg = RandomForestRegressor(random_state=42)\n",
    "\n",
    "# # 确定参数列表\n",
    "# parameters = {'min_samples_split':range(2,6), 'max_depth':range(10, 101, 10)}\n",
    "\n",
    "# # 确定评分标准\n",
    "# scorer = make_scorer(r2_score)\n",
    "\n",
    "# # 回归模型使用网格搜索\n",
    "# grid_reg = GridSearchCV(reg, parameters, scoring = scorer)\n",
    "\n",
    "# # 训练\n",
    "# grid_reg.fit(X_train, y_train)\n",
    "\n",
    "# # 获得最佳拟合回归器\n",
    "# best_reg = grid_reg.best_estimator_"
   ]
  },
  {
   "cell_type": "markdown",
   "metadata": {},
   "source": [
    "### 线性回归"
   ]
  },
  {
   "cell_type": "code",
   "execution_count": 21,
   "metadata": {
    "collapsed": false
   },
   "outputs": [],
   "source": [
    "# # 模型：线性回归\n",
    "# from sklearn.model_selection import GridSearchCV\n",
    "\n",
    "# # 初始化回归模型\n",
    "# reg = LinearRegression()\n",
    "\n",
    "# # 确定参数列表\n",
    "# parameters = {'fit_intercept':[True,False], 'normalize':[True,False], 'copy_X':[True, False]}\n",
    "\n",
    "# # 确定评分标准\n",
    "# scorer = make_scorer(r2_score)\n",
    "\n",
    "# # 回归模型使用网格搜索\n",
    "# grid_reg = GridSearchCV(reg, parameters, scoring = scorer)\n",
    "\n",
    "# # 训练\n",
    "# grid_reg.fit(X_train, y_train)\n",
    "\n",
    "# # 获得最佳拟合回归器\n",
    "# best_reg = grid_reg.best_estimator_"
   ]
  },
  {
   "cell_type": "markdown",
   "metadata": {},
   "source": [
    "### Xgboost"
   ]
  },
  {
   "cell_type": "markdown",
   "metadata": {},
   "source": []
  },
  {
   "cell_type": "code",
   "execution_count": 22,
   "metadata": {
    "collapsed": true
   },
   "outputs": [],
   "source": [
    "# 模型：Xgboost\n",
    "from sklearn.model_selection import GridSearchCV\n",
    "\n",
    "# 初始化模型\n",
    "reg = XGBRegressor()\n",
    "\n",
    "# 设定参数\n",
    "# parameters = {\n",
    "    \n",
    "# }\n",
    "\n",
    "# # 评分标准\n",
    "# scorer = make_scorer(r2_score)\n",
    "\n",
    "# # 网格搜索\n",
    "# grid_reg = GridSearchCV(reg, parameters, scoring=scorer)\n",
    "\n",
    "# 训练\n",
    "reg.fit(X_train, y_train)\n",
    "\n",
    "# 获取最佳拟合器\n",
    "best_reg = reg"
   ]
  },
  {
   "cell_type": "markdown",
   "metadata": {},
   "source": [
    "## 确定在测试集上的分数"
   ]
  },
  {
   "cell_type": "code",
   "execution_count": 23,
   "metadata": {
    "collapsed": false
   },
   "outputs": [
    {
     "data": {
      "text/plain": [
       "0.84742163250575953"
      ]
     },
     "execution_count": 23,
     "metadata": {},
     "output_type": "execute_result"
    }
   ],
   "source": [
    "pred_y_test = best_reg.predict(X_test)\n",
    "r2_score(pred_y_test, y_test)"
   ]
  },
  {
   "cell_type": "markdown",
   "metadata": {},
   "source": [
    "# 预测目标数据"
   ]
  },
  {
   "cell_type": "code",
   "execution_count": 24,
   "metadata": {
    "collapsed": false
   },
   "outputs": [
    {
     "data": {
      "text/plain": [
       "array([ 122587.9140625,  155048.046875 ,  171248.515625 , ...,\n",
       "        168261.25     ,  126874.5859375,  233776.953125 ], dtype=float32)"
      ]
     },
     "execution_count": 24,
     "metadata": {},
     "output_type": "execute_result"
    }
   ],
   "source": [
    "pred = best_reg.predict(features_test)\n",
    "pred"
   ]
  },
  {
   "cell_type": "markdown",
   "metadata": {},
   "source": [
    "# 输出结果"
   ]
  },
  {
   "cell_type": "code",
   "execution_count": 25,
   "metadata": {
    "collapsed": false
   },
   "outputs": [
    {
     "data": {
      "text/html": [
       "<div>\n",
       "<style scoped>\n",
       "    .dataframe tbody tr th:only-of-type {\n",
       "        vertical-align: middle;\n",
       "    }\n",
       "\n",
       "    .dataframe tbody tr th {\n",
       "        vertical-align: top;\n",
       "    }\n",
       "\n",
       "    .dataframe thead th {\n",
       "        text-align: right;\n",
       "    }\n",
       "</style>\n",
       "<table border=\"1\" class=\"dataframe\">\n",
       "  <thead>\n",
       "    <tr style=\"text-align: right;\">\n",
       "      <th></th>\n",
       "      <th>SalePrice</th>\n",
       "    </tr>\n",
       "    <tr>\n",
       "      <th>Id</th>\n",
       "      <th></th>\n",
       "    </tr>\n",
       "  </thead>\n",
       "  <tbody>\n",
       "    <tr>\n",
       "      <th>1461</th>\n",
       "      <td>122587.914062</td>\n",
       "    </tr>\n",
       "    <tr>\n",
       "      <th>1462</th>\n",
       "      <td>155048.046875</td>\n",
       "    </tr>\n",
       "    <tr>\n",
       "      <th>1463</th>\n",
       "      <td>171248.515625</td>\n",
       "    </tr>\n",
       "    <tr>\n",
       "      <th>1464</th>\n",
       "      <td>188974.484375</td>\n",
       "    </tr>\n",
       "    <tr>\n",
       "      <th>1465</th>\n",
       "      <td>200921.437500</td>\n",
       "    </tr>\n",
       "    <tr>\n",
       "      <th>1466</th>\n",
       "      <td>176009.375000</td>\n",
       "    </tr>\n",
       "    <tr>\n",
       "      <th>1467</th>\n",
       "      <td>173523.546875</td>\n",
       "    </tr>\n",
       "    <tr>\n",
       "      <th>1468</th>\n",
       "      <td>167716.531250</td>\n",
       "    </tr>\n",
       "    <tr>\n",
       "      <th>1469</th>\n",
       "      <td>178873.265625</td>\n",
       "    </tr>\n",
       "    <tr>\n",
       "      <th>1470</th>\n",
       "      <td>123357.960938</td>\n",
       "    </tr>\n",
       "    <tr>\n",
       "      <th>1471</th>\n",
       "      <td>196751.640625</td>\n",
       "    </tr>\n",
       "    <tr>\n",
       "      <th>1472</th>\n",
       "      <td>92013.984375</td>\n",
       "    </tr>\n",
       "    <tr>\n",
       "      <th>1473</th>\n",
       "      <td>94682.789062</td>\n",
       "    </tr>\n",
       "    <tr>\n",
       "      <th>1474</th>\n",
       "      <td>150045.843750</td>\n",
       "    </tr>\n",
       "    <tr>\n",
       "      <th>1475</th>\n",
       "      <td>131047.656250</td>\n",
       "    </tr>\n",
       "    <tr>\n",
       "      <th>1476</th>\n",
       "      <td>382165.718750</td>\n",
       "    </tr>\n",
       "    <tr>\n",
       "      <th>1477</th>\n",
       "      <td>258025.875000</td>\n",
       "    </tr>\n",
       "    <tr>\n",
       "      <th>1478</th>\n",
       "      <td>297145.125000</td>\n",
       "    </tr>\n",
       "    <tr>\n",
       "      <th>1479</th>\n",
       "      <td>285714.562500</td>\n",
       "    </tr>\n",
       "    <tr>\n",
       "      <th>1480</th>\n",
       "      <td>477630.562500</td>\n",
       "    </tr>\n",
       "    <tr>\n",
       "      <th>1481</th>\n",
       "      <td>332628.625000</td>\n",
       "    </tr>\n",
       "    <tr>\n",
       "      <th>1482</th>\n",
       "      <td>212992.093750</td>\n",
       "    </tr>\n",
       "    <tr>\n",
       "      <th>1483</th>\n",
       "      <td>168411.093750</td>\n",
       "    </tr>\n",
       "    <tr>\n",
       "      <th>1484</th>\n",
       "      <td>167919.671875</td>\n",
       "    </tr>\n",
       "    <tr>\n",
       "      <th>1485</th>\n",
       "      <td>175323.015625</td>\n",
       "    </tr>\n",
       "    <tr>\n",
       "      <th>1486</th>\n",
       "      <td>195041.218750</td>\n",
       "    </tr>\n",
       "    <tr>\n",
       "      <th>1487</th>\n",
       "      <td>377065.875000</td>\n",
       "    </tr>\n",
       "    <tr>\n",
       "      <th>1488</th>\n",
       "      <td>234298.953125</td>\n",
       "    </tr>\n",
       "    <tr>\n",
       "      <th>1489</th>\n",
       "      <td>199325.062500</td>\n",
       "    </tr>\n",
       "    <tr>\n",
       "      <th>1490</th>\n",
       "      <td>208726.125000</td>\n",
       "    </tr>\n",
       "    <tr>\n",
       "      <th>...</th>\n",
       "      <td>...</td>\n",
       "    </tr>\n",
       "    <tr>\n",
       "      <th>2890</th>\n",
       "      <td>94073.531250</td>\n",
       "    </tr>\n",
       "    <tr>\n",
       "      <th>2891</th>\n",
       "      <td>140113.468750</td>\n",
       "    </tr>\n",
       "    <tr>\n",
       "      <th>2892</th>\n",
       "      <td>67190.781250</td>\n",
       "    </tr>\n",
       "    <tr>\n",
       "      <th>2893</th>\n",
       "      <td>92333.078125</td>\n",
       "    </tr>\n",
       "    <tr>\n",
       "      <th>2894</th>\n",
       "      <td>68480.703125</td>\n",
       "    </tr>\n",
       "    <tr>\n",
       "      <th>2895</th>\n",
       "      <td>327539.062500</td>\n",
       "    </tr>\n",
       "    <tr>\n",
       "      <th>2896</th>\n",
       "      <td>281496.656250</td>\n",
       "    </tr>\n",
       "    <tr>\n",
       "      <th>2897</th>\n",
       "      <td>201031.625000</td>\n",
       "    </tr>\n",
       "    <tr>\n",
       "      <th>2898</th>\n",
       "      <td>148894.406250</td>\n",
       "    </tr>\n",
       "    <tr>\n",
       "      <th>2899</th>\n",
       "      <td>232794.484375</td>\n",
       "    </tr>\n",
       "    <tr>\n",
       "      <th>2900</th>\n",
       "      <td>156132.500000</td>\n",
       "    </tr>\n",
       "    <tr>\n",
       "      <th>2901</th>\n",
       "      <td>203549.921875</td>\n",
       "    </tr>\n",
       "    <tr>\n",
       "      <th>2902</th>\n",
       "      <td>177648.156250</td>\n",
       "    </tr>\n",
       "    <tr>\n",
       "      <th>2903</th>\n",
       "      <td>357867.968750</td>\n",
       "    </tr>\n",
       "    <tr>\n",
       "      <th>2904</th>\n",
       "      <td>345045.281250</td>\n",
       "    </tr>\n",
       "    <tr>\n",
       "      <th>2905</th>\n",
       "      <td>107664.640625</td>\n",
       "    </tr>\n",
       "    <tr>\n",
       "      <th>2906</th>\n",
       "      <td>212142.656250</td>\n",
       "    </tr>\n",
       "    <tr>\n",
       "      <th>2907</th>\n",
       "      <td>115164.703125</td>\n",
       "    </tr>\n",
       "    <tr>\n",
       "      <th>2908</th>\n",
       "      <td>132502.359375</td>\n",
       "    </tr>\n",
       "    <tr>\n",
       "      <th>2909</th>\n",
       "      <td>144150.343750</td>\n",
       "    </tr>\n",
       "    <tr>\n",
       "      <th>2910</th>\n",
       "      <td>93826.851562</td>\n",
       "    </tr>\n",
       "    <tr>\n",
       "      <th>2911</th>\n",
       "      <td>82491.367188</td>\n",
       "    </tr>\n",
       "    <tr>\n",
       "      <th>2912</th>\n",
       "      <td>144243.765625</td>\n",
       "    </tr>\n",
       "    <tr>\n",
       "      <th>2913</th>\n",
       "      <td>88649.585938</td>\n",
       "    </tr>\n",
       "    <tr>\n",
       "      <th>2914</th>\n",
       "      <td>79577.367188</td>\n",
       "    </tr>\n",
       "    <tr>\n",
       "      <th>2915</th>\n",
       "      <td>85938.523438</td>\n",
       "    </tr>\n",
       "    <tr>\n",
       "      <th>2916</th>\n",
       "      <td>83618.843750</td>\n",
       "    </tr>\n",
       "    <tr>\n",
       "      <th>2917</th>\n",
       "      <td>168261.250000</td>\n",
       "    </tr>\n",
       "    <tr>\n",
       "      <th>2918</th>\n",
       "      <td>126874.585938</td>\n",
       "    </tr>\n",
       "    <tr>\n",
       "      <th>2919</th>\n",
       "      <td>233776.953125</td>\n",
       "    </tr>\n",
       "  </tbody>\n",
       "</table>\n",
       "<p>1459 rows × 1 columns</p>\n",
       "</div>"
      ],
      "text/plain": [
       "          SalePrice\n",
       "Id                 \n",
       "1461  122587.914062\n",
       "1462  155048.046875\n",
       "1463  171248.515625\n",
       "1464  188974.484375\n",
       "1465  200921.437500\n",
       "1466  176009.375000\n",
       "1467  173523.546875\n",
       "1468  167716.531250\n",
       "1469  178873.265625\n",
       "1470  123357.960938\n",
       "1471  196751.640625\n",
       "1472   92013.984375\n",
       "1473   94682.789062\n",
       "1474  150045.843750\n",
       "1475  131047.656250\n",
       "1476  382165.718750\n",
       "1477  258025.875000\n",
       "1478  297145.125000\n",
       "1479  285714.562500\n",
       "1480  477630.562500\n",
       "1481  332628.625000\n",
       "1482  212992.093750\n",
       "1483  168411.093750\n",
       "1484  167919.671875\n",
       "1485  175323.015625\n",
       "1486  195041.218750\n",
       "1487  377065.875000\n",
       "1488  234298.953125\n",
       "1489  199325.062500\n",
       "1490  208726.125000\n",
       "...             ...\n",
       "2890   94073.531250\n",
       "2891  140113.468750\n",
       "2892   67190.781250\n",
       "2893   92333.078125\n",
       "2894   68480.703125\n",
       "2895  327539.062500\n",
       "2896  281496.656250\n",
       "2897  201031.625000\n",
       "2898  148894.406250\n",
       "2899  232794.484375\n",
       "2900  156132.500000\n",
       "2901  203549.921875\n",
       "2902  177648.156250\n",
       "2903  357867.968750\n",
       "2904  345045.281250\n",
       "2905  107664.640625\n",
       "2906  212142.656250\n",
       "2907  115164.703125\n",
       "2908  132502.359375\n",
       "2909  144150.343750\n",
       "2910   93826.851562\n",
       "2911   82491.367188\n",
       "2912  144243.765625\n",
       "2913   88649.585938\n",
       "2914   79577.367188\n",
       "2915   85938.523438\n",
       "2916   83618.843750\n",
       "2917  168261.250000\n",
       "2918  126874.585938\n",
       "2919  233776.953125\n",
       "\n",
       "[1459 rows x 1 columns]"
      ]
     },
     "execution_count": 25,
     "metadata": {},
     "output_type": "execute_result"
    }
   ],
   "source": [
    "# 增加索引，列名，构建DataFrame，符合输出数据格式\n",
    "\n",
    "test_df = pd.read_csv('test.csv')\n",
    "predict_df = pd.DataFrame({'Id': test_df['Id'], 'SalePrice': pred})\n",
    "\n",
    "# DataFrame设定index\n",
    "predict_df = predict_df.set_index('Id')\n",
    "\n",
    "# 重命名DataFrame的列，列名 = 字典{原：替换后}\n",
    "# predict_df.rename(columns = {predict_df.columns[0]: 'Id'}, inplace=True)\n",
    "\n",
    "predict_df"
   ]
  },
  {
   "cell_type": "code",
   "execution_count": 26,
   "metadata": {
    "collapsed": false
   },
   "outputs": [],
   "source": [
    "predict_df.to_csv('Submission.csv')"
   ]
  },
  {
   "cell_type": "markdown",
   "metadata": {},
   "source": [
    "# 待优化策略"
   ]
  },
  {
   "cell_type": "markdown",
   "metadata": {
    "collapsed": true
   },
   "source": [
    "I：PCA得分： 0.21683  RF\n",
    "\n",
    "II：去掉PCA得分：0.18129，3227位  RF\n",
    "\n",
    "III：Xgboost : 0.14339\n",
    "\n",
    "\n",
    "待优化点有：\n",
    "\n",
    "1、评分标准更改为Kaggle标准\n",
    "\n",
    "2、特征分析，创造新特征\n",
    "\n",
    "特征较多：74，如何选取以及探索恰当的特征？\n",
    "\n",
    "3、探索性分析，确定关键特征\n",
    "\n",
    "4、Xgboost学习，调参  ✅\n",
    "\n",
    "5、集成方法\n",
    "\n",
    "\n",
    "待解决问题有：\n",
    "\n",
    "1、为什么使用PCA降维后效果不好？\n",
    "\n",
    "2、怎么判断模型存在过拟合？✅\n",
    "\n",
    "学习曲线，Learning curve\n",
    "\n",
    "3、线性回归为什么有负值 ✅\n",
    "\n",
    "在做类别数据 -> 数值转化时，训练集同测试集列名存在区别。只新增了测试集缺失的列，未调整列的顺序。\n",
    "注意：test = test[train.columns]\n",
    "\n",
    "\n"
   ]
  },
  {
   "cell_type": "code",
   "execution_count": 27,
   "metadata": {
    "collapsed": false
   },
   "outputs": [],
   "source": [
    "df = pd.DataFrame(np.random.randint(1,10, size=(3,4)), columns = ['A', 'B', 'C', 'D'])"
   ]
  },
  {
   "cell_type": "code",
   "execution_count": 28,
   "metadata": {
    "collapsed": false
   },
   "outputs": [],
   "source": [
    "df2 = pd.DataFrame(np.random.randint(1,10, size=(2,3)), columns = ['A', 'C', 'D'])"
   ]
  },
  {
   "cell_type": "code",
   "execution_count": 29,
   "metadata": {
    "collapsed": false,
    "scrolled": true
   },
   "outputs": [
    {
     "data": {
      "text/html": [
       "<div>\n",
       "<style scoped>\n",
       "    .dataframe tbody tr th:only-of-type {\n",
       "        vertical-align: middle;\n",
       "    }\n",
       "\n",
       "    .dataframe tbody tr th {\n",
       "        vertical-align: top;\n",
       "    }\n",
       "\n",
       "    .dataframe thead th {\n",
       "        text-align: right;\n",
       "    }\n",
       "</style>\n",
       "<table border=\"1\" class=\"dataframe\">\n",
       "  <thead>\n",
       "    <tr style=\"text-align: right;\">\n",
       "      <th></th>\n",
       "      <th>A</th>\n",
       "      <th>C</th>\n",
       "      <th>D</th>\n",
       "    </tr>\n",
       "  </thead>\n",
       "  <tbody>\n",
       "    <tr>\n",
       "      <th>0</th>\n",
       "      <td>3</td>\n",
       "      <td>3</td>\n",
       "      <td>6</td>\n",
       "    </tr>\n",
       "    <tr>\n",
       "      <th>1</th>\n",
       "      <td>5</td>\n",
       "      <td>9</td>\n",
       "      <td>2</td>\n",
       "    </tr>\n",
       "  </tbody>\n",
       "</table>\n",
       "</div>"
      ],
      "text/plain": [
       "   A  C  D\n",
       "0  3  3  6\n",
       "1  5  9  2"
      ]
     },
     "execution_count": 29,
     "metadata": {},
     "output_type": "execute_result"
    }
   ],
   "source": [
    "df2"
   ]
  },
  {
   "cell_type": "code",
   "execution_count": 30,
   "metadata": {
    "collapsed": false
   },
   "outputs": [
    {
     "data": {
      "text/html": [
       "<div>\n",
       "<style scoped>\n",
       "    .dataframe tbody tr th:only-of-type {\n",
       "        vertical-align: middle;\n",
       "    }\n",
       "\n",
       "    .dataframe tbody tr th {\n",
       "        vertical-align: top;\n",
       "    }\n",
       "\n",
       "    .dataframe thead th {\n",
       "        text-align: right;\n",
       "    }\n",
       "</style>\n",
       "<table border=\"1\" class=\"dataframe\">\n",
       "  <thead>\n",
       "    <tr style=\"text-align: right;\">\n",
       "      <th></th>\n",
       "      <th>A</th>\n",
       "      <th>B</th>\n",
       "      <th>C</th>\n",
       "      <th>D</th>\n",
       "    </tr>\n",
       "  </thead>\n",
       "  <tbody>\n",
       "    <tr>\n",
       "      <th>0</th>\n",
       "      <td>1</td>\n",
       "      <td>5</td>\n",
       "      <td>8</td>\n",
       "      <td>8</td>\n",
       "    </tr>\n",
       "    <tr>\n",
       "      <th>1</th>\n",
       "      <td>7</td>\n",
       "      <td>5</td>\n",
       "      <td>3</td>\n",
       "      <td>6</td>\n",
       "    </tr>\n",
       "    <tr>\n",
       "      <th>2</th>\n",
       "      <td>4</td>\n",
       "      <td>8</td>\n",
       "      <td>1</td>\n",
       "      <td>7</td>\n",
       "    </tr>\n",
       "  </tbody>\n",
       "</table>\n",
       "</div>"
      ],
      "text/plain": [
       "   A  B  C  D\n",
       "0  1  5  8  8\n",
       "1  7  5  3  6\n",
       "2  4  8  1  7"
      ]
     },
     "execution_count": 30,
     "metadata": {},
     "output_type": "execute_result"
    }
   ],
   "source": [
    "df"
   ]
  },
  {
   "cell_type": "code",
   "execution_count": 31,
   "metadata": {
    "collapsed": true
   },
   "outputs": [],
   "source": [
    "missing_cols = set(df.columns) - set(df2.columns)\n",
    "for column in missing_cols:\n",
    "    df2[column] = 0"
   ]
  },
  {
   "cell_type": "code",
   "execution_count": 32,
   "metadata": {
    "collapsed": false
   },
   "outputs": [
    {
     "data": {
      "text/html": [
       "<div>\n",
       "<style scoped>\n",
       "    .dataframe tbody tr th:only-of-type {\n",
       "        vertical-align: middle;\n",
       "    }\n",
       "\n",
       "    .dataframe tbody tr th {\n",
       "        vertical-align: top;\n",
       "    }\n",
       "\n",
       "    .dataframe thead th {\n",
       "        text-align: right;\n",
       "    }\n",
       "</style>\n",
       "<table border=\"1\" class=\"dataframe\">\n",
       "  <thead>\n",
       "    <tr style=\"text-align: right;\">\n",
       "      <th></th>\n",
       "      <th>A</th>\n",
       "      <th>C</th>\n",
       "      <th>D</th>\n",
       "      <th>B</th>\n",
       "    </tr>\n",
       "  </thead>\n",
       "  <tbody>\n",
       "    <tr>\n",
       "      <th>0</th>\n",
       "      <td>3</td>\n",
       "      <td>3</td>\n",
       "      <td>6</td>\n",
       "      <td>0</td>\n",
       "    </tr>\n",
       "    <tr>\n",
       "      <th>1</th>\n",
       "      <td>5</td>\n",
       "      <td>9</td>\n",
       "      <td>2</td>\n",
       "      <td>0</td>\n",
       "    </tr>\n",
       "  </tbody>\n",
       "</table>\n",
       "</div>"
      ],
      "text/plain": [
       "   A  C  D  B\n",
       "0  3  3  6  0\n",
       "1  5  9  2  0"
      ]
     },
     "execution_count": 32,
     "metadata": {},
     "output_type": "execute_result"
    }
   ],
   "source": [
    "df2"
   ]
  },
  {
   "cell_type": "code",
   "execution_count": 33,
   "metadata": {
    "collapsed": true
   },
   "outputs": [],
   "source": [
    "df2 = df2[df.columns]"
   ]
  },
  {
   "cell_type": "code",
   "execution_count": 34,
   "metadata": {
    "collapsed": false
   },
   "outputs": [
    {
     "data": {
      "text/html": [
       "<div>\n",
       "<style scoped>\n",
       "    .dataframe tbody tr th:only-of-type {\n",
       "        vertical-align: middle;\n",
       "    }\n",
       "\n",
       "    .dataframe tbody tr th {\n",
       "        vertical-align: top;\n",
       "    }\n",
       "\n",
       "    .dataframe thead th {\n",
       "        text-align: right;\n",
       "    }\n",
       "</style>\n",
       "<table border=\"1\" class=\"dataframe\">\n",
       "  <thead>\n",
       "    <tr style=\"text-align: right;\">\n",
       "      <th></th>\n",
       "      <th>A</th>\n",
       "      <th>B</th>\n",
       "      <th>C</th>\n",
       "      <th>D</th>\n",
       "    </tr>\n",
       "  </thead>\n",
       "  <tbody>\n",
       "    <tr>\n",
       "      <th>0</th>\n",
       "      <td>3</td>\n",
       "      <td>0</td>\n",
       "      <td>3</td>\n",
       "      <td>6</td>\n",
       "    </tr>\n",
       "    <tr>\n",
       "      <th>1</th>\n",
       "      <td>5</td>\n",
       "      <td>0</td>\n",
       "      <td>9</td>\n",
       "      <td>2</td>\n",
       "    </tr>\n",
       "  </tbody>\n",
       "</table>\n",
       "</div>"
      ],
      "text/plain": [
       "   A  B  C  D\n",
       "0  3  0  3  6\n",
       "1  5  0  9  2"
      ]
     },
     "execution_count": 34,
     "metadata": {},
     "output_type": "execute_result"
    }
   ],
   "source": [
    "df2"
   ]
  },
  {
   "cell_type": "code",
   "execution_count": null,
   "metadata": {
    "collapsed": true
   },
   "outputs": [],
   "source": []
  }
 ],
 "metadata": {
  "anaconda-cloud": {},
  "kernelspec": {
   "display_name": "Python [default]",
   "language": "python",
   "name": "python2"
  },
  "language_info": {
   "codemirror_mode": {
    "name": "ipython",
    "version": 2
   },
   "file_extension": ".py",
   "mimetype": "text/x-python",
   "name": "python",
   "nbconvert_exporter": "python",
   "pygments_lexer": "ipython2",
   "version": "2.7.13"
  },
  "toc": {
   "base_numbering": 1,
   "nav_menu": {},
   "number_sections": true,
   "sideBar": true,
   "skip_h1_title": false,
   "title_cell": "Table of Contents",
   "title_sidebar": "Contents",
   "toc_cell": false,
   "toc_position": {
    "height": "calc(100% - 180px)",
    "left": "10px",
    "top": "150px",
    "width": "231px"
   },
   "toc_section_display": true,
   "toc_window_display": true
  }
 },
 "nbformat": 4,
 "nbformat_minor": 1
}
