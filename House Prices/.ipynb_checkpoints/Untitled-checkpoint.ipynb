{
 "cells": [
  {
   "cell_type": "markdown",
   "metadata": {},
   "source": [
    "# 定义问题"
   ]
  },
  {
   "cell_type": "markdown",
   "metadata": {},
   "source": [
    "It is your job to predict the sales price for each house. For each Id in the test set, you must predict the value of the SalePrice variable. \n",
    "\n",
    "预测房价\n",
    "With 79 explanatory variables describing (almost) every aspect of residential homes in Ames, Iowa, this competition challenges you to predict the final price of each home."
   ]
  },
  {
   "cell_type": "markdown",
   "metadata": {},
   "source": [
    "# 获取数据"
   ]
  },
  {
   "cell_type": "markdown",
   "metadata": {},
   "source": [
    "Kaggle:https://www.kaggle.com/c/house-prices-advanced-regression-techniques/data"
   ]
  },
  {
   "cell_type": "markdown",
   "metadata": {},
   "source": [
    "# 数据预处理"
   ]
  },
  {
   "cell_type": "markdown",
   "metadata": {},
   "source": [
    "## 导入环境库"
   ]
  },
  {
   "cell_type": "code",
   "execution_count": 1,
   "metadata": {
    "collapsed": false,
    "scrolled": false
   },
   "outputs": [
    {
     "name": "stdout",
     "output_type": "stream",
     "text": [
      "Python version: 2.7.13 |Anaconda custom (x86_64)| (default, Dec 20 2016, 23:05:08) \n",
      "[GCC 4.2.1 Compatible Apple LLVM 6.0 (clang-600.0.57)]\n",
      "pandas version: 0.23.3\n",
      "matplotlib version: 2.0.0\n",
      "NumPy version: 1.12.1\n",
      "SciPy version: 1.1.0\n",
      "IPython version: 5.1.0\n",
      "scikit-learn version: 0.19.1\n",
      "-------------------------\n"
     ]
    }
   ],
   "source": [
    "#load packages， 打印，便于可复现\n",
    "import sys #access to system parameters https://docs.python.org/3/library/sys.html\n",
    "print(\"Python version: {}\". format(sys.version))\n",
    "\n",
    "import pandas as pd #collection of functions for data processing and analysis modeled after R dataframes with SQL like features\n",
    "print(\"pandas version: {}\". format(pd.__version__))\n",
    "\n",
    "import matplotlib #collection of functions for scientific and publication-ready visualization\n",
    "print(\"matplotlib version: {}\". format(matplotlib.__version__))\n",
    "\n",
    "import numpy as np #foundational package for scientific computing\n",
    "print(\"NumPy version: {}\". format(np.__version__))\n",
    "\n",
    "import scipy as sp #collection of functions for scientific computing and advance mathematics\n",
    "print(\"SciPy version: {}\". format(sp.__version__)) \n",
    "\n",
    "import IPython\n",
    "from IPython import display #pretty printing of dataframes in Jupyter notebook\n",
    "print(\"IPython version: {}\". format(IPython.__version__)) \n",
    "\n",
    "import sklearn #collection of machine learning algorithms\n",
    "print(\"scikit-learn version: {}\". format(sklearn.__version__))\n",
    "\n",
    "#misc libraries\n",
    "import random\n",
    "import time\n",
    "\n",
    "\n",
    "#ignore warnings\n",
    "import warnings\n",
    "warnings.filterwarnings('ignore')\n",
    "print('-'*25)\n",
    "\n"
   ]
  },
  {
   "cell_type": "markdown",
   "metadata": {},
   "source": [
    "## 导入数据模型与可视化库"
   ]
  },
  {
   "cell_type": "code",
   "execution_count": 2,
   "metadata": {
    "collapsed": true
   },
   "outputs": [],
   "source": [
    "#Common Model Algorithms\n",
    "from sklearn import svm, tree, linear_model, neighbors, naive_bayes, ensemble, discriminant_analysis, gaussian_process\n",
    "from xgboost import XGBClassifier\n",
    "\n",
    "#Common Model Helpers\n",
    "from sklearn.preprocessing import OneHotEncoder, LabelEncoder\n",
    "from sklearn import feature_selection\n",
    "from sklearn import model_selection\n",
    "from sklearn import metrics\n",
    "\n",
    "#Visualization\n",
    "import matplotlib as mpl\n",
    "import matplotlib.pyplot as plt\n",
    "import matplotlib.pylab as pylab\n",
    "import seaborn as sns\n",
    "from pandas.tools.plotting import scatter_matrix\n",
    "\n",
    "#Configure Visualization Defaults\n",
    "#%matplotlib inline = show plots in Jupyter Notebook browser\n",
    "%matplotlib inline\n",
    "mpl.style.use('ggplot')\n",
    "sns.set_style('white')\n",
    "pylab.rcParams['figure.figsize'] = 12,8"
   ]
  },
  {
   "cell_type": "markdown",
   "metadata": {},
   "source": [
    "## 载入总览数据"
   ]
  },
  {
   "cell_type": "code",
   "execution_count": 3,
   "metadata": {
    "collapsed": false,
    "scrolled": true
   },
   "outputs": [
    {
     "data": {
      "text/plain": [
       "Index([u'Id', u'MSSubClass', u'MSZoning', u'LotFrontage', u'LotArea',\n",
       "       u'Street', u'Alley', u'LotShape', u'LandContour', u'Utilities',\n",
       "       u'LotConfig', u'LandSlope', u'Neighborhood', u'Condition1',\n",
       "       u'Condition2', u'BldgType', u'HouseStyle', u'OverallQual',\n",
       "       u'OverallCond', u'YearBuilt', u'YearRemodAdd', u'RoofStyle',\n",
       "       u'RoofMatl', u'Exterior1st', u'Exterior2nd', u'MasVnrType',\n",
       "       u'MasVnrArea', u'ExterQual', u'ExterCond', u'Foundation', u'BsmtQual',\n",
       "       u'BsmtCond', u'BsmtExposure', u'BsmtFinType1', u'BsmtFinSF1',\n",
       "       u'BsmtFinType2', u'BsmtFinSF2', u'BsmtUnfSF', u'TotalBsmtSF',\n",
       "       u'Heating', u'HeatingQC', u'CentralAir', u'Electrical', u'1stFlrSF',\n",
       "       u'2ndFlrSF', u'LowQualFinSF', u'GrLivArea', u'BsmtFullBath',\n",
       "       u'BsmtHalfBath', u'FullBath', u'HalfBath', u'BedroomAbvGr',\n",
       "       u'KitchenAbvGr', u'KitchenQual', u'TotRmsAbvGrd', u'Functional',\n",
       "       u'Fireplaces', u'FireplaceQu', u'GarageType', u'GarageYrBlt',\n",
       "       u'GarageFinish', u'GarageCars', u'GarageArea', u'GarageQual',\n",
       "       u'GarageCond', u'PavedDrive', u'WoodDeckSF', u'OpenPorchSF',\n",
       "       u'EnclosedPorch', u'3SsnPorch', u'ScreenPorch', u'PoolArea', u'PoolQC',\n",
       "       u'Fence', u'MiscFeature', u'MiscVal', u'MoSold', u'YrSold', u'SaleType',\n",
       "       u'SaleCondition', u'SalePrice'],\n",
       "      dtype='object')"
      ]
     },
     "execution_count": 3,
     "metadata": {},
     "output_type": "execute_result"
    }
   ],
   "source": [
    "train_df = pd.read_csv('train.csv')\n",
    "test_df = pd.read_csv('test.csv')\n",
    "\n",
    "'''\n",
    "预测SalePrice的值\n",
    "'''\n",
    "\n",
    "train_df.columns \n",
    "# train_df.shape\n",
    "# train_df.describe()\n",
    "# train_df.info()\n",
    "# print '%' * 40\n",
    "# test_df.info()\n",
    "# train_df.head(10)\n",
    "# train_df.info()\n",
    "# print train_df.describe(include = 'all')\n",
    "# print '%' * 40\n",
    "# test_df.info()"
   ]
  },
  {
   "cell_type": "markdown",
   "metadata": {},
   "source": [
    "## 4C分析"
   ]
  },
  {
   "cell_type": "markdown",
   "metadata": {},
   "source": [
    "数据的：\n",
    "正确性：Reviewing the data, there does not appear to be any aberrant or non-acceptable data inputs.异常值\n",
    "\n",
    "完整性：NULL / NAN。删除/补全\n",
    "\n",
    "创造性：Feature engineering is when we use existing features to create new features to determine if they provide new signals to predict our outcome. For this dataset, we will create a title feature to determine if it played a role in survival.\n",
    "\n",
    "转变：类别数据 -> 独热编码"
   ]
  },
  {
   "cell_type": "markdown",
   "metadata": {},
   "source": [
    "### 完整性 (缺失值)"
   ]
  },
  {
   "cell_type": "markdown",
   "metadata": {},
   "source": [
    "https://discuss.analyticsvidhya.com/t/what-should-be-the-allowed-percentage-of-missing-values/2456\n",
    "\n",
    "I：允许的missing values的数目，先定25%"
   ]
  },
  {
   "cell_type": "code",
   "execution_count": 4,
   "metadata": {
    "code_folding": [
     0
    ],
    "collapsed": false
   },
   "outputs": [],
   "source": [
    "# # Missing Data的百分比\n",
    "# total = train_df.isnull().sum().sort_values(ascending=False)\n",
    "# percent = (train_df.isnull().sum()/train_df.isnull().count()).sort_values(ascending=False)\n",
    "# missing_data = pd.concat([total, percent], axis=1, keys=['Total', 'Percent'])\n",
    "# # print missing_data.head(20)\n",
    "\n",
    "# total2 = test_df.isnull().sum().sort_values(ascending=False)\n",
    "# percent2 = (test_df.isnull().sum()/test_df.isnull().count()).sort_values(ascending=False)\n",
    "# missing_data2 = pd.concat([total2, percent2], axis=1, keys=['Total', 'Percent'])\n",
    "# # print missing_data2.head(20)"
   ]
  },
  {
   "cell_type": "code",
   "execution_count": 5,
   "metadata": {
    "collapsed": false
   },
   "outputs": [
    {
     "name": "stdout",
     "output_type": "stream",
     "text": [
      "%%%%%%%%%%%%%%%%%%%%%%%%%%%%%%%%%%%%%%%%\n",
      "Train columns with null values:\n",
      "Index([u'Alley', u'FireplaceQu', u'PoolQC', u'Fence', u'MiscFeature'], dtype='object')\n",
      "%%%%%%%%%%%%%%%%%%%%%%%%%%%%%%%%%%%%%%%%\n",
      "Test columns with null values:\n",
      "Index([u'Alley', u'FireplaceQu', u'PoolQC', u'Fence', u'MiscFeature'], dtype='object')\n"
     ]
    }
   ],
   "source": [
    "train_df.describe(include = 'all')\n",
    "print '%' * 40\n",
    "\n",
    "# print train_df.loc[:,'MasVnrType']\n",
    "\n",
    "# train_df['MasVnrType'] = train_df['MasVnrType'].replace(['None'],None )\n",
    "# train_df.loc[:,'MasVnrType'] =  train_df['MasVnrType'].apply(lambda x: None if x == 'None' else x)\n",
    "# print type(train_df.loc[1,'MasVnrType'])\n",
    "\n",
    "limit_missing_values = 0.25\n",
    "train_limit_missing_values = len(train_df) * limit_missing_values \n",
    "print \"Train columns with null values:\\n\", train_df.columns[train_df.isnull().sum().values > train_limit_missing_values]  # 依列为标准，column\n",
    "print '%'*40\n",
    "\n",
    "test_limit_missing_values = len(test_df) * limit_missing_values\n",
    "print \"Test columns with null values:\\n\", test_df.columns[test_df.isnull().sum().values > test_limit_missing_values]\n",
    "\n"
   ]
  },
  {
   "cell_type": "markdown",
   "metadata": {},
   "source": [
    "丢弃过多空数据的列"
   ]
  },
  {
   "cell_type": "code",
   "execution_count": 6,
   "metadata": {
    "collapsed": false,
    "scrolled": true
   },
   "outputs": [
    {
     "data": {
      "text/plain": [
       "227"
      ]
     },
     "execution_count": 6,
     "metadata": {},
     "output_type": "execute_result"
    }
   ],
   "source": [
    "drop_columns = ['Alley', u'FireplaceQu', u'PoolQC', u'Fence', u'MiscFeature']\n",
    "train_df = train_df.drop(drop_columns, axis=1)\n",
    "test_df = test_df.drop(drop_columns, axis=1)\n",
    "\n",
    "# train_df = train_df.drop(missing_data[missing_data['Total'] > 1].index, axis=1)\n",
    "# train_df = train_df.drop(train_df.loc[train_df['Electrical'].isnull()].index)\n",
    "train_df.isnull().sum().max()\n",
    "\n",
    "# test_df = test_df.drop(missing_data[missing_data['Total'] > 1].index, axis=1)\n",
    "test_df.isnull().sum().max()\n"
   ]
  },
  {
   "cell_type": "code",
   "execution_count": 7,
   "metadata": {
    "collapsed": false,
    "scrolled": true
   },
   "outputs": [
    {
     "data": {
      "text/plain": [
       "Index([u'Id', u'MSSubClass', u'MSZoning', u'LotFrontage', u'LotArea',\n",
       "       u'Street', u'LotShape', u'LandContour', u'Utilities', u'LotConfig',\n",
       "       u'LandSlope', u'Neighborhood', u'Condition1', u'Condition2',\n",
       "       u'BldgType', u'HouseStyle', u'OverallQual', u'OverallCond',\n",
       "       u'YearBuilt', u'YearRemodAdd', u'RoofStyle', u'RoofMatl',\n",
       "       u'Exterior1st', u'Exterior2nd', u'MasVnrType', u'MasVnrArea',\n",
       "       u'ExterQual', u'ExterCond', u'Foundation', u'BsmtQual', u'BsmtCond',\n",
       "       u'BsmtExposure', u'BsmtFinType1', u'BsmtFinSF1', u'BsmtFinType2',\n",
       "       u'BsmtFinSF2', u'BsmtUnfSF', u'TotalBsmtSF', u'Heating', u'HeatingQC',\n",
       "       u'CentralAir', u'Electrical', u'1stFlrSF', u'2ndFlrSF', u'LowQualFinSF',\n",
       "       u'GrLivArea', u'BsmtFullBath', u'BsmtHalfBath', u'FullBath',\n",
       "       u'HalfBath', u'BedroomAbvGr', u'KitchenAbvGr', u'KitchenQual',\n",
       "       u'TotRmsAbvGrd', u'Functional', u'Fireplaces', u'GarageType',\n",
       "       u'GarageYrBlt', u'GarageFinish', u'GarageCars', u'GarageArea',\n",
       "       u'GarageQual', u'GarageCond', u'PavedDrive', u'WoodDeckSF',\n",
       "       u'OpenPorchSF', u'EnclosedPorch', u'3SsnPorch', u'ScreenPorch',\n",
       "       u'PoolArea', u'MiscVal', u'MoSold', u'YrSold', u'SaleType',\n",
       "       u'SaleCondition', u'SalePrice'],\n",
       "      dtype='object')"
      ]
     },
     "execution_count": 7,
     "metadata": {},
     "output_type": "execute_result"
    }
   ],
   "source": [
    "train_df.columns"
   ]
  },
  {
   "cell_type": "markdown",
   "metadata": {},
   "source": [
    "II:特征意义"
   ]
  },
  {
   "cell_type": "markdown",
   "metadata": {},
   "source": [
    "特征意义：\n",
    "\n",
    "0、ID 无意义，去掉\n",
    "\n",
    "1、MSSubClass 住所风格\n",
    "\n",
    "2、MSZoing 地带\n",
    "\n",
    "3、LotFrontage 住宅到街道的步行距离\n",
    "\n",
    "4、LotArea 地块面积\n",
    "\n",
    "5、。。"
   ]
  },
  {
   "cell_type": "code",
   "execution_count": 8,
   "metadata": {
    "collapsed": false
   },
   "outputs": [],
   "source": [
    "# train_df = train_df.drop(['Id'], axis=1)\n",
    "# test_df = test_df.drop(['Id'], axis=1)"
   ]
  },
  {
   "cell_type": "markdown",
   "metadata": {},
   "source": [
    "III: 填充空数据\n",
    "\n",
    "数值：中位数\n",
    "\n",
    "类别：众数"
   ]
  },
  {
   "cell_type": "code",
   "execution_count": 9,
   "metadata": {
    "collapsed": false
   },
   "outputs": [
    {
     "name": "stdout",
     "output_type": "stream",
     "text": [
      "['LotFrontage', 'MasVnrType', 'MasVnrArea', 'BsmtQual', 'BsmtCond', 'BsmtExposure', 'BsmtFinType1', 'BsmtFinType2', 'Electrical', 'GarageType', 'GarageYrBlt', 'GarageFinish', 'GarageQual', 'GarageCond']\n",
      "%%%%%%%%%%%%%%%%%%%%%%%%%%%%%%%%%%%%%%%%\n",
      "['MSZoning', 'LotFrontage', 'Utilities', 'Exterior1st', 'Exterior2nd', 'MasVnrType', 'MasVnrArea', 'BsmtQual', 'BsmtCond', 'BsmtExposure', 'BsmtFinType1', 'BsmtFinSF1', 'BsmtFinType2', 'BsmtFinSF2', 'BsmtUnfSF', 'TotalBsmtSF', 'BsmtFullBath', 'BsmtHalfBath', 'KitchenQual', 'Functional', 'GarageType', 'GarageYrBlt', 'GarageFinish', 'GarageCars', 'GarageArea', 'GarageQual', 'GarageCond', 'SaleType']\n"
     ]
    }
   ],
   "source": [
    "missing_columns = list(train_df.columns[train_df.isnull().sum() != 0])\n",
    "print (missing_columns)\n",
    "# train_df[missing_columns].describe(include = 'all')\n",
    "print '%' * 40\n",
    "test_missing_columns = list(test_df.columns[test_df.isnull().sum() != 0])\n",
    "print test_missing_columns"
   ]
  },
  {
   "cell_type": "code",
   "execution_count": 10,
   "metadata": {
    "code_folding": [],
    "collapsed": false
   },
   "outputs": [],
   "source": [
    "# combine = [train_df, test_df]\n",
    "train_missing_columns_nums = ['LotFrontage', 'MasVnrArea','GarageYrBlt']\n",
    "train_missing_columns_categories = ['MasVnrType', 'BsmtQual','BsmtCond', \n",
    "                              'BsmtExposure','BsmtFinType1','BsmtFinType2', \n",
    "                              'Electrical', 'GarageType', 'GarageFinish',\n",
    "                              'GarageQual','GarageCond']\n",
    "\n",
    "condition = test_df[test_missing_columns].describe(include='all').loc['mean'].isnull()\n",
    "\n",
    "test_missing_columns_categories = test_df[test_missing_columns].describe(include='all').loc['mean'].loc[condition].index\n",
    "test_missing_columns_nums = [x for x in test_missing_columns if x not in test_missing_columns_categories]\n",
    "\n",
    "# for data in combine:\n",
    "    \n",
    "#     # 通过中位数填充 median()\n",
    "#     for column in missing_columns_nums:\n",
    "#         data[column].fillna(data[column].median(), inplace= True)\n",
    "\n",
    "# 通过中位数填充\n",
    "for column in train_missing_columns_nums:\n",
    "    train_df[column].fillna(train_df[column].median(), inplace=True)\n",
    "\n",
    "for column in test_missing_columns_nums:\n",
    "    test_df[column].fillna(test_df[column].median(), inplace=True)\n",
    "    \n",
    "    \n",
    "# 通过最大类填充，众数\n",
    "for category in train_missing_columns_categories:\n",
    "#         print data[category].value_counts().index[0]\n",
    "#     print category, train_df[category].mode()[0]\n",
    "    train_df[category].fillna(train_df[category].mode()[0], inplace=True)\n",
    "    \n",
    "for category in test_missing_columns_categories:\n",
    "    test_df[category].fillna(test_df[category].mode()[0], inplace=True)"
   ]
  },
  {
   "cell_type": "code",
   "execution_count": 11,
   "metadata": {
    "collapsed": false
   },
   "outputs": [
    {
     "name": "stdout",
     "output_type": "stream",
     "text": [
      "0\n",
      "0\n"
     ]
    }
   ],
   "source": [
    "print train_df.isnull().sum().max()\n",
    "print test_df.isnull().sum().max()\n",
    "# print test_df.loc[test_df.isnull()"
   ]
  },
  {
   "cell_type": "markdown",
   "metadata": {},
   "source": [
    "### 创造性"
   ]
  },
  {
   "cell_type": "markdown",
   "metadata": {},
   "source": [
    "### 转化性（类别数据）"
   ]
  },
  {
   "cell_type": "code",
   "execution_count": 12,
   "metadata": {
    "collapsed": false
   },
   "outputs": [],
   "source": [
    "features_train = train_df.drop(['SalePrice'], axis=1)\n",
    "labels_train = train_df['SalePrice']\n",
    "features_train = pd.get_dummies(features_train)\n",
    "features_test = pd.get_dummies(test_df)\n",
    "\n",
    "missing_cols = set(features_train.columns) - set(features_test.columns)\n",
    "for column in missing_cols:\n",
    "    features_test[column] = 0"
   ]
  },
  {
   "cell_type": "code",
   "execution_count": 13,
   "metadata": {
    "collapsed": false
   },
   "outputs": [
    {
     "name": "stdout",
     "output_type": "stream",
     "text": [
      "271 271\n"
     ]
    }
   ],
   "source": [
    "print len(features_train.columns), len(features_test.columns)"
   ]
  },
  {
   "cell_type": "markdown",
   "metadata": {},
   "source": [
    "PCA降维\n"
   ]
  },
  {
   "cell_type": "code",
   "execution_count": 14,
   "metadata": {
    "collapsed": false
   },
   "outputs": [],
   "source": [
    "# # 数据标准化，避免量纲的影响，注意测试训练集一起做\n",
    "# from sklearn.preprocessing import StandardScaler\n",
    "# from sklearn.decomposition import PCA\n",
    "# scaler = StandardScaler()\n",
    "# features_train = scaler.fit_transform(features_train)\n",
    "# features_test = scaler.fit_transform(features_test)\n"
   ]
  },
  {
   "cell_type": "code",
   "execution_count": 15,
   "metadata": {
    "collapsed": false
   },
   "outputs": [],
   "source": [
    "# pca = PCA(n_components=10)\n",
    "# features_train = pca.fit_transform(features_train)\n",
    "# features_test = pca.fit_transform(features_test)\n",
    "\n",
    "# # 根据array新建一个DataFrame (二维数组， 列名)\n",
    "# features_train = pd.DataFrame(features_train, columns = ['Dimension' + str(i) for i in range(1,11)])\n",
    "# features_test = pd.DataFrame(features_test, columns = ['Dimension' + str(i) for i in range(1,11)])\n"
   ]
  },
  {
   "cell_type": "code",
   "execution_count": 16,
   "metadata": {
    "collapsed": false,
    "scrolled": true
   },
   "outputs": [],
   "source": [
    "# print features_train.head(10)"
   ]
  },
  {
   "cell_type": "markdown",
   "metadata": {},
   "source": [
    "### 分割训练和测试数据"
   ]
  },
  {
   "cell_type": "code",
   "execution_count": 17,
   "metadata": {
    "collapsed": false
   },
   "outputs": [
    {
     "name": "stdout",
     "output_type": "stream",
     "text": [
      "1168 292\n"
     ]
    }
   ],
   "source": [
    "from sklearn.model_selection import train_test_split\n",
    "\n",
    "# 分割features_train 和 labels_train, 测试集大小 = 20%，状态：随机，可复现\n",
    "# 顺序：测试特征，训练特征，测试目标，训练目标\n",
    "\n",
    "X_train, X_test, y_train, y_test = train_test_split(features_train, labels_train, test_size = 0.2, random_state = 42)\n",
    "\n",
    "# 输出数量观察\n",
    "\n",
    "print len(X_train), len(X_test)"
   ]
  },
  {
   "cell_type": "markdown",
   "metadata": {},
   "source": [
    "# 探索性分析 EDA"
   ]
  },
  {
   "cell_type": "markdown",
   "metadata": {},
   "source": []
  },
  {
   "cell_type": "markdown",
   "metadata": {},
   "source": [
    "# 模型"
   ]
  },
  {
   "cell_type": "markdown",
   "metadata": {},
   "source": [
    "## 分析问题，确定模型"
   ]
  },
  {
   "cell_type": "markdown",
   "metadata": {},
   "source": [
    "问题为回归问题，可用模型：线性回归，决策树（C&RT决策树），随机森林，GBDT"
   ]
  },
  {
   "cell_type": "markdown",
   "metadata": {},
   "source": [
    "## 首先用简单的模型进行试验，观察评分"
   ]
  },
  {
   "cell_type": "markdown",
   "metadata": {},
   "source": [
    "回归模型评分指标包括：\n",
    "\n",
    "1、SSE误差平方和\n",
    "\n",
    "2、R-square（决定系数）\n",
    "\n",
    "3、矫正决定系数"
   ]
  },
  {
   "cell_type": "code",
   "execution_count": 18,
   "metadata": {
    "collapsed": false,
    "scrolled": true
   },
   "outputs": [
    {
     "name": "stdout",
     "output_type": "stream",
     "text": [
      "{'RandomForestRegressor': 0.8775769288155737, 'LinearRegression': 0.88609617315549061, 'DecisionTreeRegressor': 0.76838933093530226}\n"
     ]
    }
   ],
   "source": [
    "# 导入算法模型和评分标准 \n",
    "from sklearn.tree import DecisionTreeRegressor\n",
    "from sklearn.linear_model import LinearRegression\n",
    "from sklearn.ensemble import RandomForestRegressor\n",
    "from sklearn.metrics import fbeta_score, make_scorer, r2_score\n",
    "\n",
    "\n",
    "# 初始化,确定随机状态，可复现\n",
    "reg1 = DecisionTreeRegressor(random_state = 42)\n",
    "reg2 = LinearRegression()\n",
    "reg3 = RandomForestRegressor(random_state = 42)\n",
    "\n",
    "\n",
    "# 建立字典，收集学习器的效果\n",
    "# 学习，收集预测得分\n",
    "results = {}\n",
    "for reg in [reg1, reg2, reg3]:\n",
    "    # 回归器的名称\n",
    "    reg_name = reg.__class__.__name__\n",
    "    reg.fit(X_train, y_train)\n",
    "    pred_test = reg.predict(X_test)\n",
    "    results[reg_name] = r2_score(y_test, pred_test)\n",
    "    \n",
    "print results"
   ]
  },
  {
   "cell_type": "markdown",
   "metadata": {},
   "source": [
    "## 网格搜索调参"
   ]
  },
  {
   "cell_type": "code",
   "execution_count": 19,
   "metadata": {
    "collapsed": false
   },
   "outputs": [],
   "source": [
    "# 模型：RandomForest\n",
    "# 导入Grid\n",
    "from sklearn.model_selection import GridSearchCV\n",
    "\n",
    "# 初始化回归模型\n",
    "reg = RandomForestRegressor(random_state=42)\n",
    "\n",
    "# 确定参数列表\n",
    "parameters = {'min_samples_split':range(2,6), 'max_depth':range(10, 101, 10)}\n",
    "\n",
    "# 确定评分标准\n",
    "scorer = make_scorer(r2_score)\n",
    "\n",
    "# 回归模型使用网格搜索\n",
    "grid_reg = GridSearchCV(reg, parameters, scoring = scorer)\n",
    "\n",
    "# 训练\n",
    "grid_reg.fit(X_train, y_train)\n",
    "\n",
    "# 获得最佳拟合回归器\n",
    "best_reg = grid_reg.best_estimator_"
   ]
  },
  {
   "cell_type": "code",
   "execution_count": 20,
   "metadata": {
    "collapsed": false
   },
   "outputs": [],
   "source": [
    "# # 模型：线性回归\n",
    "# from sklearn.model_selection import GridSearchCV\n",
    "\n",
    "# # 初始化回归模型\n",
    "# reg = LinearRegression()\n",
    "\n",
    "# # 确定参数列表\n",
    "# # parameters = {'fit_intercept':('True', 'False'), 'normalize':('True', 'False'), 'copy_X':('True', 'False')}\n",
    "\n",
    "# # 确定评分标准\n",
    "# # scorer = make_scorer(r2_score)\n",
    "\n",
    "# # 回归模型使用网格搜索\n",
    "# # grid_reg = GridSearchCV(reg, parameters, scoring = scorer)\n",
    "\n",
    "# # 训练\n",
    "# reg.fit(X_train, y_train)\n",
    "\n",
    "# # 获得最佳拟合回归器\n",
    "# best_reg = reg"
   ]
  },
  {
   "cell_type": "markdown",
   "metadata": {},
   "source": [
    "## 确定在测试集上的分数"
   ]
  },
  {
   "cell_type": "code",
   "execution_count": 21,
   "metadata": {
    "collapsed": false
   },
   "outputs": [
    {
     "data": {
      "text/plain": [
       "0.80758391043135536"
      ]
     },
     "execution_count": 21,
     "metadata": {},
     "output_type": "execute_result"
    }
   ],
   "source": [
    "pred_y_test = best_reg.predict(X_test)\n",
    "r2_score(pred_y_test, y_test)"
   ]
  },
  {
   "cell_type": "markdown",
   "metadata": {},
   "source": [
    "# 预测目标数据"
   ]
  },
  {
   "cell_type": "code",
   "execution_count": 22,
   "metadata": {
    "collapsed": false
   },
   "outputs": [
    {
     "data": {
      "text/plain": [
       "array([ 122372.5       ,  154812.91666667,  174595.11904762, ...,\n",
       "        169980.54761905,  117866.66666667,  233128.64444444])"
      ]
     },
     "execution_count": 22,
     "metadata": {},
     "output_type": "execute_result"
    }
   ],
   "source": [
    "pred = best_reg.predict(features_test)\n",
    "pred"
   ]
  },
  {
   "cell_type": "markdown",
   "metadata": {},
   "source": [
    "# 输出结果"
   ]
  },
  {
   "cell_type": "code",
   "execution_count": 23,
   "metadata": {
    "collapsed": false
   },
   "outputs": [
    {
     "data": {
      "text/html": [
       "<div>\n",
       "<style scoped>\n",
       "    .dataframe tbody tr th:only-of-type {\n",
       "        vertical-align: middle;\n",
       "    }\n",
       "\n",
       "    .dataframe tbody tr th {\n",
       "        vertical-align: top;\n",
       "    }\n",
       "\n",
       "    .dataframe thead th {\n",
       "        text-align: right;\n",
       "    }\n",
       "</style>\n",
       "<table border=\"1\" class=\"dataframe\">\n",
       "  <thead>\n",
       "    <tr style=\"text-align: right;\">\n",
       "      <th></th>\n",
       "      <th>SalePrice</th>\n",
       "    </tr>\n",
       "    <tr>\n",
       "      <th>Id</th>\n",
       "      <th></th>\n",
       "    </tr>\n",
       "  </thead>\n",
       "  <tbody>\n",
       "    <tr>\n",
       "      <th>1461</th>\n",
       "      <td>122372.500000</td>\n",
       "    </tr>\n",
       "    <tr>\n",
       "      <th>1462</th>\n",
       "      <td>154812.916667</td>\n",
       "    </tr>\n",
       "    <tr>\n",
       "      <th>1463</th>\n",
       "      <td>174595.119048</td>\n",
       "    </tr>\n",
       "    <tr>\n",
       "      <th>1464</th>\n",
       "      <td>185887.619048</td>\n",
       "    </tr>\n",
       "    <tr>\n",
       "      <th>1465</th>\n",
       "      <td>252622.750000</td>\n",
       "    </tr>\n",
       "    <tr>\n",
       "      <th>1466</th>\n",
       "      <td>190169.166667</td>\n",
       "    </tr>\n",
       "    <tr>\n",
       "      <th>1467</th>\n",
       "      <td>165754.642857</td>\n",
       "    </tr>\n",
       "    <tr>\n",
       "      <th>1468</th>\n",
       "      <td>183000.866667</td>\n",
       "    </tr>\n",
       "    <tr>\n",
       "      <th>1469</th>\n",
       "      <td>167231.130952</td>\n",
       "    </tr>\n",
       "    <tr>\n",
       "      <th>1470</th>\n",
       "      <td>106734.166667</td>\n",
       "    </tr>\n",
       "    <tr>\n",
       "      <th>1471</th>\n",
       "      <td>162200.000000</td>\n",
       "    </tr>\n",
       "    <tr>\n",
       "      <th>1472</th>\n",
       "      <td>98550.416667</td>\n",
       "    </tr>\n",
       "    <tr>\n",
       "      <th>1473</th>\n",
       "      <td>92260.833333</td>\n",
       "    </tr>\n",
       "    <tr>\n",
       "      <th>1474</th>\n",
       "      <td>150626.250000</td>\n",
       "    </tr>\n",
       "    <tr>\n",
       "      <th>1475</th>\n",
       "      <td>139855.178571</td>\n",
       "    </tr>\n",
       "    <tr>\n",
       "      <th>1476</th>\n",
       "      <td>343202.598333</td>\n",
       "    </tr>\n",
       "    <tr>\n",
       "      <th>1477</th>\n",
       "      <td>261555.908333</td>\n",
       "    </tr>\n",
       "    <tr>\n",
       "      <th>1478</th>\n",
       "      <td>294834.446667</td>\n",
       "    </tr>\n",
       "    <tr>\n",
       "      <th>1479</th>\n",
       "      <td>230721.208333</td>\n",
       "    </tr>\n",
       "    <tr>\n",
       "      <th>1480</th>\n",
       "      <td>404812.321429</td>\n",
       "    </tr>\n",
       "    <tr>\n",
       "      <th>1481</th>\n",
       "      <td>295518.033333</td>\n",
       "    </tr>\n",
       "    <tr>\n",
       "      <th>1482</th>\n",
       "      <td>207885.916667</td>\n",
       "    </tr>\n",
       "    <tr>\n",
       "      <th>1483</th>\n",
       "      <td>174000.938095</td>\n",
       "    </tr>\n",
       "    <tr>\n",
       "      <th>1484</th>\n",
       "      <td>153465.500000</td>\n",
       "    </tr>\n",
       "    <tr>\n",
       "      <th>1485</th>\n",
       "      <td>166593.516667</td>\n",
       "    </tr>\n",
       "    <tr>\n",
       "      <th>1486</th>\n",
       "      <td>190087.516667</td>\n",
       "    </tr>\n",
       "    <tr>\n",
       "      <th>1487</th>\n",
       "      <td>306106.678333</td>\n",
       "    </tr>\n",
       "    <tr>\n",
       "      <th>1488</th>\n",
       "      <td>256563.533333</td>\n",
       "    </tr>\n",
       "    <tr>\n",
       "      <th>1489</th>\n",
       "      <td>168029.666667</td>\n",
       "    </tr>\n",
       "    <tr>\n",
       "      <th>1490</th>\n",
       "      <td>175840.833333</td>\n",
       "    </tr>\n",
       "    <tr>\n",
       "      <th>...</th>\n",
       "      <td>...</td>\n",
       "    </tr>\n",
       "    <tr>\n",
       "      <th>2890</th>\n",
       "      <td>81278.333333</td>\n",
       "    </tr>\n",
       "    <tr>\n",
       "      <th>2891</th>\n",
       "      <td>137969.614286</td>\n",
       "    </tr>\n",
       "    <tr>\n",
       "      <th>2892</th>\n",
       "      <td>59276.666667</td>\n",
       "    </tr>\n",
       "    <tr>\n",
       "      <th>2893</th>\n",
       "      <td>102920.900000</td>\n",
       "    </tr>\n",
       "    <tr>\n",
       "      <th>2894</th>\n",
       "      <td>69460.000000</td>\n",
       "    </tr>\n",
       "    <tr>\n",
       "      <th>2895</th>\n",
       "      <td>311181.750000</td>\n",
       "    </tr>\n",
       "    <tr>\n",
       "      <th>2896</th>\n",
       "      <td>250815.470000</td>\n",
       "    </tr>\n",
       "    <tr>\n",
       "      <th>2897</th>\n",
       "      <td>198932.190476</td>\n",
       "    </tr>\n",
       "    <tr>\n",
       "      <th>2898</th>\n",
       "      <td>155756.880952</td>\n",
       "    </tr>\n",
       "    <tr>\n",
       "      <th>2899</th>\n",
       "      <td>234669.541667</td>\n",
       "    </tr>\n",
       "    <tr>\n",
       "      <th>2900</th>\n",
       "      <td>159175.000000</td>\n",
       "    </tr>\n",
       "    <tr>\n",
       "      <th>2901</th>\n",
       "      <td>191109.166667</td>\n",
       "    </tr>\n",
       "    <tr>\n",
       "      <th>2902</th>\n",
       "      <td>175857.500000</td>\n",
       "    </tr>\n",
       "    <tr>\n",
       "      <th>2903</th>\n",
       "      <td>325608.736667</td>\n",
       "    </tr>\n",
       "    <tr>\n",
       "      <th>2904</th>\n",
       "      <td>313830.400000</td>\n",
       "    </tr>\n",
       "    <tr>\n",
       "      <th>2905</th>\n",
       "      <td>122441.525000</td>\n",
       "    </tr>\n",
       "    <tr>\n",
       "      <th>2906</th>\n",
       "      <td>160573.214286</td>\n",
       "    </tr>\n",
       "    <tr>\n",
       "      <th>2907</th>\n",
       "      <td>106598.826667</td>\n",
       "    </tr>\n",
       "    <tr>\n",
       "      <th>2908</th>\n",
       "      <td>122731.019048</td>\n",
       "    </tr>\n",
       "    <tr>\n",
       "      <th>2909</th>\n",
       "      <td>160612.638095</td>\n",
       "    </tr>\n",
       "    <tr>\n",
       "      <th>2910</th>\n",
       "      <td>66738.333333</td>\n",
       "    </tr>\n",
       "    <tr>\n",
       "      <th>2911</th>\n",
       "      <td>85273.333333</td>\n",
       "    </tr>\n",
       "    <tr>\n",
       "      <th>2912</th>\n",
       "      <td>138968.743333</td>\n",
       "    </tr>\n",
       "    <tr>\n",
       "      <th>2913</th>\n",
       "      <td>88057.566667</td>\n",
       "    </tr>\n",
       "    <tr>\n",
       "      <th>2914</th>\n",
       "      <td>71880.000000</td>\n",
       "    </tr>\n",
       "    <tr>\n",
       "      <th>2915</th>\n",
       "      <td>73005.000000</td>\n",
       "    </tr>\n",
       "    <tr>\n",
       "      <th>2916</th>\n",
       "      <td>82968.333333</td>\n",
       "    </tr>\n",
       "    <tr>\n",
       "      <th>2917</th>\n",
       "      <td>169980.547619</td>\n",
       "    </tr>\n",
       "    <tr>\n",
       "      <th>2918</th>\n",
       "      <td>117866.666667</td>\n",
       "    </tr>\n",
       "    <tr>\n",
       "      <th>2919</th>\n",
       "      <td>233128.644444</td>\n",
       "    </tr>\n",
       "  </tbody>\n",
       "</table>\n",
       "<p>1459 rows × 1 columns</p>\n",
       "</div>"
      ],
      "text/plain": [
       "          SalePrice\n",
       "Id                 \n",
       "1461  122372.500000\n",
       "1462  154812.916667\n",
       "1463  174595.119048\n",
       "1464  185887.619048\n",
       "1465  252622.750000\n",
       "1466  190169.166667\n",
       "1467  165754.642857\n",
       "1468  183000.866667\n",
       "1469  167231.130952\n",
       "1470  106734.166667\n",
       "1471  162200.000000\n",
       "1472   98550.416667\n",
       "1473   92260.833333\n",
       "1474  150626.250000\n",
       "1475  139855.178571\n",
       "1476  343202.598333\n",
       "1477  261555.908333\n",
       "1478  294834.446667\n",
       "1479  230721.208333\n",
       "1480  404812.321429\n",
       "1481  295518.033333\n",
       "1482  207885.916667\n",
       "1483  174000.938095\n",
       "1484  153465.500000\n",
       "1485  166593.516667\n",
       "1486  190087.516667\n",
       "1487  306106.678333\n",
       "1488  256563.533333\n",
       "1489  168029.666667\n",
       "1490  175840.833333\n",
       "...             ...\n",
       "2890   81278.333333\n",
       "2891  137969.614286\n",
       "2892   59276.666667\n",
       "2893  102920.900000\n",
       "2894   69460.000000\n",
       "2895  311181.750000\n",
       "2896  250815.470000\n",
       "2897  198932.190476\n",
       "2898  155756.880952\n",
       "2899  234669.541667\n",
       "2900  159175.000000\n",
       "2901  191109.166667\n",
       "2902  175857.500000\n",
       "2903  325608.736667\n",
       "2904  313830.400000\n",
       "2905  122441.525000\n",
       "2906  160573.214286\n",
       "2907  106598.826667\n",
       "2908  122731.019048\n",
       "2909  160612.638095\n",
       "2910   66738.333333\n",
       "2911   85273.333333\n",
       "2912  138968.743333\n",
       "2913   88057.566667\n",
       "2914   71880.000000\n",
       "2915   73005.000000\n",
       "2916   82968.333333\n",
       "2917  169980.547619\n",
       "2918  117866.666667\n",
       "2919  233128.644444\n",
       "\n",
       "[1459 rows x 1 columns]"
      ]
     },
     "execution_count": 23,
     "metadata": {},
     "output_type": "execute_result"
    }
   ],
   "source": [
    "# 增加索引，列名，构建DataFrame，符合输出数据格式\n",
    "\n",
    "test_df = pd.read_csv('test.csv')\n",
    "predict_df = pd.DataFrame({'Id': test_df['Id'], 'SalePrice': pred})\n",
    "\n",
    "# DataFrame设定index\n",
    "predict_df = predict_df.set_index('Id')\n",
    "\n",
    "# 重命名DataFrame的列，列名 = 字典{原：替换后}\n",
    "# predict_df.rename(columns = {predict_df.columns[0]: 'Id'}, inplace=True)\n",
    "\n",
    "predict_df"
   ]
  },
  {
   "cell_type": "code",
   "execution_count": 24,
   "metadata": {
    "collapsed": false
   },
   "outputs": [],
   "source": [
    "predict_df.to_csv('Submission.csv')"
   ]
  },
  {
   "cell_type": "markdown",
   "metadata": {},
   "source": [
    "# 待优化策略"
   ]
  },
  {
   "cell_type": "markdown",
   "metadata": {
    "collapsed": true
   },
   "source": [
    "I：PCA得分： 0.21683\n",
    "\n",
    "II：去掉PCA得分：0.18129，3227位\n",
    "\n",
    "II：待优化\n",
    "\n",
    "待优化点有：\n",
    "\n",
    "1、评分标准更改为Kaggle标准\n",
    "\n",
    "2、特征分析，创造新特征\n",
    "\n",
    "3、探索性分析，确定关键特征\n",
    "\n",
    "4、Xgboost学习\n",
    "\n",
    "5、集成方法\n",
    "\n",
    "\n",
    "待解决问题有：\n",
    "\n",
    "1、为什么使用PCA降维后效果不好？\n",
    "\n",
    "2、怎么判断模型存在过拟合？\n",
    "\n",
    "3、线性回归为什么有负值\n",
    "\n",
    "\n"
   ]
  },
  {
   "cell_type": "code",
   "execution_count": null,
   "metadata": {
    "collapsed": true
   },
   "outputs": [],
   "source": []
  }
 ],
 "metadata": {
  "anaconda-cloud": {},
  "kernelspec": {
   "display_name": "Python [default]",
   "language": "python",
   "name": "python2"
  },
  "language_info": {
   "codemirror_mode": {
    "name": "ipython",
    "version": 2
   },
   "file_extension": ".py",
   "mimetype": "text/x-python",
   "name": "python",
   "nbconvert_exporter": "python",
   "pygments_lexer": "ipython2",
   "version": "2.7.13"
  },
  "toc": {
   "base_numbering": 1,
   "nav_menu": {},
   "number_sections": true,
   "sideBar": true,
   "skip_h1_title": false,
   "title_cell": "Table of Contents",
   "title_sidebar": "Contents",
   "toc_cell": false,
   "toc_position": {
    "height": "calc(100% - 180px)",
    "left": "10px",
    "top": "150px",
    "width": "231px"
   },
   "toc_section_display": true,
   "toc_window_display": true
  }
 },
 "nbformat": 4,
 "nbformat_minor": 1
}
